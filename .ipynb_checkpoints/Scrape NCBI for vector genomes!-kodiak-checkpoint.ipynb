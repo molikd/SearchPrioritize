{
 "cells": [
  {
   "cell_type": "markdown",
   "metadata": {},
   "source": [
    "## Scrape NCBI for Vector Genome Stats!!! ##"
   ]
  },
  {
   "cell_type": "code",
   "execution_count": null,
   "metadata": {},
   "outputs": [],
   "source": []
  },
  {
   "cell_type": "markdown",
   "metadata": {},
   "source": [
    "This is a modification of the EBP tracking script to get just the Vector Genome stats for the R03 to NIAID\n",
    "The aim is to get the species talked about at Vector base.\n",
    "\n",
    "The goal of this script is to automagically get a nice table and figure describing the state of the EBP in terms of genomes available at NCBI  \n",
    "The link is https://www.ncbi.nlm.nih.gov/assembly?term=eucaryotes  \n",
    "My first alterration from the EBP script is to just look at arthropods:  \n",
    "https://www.ncbi.nlm.nih.gov/assembly/?term=arthropoda  \n",
    "\n",
    "The plan is to download the table, parse the data and present it a nice way automatically for easy updates in the future."
   ]
  },
  {
   "cell_type": "markdown",
   "metadata": {},
   "source": [
    "### List of graphs and charts I want to make:\n",
    "1. Assembly quality - x axis contig, y axis scaffold **Done!**\n",
    "2. EBP quality assemblies by year      **Sorta - go back and Redo!**\n",
    "3. Draft quality assemblies by year      **Sorta - go abck and Redo!**\n",
    "4. Families with an EBP quality assembly by year  **Done!**\n",
    "5. Families with a draft quality assembly by year   **Done!**\n",
    "6. Total assemblies or any kind by year **Done!**\n",
    "7. Families with an assembly of any kind by year **Done!**\n"
   ]
  },
  {
   "cell_type": "markdown",
   "metadata": {},
   "source": [
    "SO on playing with this a bit more, the easiest thing seems to be to get the XML format file from NCBI.\n",
    "\n",
    "1. Do this search by clicking this link:\n",
    "https://www.ncbi.nlm.nih.gov/assembly/?term=arthropoda\n",
    "\n",
    "2. Click on \"send to\" - choose destination \"file\" set the format to \"XML\" (to get all the data), sort by \"Contig N50 down\" and finally \"Create file\"\n",
    "\n",
    "3. This will download a file called \"assembly_result.xml\" which is the input to the parsing script.\n",
    "\n",
    "4. Put this file in the same directory as the images \"NCBI_Genome_stats_images\" - so the script knows where to look for it.\n",
    "\n",
    "![Title](NCBI_Genome_stats_images/NCBI_arthropod_assembly_search_sept_2019.png)"
   ]
  },
  {
   "cell_type": "markdown",
   "metadata": {},
   "source": [
    "### Some code to take the xml and make a tab delimited file to read into pandas ###"
   ]
  },
  {
   "cell_type": "code",
   "execution_count": 1,
   "metadata": {},
   "outputs": [
    {
     "name": "stdout",
     "output_type": "stream",
     "text": [
      "('species_count = ', 766)\n"
     ]
    }
   ],
   "source": [
    "# Now import the file, and parse the xml!\n",
    "# I will do this as it is a straight text file - as I think that is easier than fucking around with xml that gives errors in other peoples parsers\n",
    "# for now just make a tab delimited file and open it in pandas\n",
    "\n",
    "import re\n",
    "\n",
    "xml_file = \"NCBI_Genome_stats_images/assembly_result.xml\"\n",
    "out_file = xml_file + \"_tab_delimited_file.txt\"\n",
    "fhout = open(out_file, mode='w')\n",
    "fhout.write(\"species\\tcontig_n50\\tscaffold_n50\\ttotal_length\\tstatus\\tass_accession\\tass_release_date\\n\")\n",
    "species_count = 0\n",
    "with open(xml_file) as xml_fh:\n",
    "    for line in xml_fh:\n",
    "        \n",
    "        search_obj_acc = re.search('<AssemblyAccession>(.+)<', line)\n",
    "        search_obj_species = re.search('<SpeciesName>(.+)</SpeciesName>', line)\n",
    "        search_obj_ass_status = re.search('<AssemblyStatus>(.+)</AssemblyStatus>', line)\n",
    "        search_obj_ass_release_date = re.search('<AsmReleaseDate_GenBank>(\\d+/\\d+/\\d+).+</AsmReleaseDate_GenBank>', line)\n",
    "        search_obj_contig_n50 = re.search('<ContigN50>(\\d+)</ContigN50>', line)\n",
    "        search_obj_scaf_n50 = re.search('<ScaffoldN50>(\\d+)</ScaffoldN50>', line)\n",
    "        search_obj_end_record = re.search('</DocumentSummary>', line)\n",
    "        search_obj_total_length = re.search('total_length&quot; sequence_tag=&quot;all&quot;&gt;(\\d+)&lt', line)\n",
    "\n",
    "        \n",
    "        if search_obj_acc:\n",
    "            ass_accession = search_obj_acc.group(1)\n",
    "            #print(search_obj_acc.group(1))\n",
    "        if search_obj_species:\n",
    "            species = search_obj_species.group(1)\n",
    "            #print(search_obj_species.group(1))\n",
    "        if search_obj_ass_status:\n",
    "            status = search_obj_ass_status.group(1)\n",
    "            #print(search_obj_ass_status.group(1))\n",
    "        if search_obj_ass_release_date:\n",
    "            ass_release_date = search_obj_ass_release_date.group(1)\n",
    "            #print(search_obj_ass_release_date.group(1))\n",
    "        if search_obj_contig_n50:\n",
    "            contig_n50 = search_obj_contig_n50.group(1)\n",
    "            #print(search_obj_contig_n50.group(1), \"bp\")\n",
    "        if search_obj_scaf_n50:\n",
    "            scaffold_n50 = search_obj_scaf_n50.group(1)\n",
    "            #print(\"scaffold_n50 =\", scaffold_n50)\n",
    "            #print(search_obj_scaf_n50.group(1), \"bp\")\n",
    "        if search_obj_total_length:\n",
    "            total_length = search_obj_total_length.group(1)\n",
    "        \n",
    "        if search_obj_end_record:\n",
    "            print_line = species + \"\\t\" + contig_n50 + \"\\t\" + scaffold_n50 + \"\\t\" + total_length + \"\\t\" +  status + \"\\t\" + ass_accession + \"\\t\" + ass_release_date + \"\\n\"\n",
    "            #print(print_line)\n",
    "            fhout.write(print_line)\n",
    "            species_count = species_count + 1\n",
    "print(\"species_count = \", species_count)\n",
    "fhout.close()"
   ]
  },
  {
   "cell_type": "code",
   "execution_count": 2,
   "metadata": {},
   "outputs": [],
   "source": [
    "import numpy as np\n",
    "import pandas as pd\n",
    "import seaborn as sns\n",
    "import matplotlib.pyplot as plt\n",
    "import datetime\n",
    "%matplotlib inline"
   ]
  },
  {
   "cell_type": "code",
   "execution_count": 3,
   "metadata": {},
   "outputs": [],
   "source": [
    "#df = pd.read_csv(\"NCBI_Genome_stats_images/assembly_result.xml_tab_delimited_file.txt\", delimiter=\"\\t\")\n",
    "df = pd.read_csv(out_file, delimiter=\"\\t\")"
   ]
  },
  {
   "cell_type": "code",
   "execution_count": 4,
   "metadata": {},
   "outputs": [
    {
     "data": {
      "text/html": [
       "<div>\n",
       "<style scoped>\n",
       "    .dataframe tbody tr th:only-of-type {\n",
       "        vertical-align: middle;\n",
       "    }\n",
       "\n",
       "    .dataframe tbody tr th {\n",
       "        vertical-align: top;\n",
       "    }\n",
       "\n",
       "    .dataframe thead th {\n",
       "        text-align: right;\n",
       "    }\n",
       "</style>\n",
       "<table border=\"1\" class=\"dataframe\">\n",
       "  <thead>\n",
       "    <tr style=\"text-align: right;\">\n",
       "      <th></th>\n",
       "      <th>species</th>\n",
       "      <th>contig_n50</th>\n",
       "      <th>scaffold_n50</th>\n",
       "      <th>total_length</th>\n",
       "      <th>status</th>\n",
       "      <th>ass_accession</th>\n",
       "      <th>ass_release_date</th>\n",
       "    </tr>\n",
       "  </thead>\n",
       "  <tbody>\n",
       "    <tr>\n",
       "      <th>0</th>\n",
       "      <td>Drosophila pseudoobscura</td>\n",
       "      <td>26005469</td>\n",
       "      <td>30730540</td>\n",
       "      <td>164662283</td>\n",
       "      <td>Chromosome</td>\n",
       "      <td>GCA_000001765.3</td>\n",
       "      <td>2018/06/28</td>\n",
       "    </tr>\n",
       "    <tr>\n",
       "      <th>1</th>\n",
       "      <td>Drosophila simulans</td>\n",
       "      <td>22909593</td>\n",
       "      <td>24213528</td>\n",
       "      <td>146773509</td>\n",
       "      <td>Chromosome</td>\n",
       "      <td>GCA_004382185.1</td>\n",
       "      <td>2019/04/16</td>\n",
       "    </tr>\n",
       "    <tr>\n",
       "      <th>2</th>\n",
       "      <td>Drosophila melanogaster</td>\n",
       "      <td>22407379</td>\n",
       "      <td>25025258</td>\n",
       "      <td>140687039</td>\n",
       "      <td>Chromosome</td>\n",
       "      <td>GCA_003401745.1</td>\n",
       "      <td>2018/08/17</td>\n",
       "    </tr>\n",
       "  </tbody>\n",
       "</table>\n",
       "</div>"
      ],
      "text/plain": [
       "                    species  contig_n50  scaffold_n50  total_length  \\\n",
       "0  Drosophila pseudoobscura    26005469      30730540     164662283   \n",
       "1       Drosophila simulans    22909593      24213528     146773509   \n",
       "2   Drosophila melanogaster    22407379      25025258     140687039   \n",
       "\n",
       "       status    ass_accession ass_release_date  \n",
       "0  Chromosome  GCA_000001765.3       2018/06/28  \n",
       "1  Chromosome  GCA_004382185.1       2019/04/16  \n",
       "2  Chromosome  GCA_003401745.1       2018/08/17  "
      ]
     },
     "execution_count": 4,
     "metadata": {},
     "output_type": "execute_result"
    }
   ],
   "source": [
    "df.head(3)"
   ]
  },
  {
   "cell_type": "code",
   "execution_count": 5,
   "metadata": {},
   "outputs": [
    {
     "data": {
      "text/plain": [
       "766"
      ]
     },
     "execution_count": 5,
     "metadata": {},
     "output_type": "execute_result"
    }
   ],
   "source": [
    "df['species'].count()"
   ]
  },
  {
   "cell_type": "code",
   "execution_count": 6,
   "metadata": {},
   "outputs": [
    {
     "data": {
      "text/html": [
       "<div>\n",
       "<style scoped>\n",
       "    .dataframe tbody tr th:only-of-type {\n",
       "        vertical-align: middle;\n",
       "    }\n",
       "\n",
       "    .dataframe tbody tr th {\n",
       "        vertical-align: top;\n",
       "    }\n",
       "\n",
       "    .dataframe thead th {\n",
       "        text-align: right;\n",
       "    }\n",
       "</style>\n",
       "<table border=\"1\" class=\"dataframe\">\n",
       "  <thead>\n",
       "    <tr style=\"text-align: right;\">\n",
       "      <th></th>\n",
       "      <th>species</th>\n",
       "      <th>contig_n50</th>\n",
       "      <th>scaffold_n50</th>\n",
       "      <th>total_length</th>\n",
       "      <th>status</th>\n",
       "      <th>ass_accession</th>\n",
       "      <th>ass_release_date</th>\n",
       "    </tr>\n",
       "  </thead>\n",
       "  <tbody>\n",
       "    <tr>\n",
       "      <th>0</th>\n",
       "      <td>Drosophila pseudoobscura</td>\n",
       "      <td>26005469</td>\n",
       "      <td>30730540</td>\n",
       "      <td>164662283</td>\n",
       "      <td>Chromosome</td>\n",
       "      <td>GCA_000001765.3</td>\n",
       "      <td>2018/06/28</td>\n",
       "    </tr>\n",
       "    <tr>\n",
       "      <th>1</th>\n",
       "      <td>Drosophila simulans</td>\n",
       "      <td>22909593</td>\n",
       "      <td>24213528</td>\n",
       "      <td>146773509</td>\n",
       "      <td>Chromosome</td>\n",
       "      <td>GCA_004382185.1</td>\n",
       "      <td>2019/04/16</td>\n",
       "    </tr>\n",
       "    <tr>\n",
       "      <th>2</th>\n",
       "      <td>Drosophila melanogaster</td>\n",
       "      <td>22407379</td>\n",
       "      <td>25025258</td>\n",
       "      <td>140687039</td>\n",
       "      <td>Chromosome</td>\n",
       "      <td>GCA_003401745.1</td>\n",
       "      <td>2018/08/17</td>\n",
       "    </tr>\n",
       "  </tbody>\n",
       "</table>\n",
       "</div>"
      ],
      "text/plain": [
       "                    species  contig_n50  scaffold_n50  total_length  \\\n",
       "0  Drosophila pseudoobscura    26005469      30730540     164662283   \n",
       "1       Drosophila simulans    22909593      24213528     146773509   \n",
       "2   Drosophila melanogaster    22407379      25025258     140687039   \n",
       "\n",
       "       status    ass_accession ass_release_date  \n",
       "0  Chromosome  GCA_000001765.3       2018/06/28  \n",
       "1  Chromosome  GCA_004382185.1       2019/04/16  \n",
       "2  Chromosome  GCA_003401745.1       2018/08/17  "
      ]
     },
     "execution_count": 6,
     "metadata": {},
     "output_type": "execute_result"
    }
   ],
   "source": [
    "# try to remove duplicate species, but keep the longest contig N50\n",
    "df_sorted_no_dups = df.sort_values('contig_n50', ascending=False).drop_duplicates(subset=['species'])\n",
    "df_sorted_no_dups = df_sorted_no_dups.reset_index(drop=True)\n",
    "df_sorted_no_dups.head(3)"
   ]
  },
  {
   "cell_type": "code",
   "execution_count": 7,
   "metadata": {},
   "outputs": [
    {
     "data": {
      "text/plain": [
       "490"
      ]
     },
     "execution_count": 7,
     "metadata": {},
     "output_type": "execute_result"
    }
   ],
   "source": [
    "df_sorted_no_dups['species'].count()"
   ]
  },
  {
   "cell_type": "code",
   "execution_count": 8,
   "metadata": {},
   "outputs": [
    {
     "data": {
      "text/plain": [
       "count          490\n",
       "unique           3\n",
       "top       Scaffold\n",
       "freq           404\n",
       "Name: status, dtype: object"
      ]
     },
     "execution_count": 8,
     "metadata": {},
     "output_type": "execute_result"
    }
   ],
   "source": [
    "df_sorted_no_dups['status'].describe()"
   ]
  },
  {
   "cell_type": "markdown",
   "metadata": {},
   "source": [
    "### Grab genera from species name "
   ]
  },
  {
   "cell_type": "code",
   "execution_count": 9,
   "metadata": {},
   "outputs": [
    {
     "name": "stdout",
     "output_type": "stream",
     "text": [
      "            0              1\n",
      "0  Drosophila  pseudoobscura\n",
      "1  Drosophila       simulans\n"
     ]
    },
    {
     "data": {
      "text/html": [
       "<div>\n",
       "<style scoped>\n",
       "    .dataframe tbody tr th:only-of-type {\n",
       "        vertical-align: middle;\n",
       "    }\n",
       "\n",
       "    .dataframe tbody tr th {\n",
       "        vertical-align: top;\n",
       "    }\n",
       "\n",
       "    .dataframe thead th {\n",
       "        text-align: right;\n",
       "    }\n",
       "</style>\n",
       "<table border=\"1\" class=\"dataframe\">\n",
       "  <thead>\n",
       "    <tr style=\"text-align: right;\">\n",
       "      <th></th>\n",
       "      <th>species</th>\n",
       "      <th>contig_n50</th>\n",
       "      <th>scaffold_n50</th>\n",
       "      <th>total_length</th>\n",
       "      <th>status</th>\n",
       "      <th>ass_accession</th>\n",
       "      <th>ass_release_date</th>\n",
       "      <th>genera</th>\n",
       "      <th>species_only</th>\n",
       "    </tr>\n",
       "  </thead>\n",
       "  <tbody>\n",
       "    <tr>\n",
       "      <th>0</th>\n",
       "      <td>Drosophila pseudoobscura</td>\n",
       "      <td>26005469</td>\n",
       "      <td>30730540</td>\n",
       "      <td>164662283</td>\n",
       "      <td>Chromosome</td>\n",
       "      <td>GCA_000001765.3</td>\n",
       "      <td>2018/06/28</td>\n",
       "      <td>Drosophila</td>\n",
       "      <td>pseudoobscura</td>\n",
       "    </tr>\n",
       "    <tr>\n",
       "      <th>1</th>\n",
       "      <td>Drosophila simulans</td>\n",
       "      <td>22909593</td>\n",
       "      <td>24213528</td>\n",
       "      <td>146773509</td>\n",
       "      <td>Chromosome</td>\n",
       "      <td>GCA_004382185.1</td>\n",
       "      <td>2019/04/16</td>\n",
       "      <td>Drosophila</td>\n",
       "      <td>simulans</td>\n",
       "    </tr>\n",
       "    <tr>\n",
       "      <th>2</th>\n",
       "      <td>Drosophila melanogaster</td>\n",
       "      <td>22407379</td>\n",
       "      <td>25025258</td>\n",
       "      <td>140687039</td>\n",
       "      <td>Chromosome</td>\n",
       "      <td>GCA_003401745.1</td>\n",
       "      <td>2018/08/17</td>\n",
       "      <td>Drosophila</td>\n",
       "      <td>melanogaster</td>\n",
       "    </tr>\n",
       "    <tr>\n",
       "      <th>3</th>\n",
       "      <td>Drosophila erecta</td>\n",
       "      <td>22146549</td>\n",
       "      <td>22146549</td>\n",
       "      <td>146538397</td>\n",
       "      <td>Contig</td>\n",
       "      <td>GCF_003286155.1</td>\n",
       "      <td>2018/10/23</td>\n",
       "      <td>Drosophila</td>\n",
       "      <td>erecta</td>\n",
       "    </tr>\n",
       "    <tr>\n",
       "      <th>4</th>\n",
       "      <td>Drosophila mauritiana</td>\n",
       "      <td>22120385</td>\n",
       "      <td>24228064</td>\n",
       "      <td>152317181</td>\n",
       "      <td>Chromosome</td>\n",
       "      <td>GCA_004382145.1</td>\n",
       "      <td>2019/04/16</td>\n",
       "      <td>Drosophila</td>\n",
       "      <td>mauritiana</td>\n",
       "    </tr>\n",
       "  </tbody>\n",
       "</table>\n",
       "</div>"
      ],
      "text/plain": [
       "                    species  contig_n50  scaffold_n50  total_length  \\\n",
       "0  Drosophila pseudoobscura    26005469      30730540     164662283   \n",
       "1       Drosophila simulans    22909593      24213528     146773509   \n",
       "2   Drosophila melanogaster    22407379      25025258     140687039   \n",
       "3         Drosophila erecta    22146549      22146549     146538397   \n",
       "4     Drosophila mauritiana    22120385      24228064     152317181   \n",
       "\n",
       "       status    ass_accession ass_release_date      genera   species_only  \n",
       "0  Chromosome  GCA_000001765.3       2018/06/28  Drosophila  pseudoobscura  \n",
       "1  Chromosome  GCA_004382185.1       2019/04/16  Drosophila       simulans  \n",
       "2  Chromosome  GCA_003401745.1       2018/08/17  Drosophila   melanogaster  \n",
       "3      Contig  GCF_003286155.1       2018/10/23  Drosophila         erecta  \n",
       "4  Chromosome  GCA_004382145.1       2019/04/16  Drosophila     mauritiana  "
      ]
     },
     "execution_count": 9,
     "metadata": {},
     "output_type": "execute_result"
    }
   ],
   "source": [
    "new_df = df_sorted_no_dups['species'].str.split(\" \", n=1, expand=True)\n",
    "print(new_df.head(2))\n",
    "df_sorted_no_dups['genera'] = new_df[0]\n",
    "df_sorted_no_dups['species_only'] = new_df[1]\n",
    "df_sorted_no_dups.head()"
   ]
  },
  {
   "cell_type": "markdown",
   "metadata": {},
   "source": [
    "## Function to add higher taxonomic info to dataframe to allow by family or kingdom ect ##"
   ]
  },
  {
   "cell_type": "code",
   "execution_count": 13,
   "metadata": {},
   "outputs": [
    {
     "name": "stdout",
     "output_type": "stream",
     "text": [
      "                   species something\n",
      "0             Homo sapiens      test\n",
      "1  Drosophila melanogaster    test 2\n"
     ]
    },
    {
     "data": {
      "text/html": [
       "<div>\n",
       "<style scoped>\n",
       "    .dataframe tbody tr th:only-of-type {\n",
       "        vertical-align: middle;\n",
       "    }\n",
       "\n",
       "    .dataframe tbody tr th {\n",
       "        vertical-align: top;\n",
       "    }\n",
       "\n",
       "    .dataframe thead th {\n",
       "        text-align: right;\n",
       "    }\n",
       "</style>\n",
       "<table border=\"1\" class=\"dataframe\">\n",
       "  <thead>\n",
       "    <tr style=\"text-align: right;\">\n",
       "      <th></th>\n",
       "      <th>species</th>\n",
       "      <th>something</th>\n",
       "      <th>family</th>\n",
       "      <th>order</th>\n",
       "      <th>class</th>\n",
       "      <th>phylum</th>\n",
       "      <th>kingdom</th>\n",
       "    </tr>\n",
       "  </thead>\n",
       "  <tbody>\n",
       "    <tr>\n",
       "      <th>0</th>\n",
       "      <td>Homo sapiens</td>\n",
       "      <td>test</td>\n",
       "      <td>Hominidae</td>\n",
       "      <td>Primates</td>\n",
       "      <td>Mammalia</td>\n",
       "      <td>Chordata</td>\n",
       "      <td>Animalia</td>\n",
       "    </tr>\n",
       "    <tr>\n",
       "      <th>1</th>\n",
       "      <td>Drosophila melanogaster</td>\n",
       "      <td>test 2</td>\n",
       "      <td>Drosophilidae</td>\n",
       "      <td>Diptera</td>\n",
       "      <td>Insecta</td>\n",
       "      <td>Arthropoda</td>\n",
       "      <td>Animalia</td>\n",
       "    </tr>\n",
       "  </tbody>\n",
       "</table>\n",
       "</div>"
      ],
      "text/plain": [
       "                   species something         family     order     class  \\\n",
       "0             Homo sapiens      test      Hominidae  Primates  Mammalia   \n",
       "1  Drosophila melanogaster    test 2  Drosophilidae   Diptera   Insecta   \n",
       "\n",
       "       phylum   kingdom  \n",
       "0    Chordata  Animalia  \n",
       "1  Arthropoda  Animalia  "
      ]
     },
     "execution_count": 13,
     "metadata": {},
     "output_type": "execute_result"
    }
   ],
   "source": [
    "# function to take a pandas lambda df thing species name and return a family name using the above ideas\n",
    "### WHAT A COMPLETE PAIN IN THE ASS TO FIND OUT THIS IS WHAT WAS NEEDED\n",
    "import requests\n",
    "import re\n",
    "\n",
    "def DF_get_family_name_given_species_name(df):\n",
    "    \"\"\"\n",
    "    This is a short function to get a family name from the GBIF rest api given a genus_species name\n",
    "    example input: Homo sapiens\n",
    "    example return: Hominidae\n",
    "    It requires re, requests functions\n",
    "    NOTE!!! - Homo Sapiens doesn't work, Homo sapiens does - CHECK SPELLING\n",
    "    \"\"\"\n",
    "    family = ''\n",
    "    order = ''\n",
    "    taxon_class = ''\n",
    "    phylum = ''\n",
    "    \n",
    "    search_url_string = \"http://api.gbif.org/v1/species/match?&name=\" + df['species']\n",
    "    res = requests.get(search_url_string)\n",
    "    if res.status_code == 200:\n",
    "        #print(res.text)\n",
    "        #print(\"search string = \", search_url_string)\n",
    "        search_obj_family = re.search(',\"family\":\"(.+?)\",', res.text)\n",
    "        if search_obj_family:\n",
    "            family = search_obj_family.group(1)\n",
    "        else:\n",
    "            #print(\"no family name returned for species name:\", species)\n",
    "            #print(\".\", end=\"\")\n",
    "            family = None\n",
    "        \n",
    "        search_obj_order = re.search(',\"order\":\"(.+?)\",', res.text)\n",
    "        if search_obj_order:\n",
    "            order = search_obj_order.group(1)\n",
    "        else:\n",
    "            #print(\"no order name returned for species name:\", species)\n",
    "            #print(\".\", end=\"\")\n",
    "            order = None\n",
    "        \n",
    "        search_obj_class = re.search(',\"class\":\"(.+?)\"', res.text)\n",
    "        if search_obj_class:\n",
    "            taxon_class = search_obj_class.group(1)\n",
    "        else:\n",
    "            #print(\"no class name returned for species name:\", species)\n",
    "            #print(\".\", end=\"\")\n",
    "            taxon_class = None\n",
    "        \n",
    "        search_obj_phylum = re.search(',\"phylum\":\"(.+?)\"', res.text)\n",
    "        if search_obj_phylum:\n",
    "            phylum = search_obj_phylum.group(1)\n",
    "        else:\n",
    "            #print(\"no phylum name returned for species name:\", species)\n",
    "            #print(\".\", end=\"\")\n",
    "            phylum = None\n",
    "            \n",
    "        search_obj_kingdom = re.search(',\"kingdom\":\"(.+?)\"', res.text)\n",
    "        if search_obj_kingdom:\n",
    "            kingdom = search_obj_kingdom.group(1)\n",
    "        else:\n",
    "            #print(\"no kingdom name returned for species name:\", species)\n",
    "            #print(\".\", end=\"\")\n",
    "            kingdom = None\n",
    "            \n",
    "        #print(\"got:\", family, order, taxon_class, phylum, kingdom)\n",
    "        df['family'] = family\n",
    "        df['order'] = order\n",
    "        df['class'] = taxon_class\n",
    "        df['phylum'] = phylum\n",
    "        df['kingdom'] = kingdom\n",
    "    \n",
    "    return(df)\n",
    "\n",
    "# test this out - # Create the pandas DataFrame \n",
    "data = [['Homo sapiens', \"test\"], ['Drosophila melanogaster', \"test 2\"]] \n",
    "df_test_taxon = pd.DataFrame(data, columns = ['species', 'something']) \n",
    "print(df_test_taxon)  \n",
    "\n",
    "# test the above function\n",
    "df_test_taxon = df_test_taxon.apply(DF_get_family_name_given_species_name, axis=1)\n",
    "df_test_taxon"
   ]
  },
  {
   "cell_type": "markdown",
   "metadata": {},
   "source": [
    "## Don't re-run this next cell unless redoing everything - it goes to GBIF for every species name  \n",
    "## need to work on a full download to local storage. ##"
   ]
  },
  {
   "cell_type": "code",
   "execution_count": null,
   "metadata": {},
   "outputs": [],
   "source": [
    "# this takes time and goes to the Web for every species - uncomment line to redo as needed.\n",
    "## uncomment the next line to run - takes 50 mins???\n",
    "df_sorted_no_dups = df_sorted_no_dups.apply(DF_get_family_name_given_species_name, axis=1)\n",
    "df_sorted_no_dups.head(3)"
   ]
  },
  {
   "cell_type": "code",
   "execution_count": null,
   "metadata": {},
   "outputs": [],
   "source": [
    "df_sorted_no_dups.head(3)"
   ]
  },
  {
   "cell_type": "markdown",
   "metadata": {},
   "source": [
    "### Plot of Contig N50 vs Scaffold N50"
   ]
  },
  {
   "cell_type": "code",
   "execution_count": null,
   "metadata": {},
   "outputs": [],
   "source": [
    "def plot_contig_N50_vs_scaffold_N50(df, title, point_size=400):\n",
    "    '''A function to take in a dataframe with the same columns as everrytthing else on this jupyter workbook, and output a plot\n",
    "    of contig N50 vs Scaffold N50\n",
    "    Inputs 1. the df, 2 a title for the plot\n",
    "    Optional input point_size=300, labels=True\n",
    "    '''\n",
    "    \n",
    "    date = datetime.date.today()\n",
    "    sns.set_style(\"whitegrid\")\n",
    "\n",
    "    g = sns.lmplot(x='contig_n50', y='scaffold_n50', data=df, hue='status', fit_reg=False, height=18, aspect=1.4, legend_out=False, scatter_kws={\"s\":point_size} )\n",
    "\n",
    "    # Set the `yscale` and other things\n",
    "    g.set(yscale=\"log\")\n",
    "    g.set(xscale=\"log\")\n",
    "    g.set(ylim=[100, 10000000000])\n",
    "    g.set(xlim=[100, 100000000])\n",
    "    \n",
    "    plt.axvspan(1000000, 10000000000, ymin=0.625, ymax=1, alpha=0.1, color='red')\n",
    "    plt.axvspan(100000, 1000000000, ymin=0.5, ymax=1, alpha=0.1, color='yellow')\n",
    "\n",
    "    plt.xlabel('Contig N50 (bp)', fontweight='normal', color = 'black', fontsize=32, horizontalalignment='center')\n",
    "    plt.ylabel('Scaffold N50 (bp)', fontweight='normal', color = 'black', fontsize=32, horizontalalignment='center')\n",
    "    title_string = title + \" (As of \" + str(date.today()) + \")\" \n",
    "    plt.title(title_string, fontweight='bold', color = 'black', fontsize='36', loc='center')\n",
    "    plt.legend(loc = 'lower right', title = \"NCBI status\", fontsize = 16)\n",
    "        \n",
    "    # for line in range(0,df.shape[0]):  # gave up on adding the names to the dots.\n",
    "    #    g.text(df.contig_n50[line]+0.2, df.scaffold_n50[line], df.species[line], horizontalalignment='left', size='medium', color='black', weight='semibold')\n",
    "\n",
    "    # Show plot\n",
    "    #plt.show()\n",
    "    file_name = \"NCBI_Genome_stats_images/Arthropod_Contig_and_scaffold_N50_plot_\" + str(date.today()) + \".png\"\n",
    "    plt.savefig(file_name)\n",
    "\n",
    "# test function\n",
    "plot_contig_N50_vs_scaffold_N50(df_sorted_no_dups, 'NCBI Arthropod assembly contiguity stats', point_size=400)"
   ]
  },
  {
   "cell_type": "markdown",
   "metadata": {},
   "source": [
    "## Or plot with plotly???"
   ]
  },
  {
   "cell_type": "code",
   "execution_count": null,
   "metadata": {},
   "outputs": [],
   "source": [
    "import plotly.express as px\n",
    "import plotly\n",
    "def plot_with_plotly(df, title = 'arthropod genome assembly stats'):\n",
    "    ''' input a dataframe from this worksheet, second input is a title'''\n",
    "    fig = px.scatter(df, x='contig_n50', y='scaffold_n50', color='status', hover_data=['species'], log_x=True, log_y=True, template='plotly_white', title=title)\n",
    "    fig.update_traces(marker=dict(size=12, line=dict(width=2, color='DarkSlateGrey')), selector=dict(mode='markers'))\n",
    "    fig.update_traces(textposition='top center')\n",
    "    plotly.offline.plot(fig, filename='NCBI_Genome_stats_images/arthropod_genome_assembly_stats.html') # saves the html file\n",
    "    fig.show()\n",
    "\n",
    "plot_with_plotly(df_sorted_no_dups, 'athropod genome assembly stats')"
   ]
  },
  {
   "cell_type": "code",
   "execution_count": null,
   "metadata": {},
   "outputs": [],
   "source": [
    "# try and plot assemblies by year - first add year column to dataframe\n",
    "df_sorted_no_dups['date_time_test'] = pd.to_datetime(df_sorted_no_dups['ass_release_date'])\n",
    "df_sorted_no_dups['year'] = df_sorted_no_dups['date_time_test'].apply(lambda x: x.year)\n",
    "print(type(df_sorted_no_dups['year'][0]))\n",
    "df_sorted_no_dups.head(3)"
   ]
  },
  {
   "cell_type": "code",
   "execution_count": null,
   "metadata": {},
   "outputs": [],
   "source": [
    "# MAKE A DATA FRAME WITH HIGH QUALITY ASSEMBLIES\n",
    "df_contig_N50_OK = df_sorted_no_dups[df_sorted_no_dups['contig_n50']>1000000]\n",
    "#df_contig_N50_OK.tail()\n",
    "df_scaf_and_contig_OK = df_contig_N50_OK[df_contig_N50_OK['scaffold_n50']>10000000]\n",
    "df_complete_genome = df_sorted_no_dups[df_sorted_no_dups['status'] == 'Complete Genome']\n",
    "df_all_passing = pd.concat([df_scaf_and_contig_OK, df_complete_genome])\n",
    "df_all_passing = df_all_passing.drop_duplicates()\n",
    "print(\"number of species passing VGP qual (no dups):\", df_all_passing['species'].count())\n"
   ]
  },
  {
   "cell_type": "code",
   "execution_count": null,
   "metadata": {},
   "outputs": [],
   "source": [
    "df_draft_contig_N50_OK = df_sorted_no_dups[df_sorted_no_dups['contig_n50']>100000]\n",
    "#df_contig_N50_OK.tail()\n",
    "df_draft_scaf_and_contig_OK = df_draft_contig_N50_OK[df_draft_contig_N50_OK['scaffold_n50']>1000000]\n",
    "df_complete_genome = df_sorted_no_dups[df_sorted_no_dups['status'] == 'Complete Genome']\n",
    "df_draft_all_passing = pd.concat([df_draft_scaf_and_contig_OK, df_complete_genome])\n",
    "print(\"number of draft all passing = \", df_draft_all_passing['species'].count())\n",
    "df_draft_all_passing = df_draft_all_passing.drop_duplicates()\n",
    "print(\"number of draft all passing after dup removal = \", df_draft_all_passing['species'].count())  # seems to have worked\n"
   ]
  },
  {
   "cell_type": "code",
   "execution_count": null,
   "metadata": {},
   "outputs": [],
   "source": [
    "# just for me\n",
    "print(\"total number of Arthropod assemblies = \", df_sorted_no_dups['species'].count())\n",
    "df_sorted_no_dups.to_excel('NCBI_Genome_stats_images/arthropod_assembly_stats_oct1st_2019.xlsx')"
   ]
  },
  {
   "cell_type": "markdown",
   "metadata": {},
   "source": [
    "## Write a nice report - this needs to be put into Markdown for an easy nice output"
   ]
  },
  {
   "cell_type": "code",
   "execution_count": null,
   "metadata": {},
   "outputs": [],
   "source": [
    "# make a summary stats file\n",
    "import datetime\n",
    "date = datetime.date.today()\n",
    "print(\"date of NCBI stats download = \", date)\n",
    "\n",
    "total_non_redundant_assemblies = df_sorted_no_dups['species'].count()\n",
    "print(\"total_non_redundant_assemblies of Arthropods = \", total_non_redundant_assemblies)\n",
    "NCBI_complete_genome_assemblies = df_sorted_no_dups[df_sorted_no_dups['status'] == \"Complete Genome\"]['species'].count()\n",
    "print(\"NCBI complete genome status of Arthropods = \", NCBI_complete_genome_assemblies)\n",
    "NCBI_chromosome_assemblies = df_sorted_no_dups[df_sorted_no_dups['status'] == \"Chromosome\"]['species'].count()\n",
    "print(\"NCBI chromosome status of Arthropods = \", NCBI_chromosome_assemblies)\n",
    "print(\"Question: What is the definition of complete genome and or chromosome status at NCBI???\")\n",
    "\n",
    "print(\"\\n\")\n",
    "\n",
    "contig_N50_greater_than_1Mb = df_sorted_no_dups[df_sorted_no_dups['contig_n50']>1000000]['species'].count()\n",
    "print(\"Arthropods: contig_N50_greater_than_1Mb =\", contig_N50_greater_than_1Mb)\n",
    "\n",
    "scaffold_n50_greater_than_10Mb = df_sorted_no_dups[df_sorted_no_dups['scaffold_n50']>10000000]['species'].count()\n",
    "print(\"Arthropods: scaffold_n50_greater_than_10Mb =\", scaffold_n50_greater_than_10Mb)\n",
    "\n",
    "VGP_standard = df_sorted_no_dups[df_sorted_no_dups['contig_n50']>=1000000][df_sorted_no_dups['scaffold_n50']>=10000000]['species'].count()\n",
    "percent_VGP_standard = VGP_standard / 1500000 * 100\n",
    "print(\"Arthropods: meets VGP standard (1Mb contig N50, 10Mb Scaffold N50) =\", VGP_standard, \"or\", percent_VGP_standard, \"%\")\n",
    "\n",
    "\n",
    "print(\"\\n\")\n",
    "contig_N50_greater_than_100Kb = df_sorted_no_dups[df_sorted_no_dups['contig_n50']>100000]['species'].count()\n",
    "print(\"Arthropods: contig_N50_greater_than_100Kb =\", contig_N50_greater_than_100Kb)\n",
    "\n",
    "scaffold_n50_greater_than_1Mb = df_sorted_no_dups[df_sorted_no_dups['scaffold_n50']>1000000]['species'].count()\n",
    "print(\"Arthropods: scaffold_n50_greater_than_1Mb =\", scaffold_n50_greater_than_1Mb)\n",
    "\n",
    "Lower_standard = df_sorted_no_dups[df_sorted_no_dups['contig_n50']>=100000][df_sorted_no_dups['scaffold_n50']>=1000000]['species'].count()\n",
    "percent_lower_standard = Lower_standard / 1500000 * 100\n",
    "print(\"Arthropods: meets draft standard (100kb contig N50, 1Mb scaffold N50) =\", Lower_standard, \"or\", percent_lower_standard, \"%\")"
   ]
  },
  {
   "cell_type": "markdown",
   "metadata": {},
   "source": [
    "### THE BELOW IS IN PROGRESS TO MAKE THE REPORT LOOK NICE ###"
   ]
  },
  {
   "cell_type": "code",
   "execution_count": null,
   "metadata": {},
   "outputs": [],
   "source": [
    "# print to markdown file for the poster:\n",
    "FHOUT = open('NCBI_Genome_stats_images/stats_table.md', 'w')\n",
    "FHOUT.write(\"\"\"\n",
    "\n",
    "date of NCBI stats download = %d\n",
    "\n",
    "\n",
    "\n",
    "\"\"\")\n",
    "print(\"\"\" \n",
    "Colons can be used to align columns.\n",
    "\n",
    "| Tables        | Are           | Cool  |\n",
    "| ------------- |:-------------:| -----:|\n",
    "| col 3 is      | right-aligned | $1600 |\n",
    "| col 2 is      | centered      |   $12 |\n",
    "| zebra stripes | are neat      |    $1 |\n",
    "      \n",
    "\"\"\")\n",
    "\n",
    "# 2. make the main markdown file\n",
    "report = '''\n",
    "### Analysis of {}  \n",
    "Reference = {}\n",
    "\n",
    "**Total sequence = _{} bp_**  \n",
    "**Good sequence = _{} bp ({}%)_**  \n",
    "  \n",
    "![alt text]({} \"{}\")\n",
    "\n",
    "|                          |  All reads     | Alignable reads | Reads > 2kb and 80% ident |  >20kb, >80% ident |\n",
    "|--------------------------|:--------------:|:---------------:|:-------------------------:|:------------------:|\n",
    "| Number of reads          |   {}           |      {}         |        {} ({}%)           |     {} ({}%)       | \n",
    "| Total sequence (bp)      |   {}           |      {}         |        {} ({}%)           |     {} ({}%)       |\n",
    "| Longest read (bp)        |   {}           |      {}         |        {}                 |           -        |       \n",
    "| longest read accuracy (%)|   {}           |      {}         |        {}                 |           -        |\n",
    "| Mean read length (bp)    |   {}           |      {}         |        {}                 |           -        |\n",
    "| Median read length (bp)  |   {}           |      {}         |        {}                 |           -        |\n",
    "| Max read length bin (bp) |   {}           |      {}         |        {}                 |           -        |\n",
    "| Mean read accuracy (%)   |   {}           |      {}         |        {}                 |           -        |\n",
    "| Median read accuracy (%) |   {}           |      {}         |        {}                 |           -        |\n",
    "| Max read identity bin (%)|   {}           |       -         |         -                 |           -        |\n",
    "\n",
    "Report generated using the script run_nanopore_alignment_and_stats_pipeline.py by Stephen Richards stephenr@bcm.edu  \n",
    "Start time: {}, End time: {}, Run time: {}, Run time per Gb: {}  \n",
    "Methods: ONT reads aligned with {}, identities identified with samtools calmd, stats generated using pandas.  \n",
    "Cost per 100Gb 30X human genome with {}bp sequence yield runs = ${} on MinION assuming $1,000/run PromethION is ~half that cost at low volume and ~1/5th cost at high volume (${})\n",
    "'''.format(output_name,\n",
    "           ref,\n",
    "           all_reads_seq,\n",
    "           good_reads_seq,\n",
    "           good_reads_seq_percent,\n",
    "           histogram,\n",
    "           histogram_text,\n",
    "           num_reads,\n",
    "           num_aligned_reads,\n",
    "           num_good_reads,\n",
    "           num_good_reads_percent,\n",
    "           num_good_long_reads,\n",
    "           num_good_long_reads_percent,\n",
    "           all_reads_seq,\n",
    "           aligned_reads_seq,\n",
    "           good_reads_seq,\n",
    "           good_reads_seq_percent,\n",
    "           good_long_reads_seq,\n",
    "           good_long_reads_seq_percent,\n",
    "           longest_read,\n",
    "           longest_aligned_read,\n",
    "           longest_good_read,\n",
    "           longest_read_ident,\n",
    "           longest_aligned_read_ident,\n",
    "           longest_good_read_ident,\n",
    "           mean_read_length,\n",
    "           mean_aligned_read_length,\n",
    "           mean_good_read_length,\n",
    "           peak_read_length,\n",
    "           peak_aligned_read_length,\n",
    "           peak_good_read_length,\n",
    "           max_read_length_bin_all_reads,\n",
    "           max_read_length_bin_aligned_reads,\n",
    "           max_read_length_bin_good_reads,\n",
    "           mean_read_accuracy,\n",
    "           mean_aligned_read_accuracy,\n",
    "           mean_good_read_accuracy,\n",
    "           peak_read_accuracy,\n",
    "           peak_aligned_read_accuracy,\n",
    "           peak_good_read_accuracy,\n",
    "           max_read_identity_bin,\n",
    "           start_time,\n",
    "           end_time,\n",
    "           run_time,\n",
    "           run_time_per_gb,\n",
    "           aligner,\n",
    "           good_reads_seq,\n",
    "           cost_per_100gb, \n",
    "           promethION_cost_per_100gb)\n",
    "\n"
   ]
  },
  {
   "cell_type": "markdown",
   "metadata": {},
   "source": [
    "## Question ##\n",
    "### What is the definition of complete genome and chromosome status at NCBI??? ###"
   ]
  },
  {
   "cell_type": "code",
   "execution_count": null,
   "metadata": {},
   "outputs": [],
   "source": [
    "# use a pivot table to get number of families in df_all_passing\n",
    "#df_all_passing_by_family = df_all_passing.pivot_table(columns=\"species\" , values='family')\n",
    "#df_all_passing_by_family\n",
    "print(\"total number of passing species = \", df_all_passing['species'].count())\n",
    "\n",
    "df_all_passing_by_family = pd.pivot_table(df_all_passing, index=['family'])\n",
    "#df_all_passing_by_family = df_all_passing.groupby(by='family')\n",
    "print(df_all_passing_by_family.count())\n",
    "print(\"total number of passing families = \", df_all_passing_by_family['contig_n50'].count())"
   ]
  },
  {
   "cell_type": "code",
   "execution_count": null,
   "metadata": {},
   "outputs": [],
   "source": [
    "# and again for draft quality\n",
    "print(\"total number of passing species = \", df_draft_all_passing['species'].count())\n",
    "df_draft_all_passing_by_family = pd.pivot_table(df_draft_all_passing, index=['family'])\n",
    "df_draft_all_passing_by_family.count()"
   ]
  },
  {
   "cell_type": "code",
   "execution_count": null,
   "metadata": {},
   "outputs": [],
   "source": [
    "print(\"total species = \", df_all_passing['species'].count())\n",
    "min_year = df_all_passing['year'].min()\n",
    "max_year = df_all_passing['year'].max()\n",
    "print(\"min_year = \", min_year, \"max_year = \", max_year)\n",
    "\n",
    "cols = ['Year', 'Cumulative VGP quality species represented']\n",
    "lst = []\n",
    "\n",
    "for year_count in range(min_year, max_year+1):\n",
    "    #print(\"year = \", year_count)\n",
    "    cum_species_with_assembly = df_all_passing[df_all_passing['year'] <= year_count]['species'].count()\n",
    "    #print(\"number of cumulative species passing = \",  cum_species_with_assembly)\n",
    "    lst.append([int(year_count), int(cum_species_with_assembly)])\n",
    "\n",
    "df_cumulative_species = pd.DataFrame(lst, columns=cols)\n",
    "#df_cumulative_families_represented.set_index('Year', inplace=True)\n",
    "df_cumulative_species"
   ]
  },
  {
   "cell_type": "code",
   "execution_count": null,
   "metadata": {},
   "outputs": [],
   "source": [
    "print(\"total species = \", df_draft_all_passing['species'].count())\n",
    "#min_year = df_draft_all_passing['year'].min()\n",
    "min_year = 2010\n",
    "max_year = df_draft_all_passing['year'].max()\n",
    "print(\"min_year = \", min_year, \"max_year = \", max_year)\n",
    "\n",
    "cols = ['Year', 'Cumulative 100kb contig N50 species represented']\n",
    "lst = []\n",
    "\n",
    "for year_count in range(min_year, max_year+1):\n",
    "    #print(\"year = \", year_count)\n",
    "    cum_species_with_draft_assembly = df_draft_all_passing[df_draft_all_passing['year'] <= year_count]['species'].count()\n",
    "    #print(\"number of cumulative species passing draft qual = \",  cum_species_with_draft_assembly)\n",
    "    lst.append([int(year_count), int(cum_species_with_draft_assembly)])\n",
    "\n",
    "df_cumulative_draft_species = pd.DataFrame(lst, columns=cols)\n",
    "#df_cumulative_families_represented.set_index('Year', inplace=True)\n",
    "df_cumulative_draft_species"
   ]
  },
  {
   "cell_type": "code",
   "execution_count": null,
   "metadata": {},
   "outputs": [],
   "source": [
    "print(\"total species = \", df_sorted_no_dups['species'].count())\n",
    "#min_year = df_sorted_no_dups['year'].min()\n",
    "min_year = 2010  # because a lot of older assemblies had updates - so not much before 2010 unless you look at the originals\n",
    "max_year = df_sorted_no_dups['year'].max()\n",
    "print(\"min_year = \", min_year, \"max_year = \", max_year)\n",
    "\n",
    "cols = ['Year', 'Any assembly: Cumulative species represented']\n",
    "lst = []\n",
    "\n",
    "for year_count in range(min_year, max_year+1):\n",
    "    #print(\"year = \", year_count)\n",
    "    cum_species_with_any_assembly = df_sorted_no_dups[df_sorted_no_dups['year'] <= year_count]['species'].count()\n",
    "    #print(\"number of cumulative species any assembly quality = \",  cum_species_with_any_assembly)\n",
    "    lst.append([int(year_count), int(cum_species_with_any_assembly)])\n",
    "\n",
    "df_cumulative_species_any_assembly = pd.DataFrame(lst, columns=cols)\n",
    "#df_cumulative_families_represented.set_index('Year', inplace=True)\n",
    "df_cumulative_species_any_assembly"
   ]
  },
  {
   "cell_type": "markdown",
   "metadata": {},
   "source": [
    "### Note there are a lot of updated and not original genomes in here,  \n",
    "- lots of old genome assemblies replaced by an updated version - seemed to happen a lot in 2010  \n",
    "- So I made 2010 the first year of the plot for now  \n",
    "- Will think about a more accurate historical view later"
   ]
  },
  {
   "cell_type": "code",
   "execution_count": null,
   "metadata": {},
   "outputs": [],
   "source": [
    "sns.set_style('darkgrid')\n",
    "fig, axes = plt.subplots(nrows=1, ncols=3, squeeze=False, figsize=(24,6))\n",
    "\n",
    "df_cumulative_species_any_assembly.plot(ax=axes[0,0], x='Year', y='Any assembly: Cumulative species represented', kind='bar', width=1, color='red', title=\"Cumulative number of species with any assembly\")\n",
    "df_cumulative_draft_species.plot(ax=axes[0,1],  x='Year', y='Cumulative 100kb contig N50 species represented', kind='bar', width=1, color='orange', title='Cumulative number of species with Draft quality assembly')\n",
    "df_cumulative_species.plot(ax=axes[0,2], x='Year', y='Cumulative VGP quality species represented', kind='bar', width=1, color='green', title=\"Cumulative number of species with VGP quality assembly\")\n",
    "\n",
    "plt.savefig('NCBI_Genome_stats_images/Cumulative_species_by_year.png')"
   ]
  },
  {
   "cell_type": "code",
   "execution_count": null,
   "metadata": {},
   "outputs": [],
   "source": [
    "# keep cell in case I need a single plot\n",
    "#sns.set_style('darkgrid')\n",
    "#df_cumulative_species_any_assembly.plot(x='Year', y='Any assembly: Cumulative species represented', kind='bar', width=1, color='red', title=\"Cumulative number of species with any assembly\", figsize=(8,6) )\n",
    "#plt.savefig('NCBI_Genome_stats_images/Cumulative_num_species_with_any_assembly.png')"
   ]
  },
  {
   "cell_type": "code",
   "execution_count": 54,
   "metadata": {},
   "outputs": [],
   "source": [
    "# Keep cell incase I need a single plot\n",
    "#df_cumulative_draft_species.plot(x='Year', y='Cumulative 100kb contig N50 species represented', kind='bar', width=1, color='orange', title='Cumulative number of species with Draft quality assembly', figsize=(8,6))\n",
    "#plt.savefig('NCBI_Genome_stats_images/Cumulative_num_species_with_Draft_quality_assembly.png')"
   ]
  },
  {
   "cell_type": "code",
   "execution_count": 55,
   "metadata": {},
   "outputs": [],
   "source": [
    "# Keep cell in case I need a single plot\n",
    "#df_cumulative_species.plot(x='Year', y='Cumulative VGP quality species represented', kind='bar', width=1, color='green', title=\"Cumulative number of species with VGP quality assembly\", figsize=(8,6) )\n",
    "#plt.savefig('NCBI_Genome_stats_images/Cumulative_num_species_with_EBP_quality_assembly.png')"
   ]
  },
  {
   "cell_type": "markdown",
   "metadata": {},
   "source": [
    "## Now I need to plot the same progress by different taxonomic rank  \n",
    "- If I were smart this would be a cool loop with three charts for each rank in a cool grid pattern"
   ]
  },
  {
   "cell_type": "code",
   "execution_count": 56,
   "metadata": {},
   "outputs": [
    {
     "data": {
      "text/html": [
       "<div>\n",
       "<style scoped>\n",
       "    .dataframe tbody tr th:only-of-type {\n",
       "        vertical-align: middle;\n",
       "    }\n",
       "\n",
       "    .dataframe tbody tr th {\n",
       "        vertical-align: top;\n",
       "    }\n",
       "\n",
       "    .dataframe thead th {\n",
       "        text-align: right;\n",
       "    }\n",
       "</style>\n",
       "<table border=\"1\" class=\"dataframe\">\n",
       "  <thead>\n",
       "    <tr style=\"text-align: right;\">\n",
       "      <th></th>\n",
       "      <th>species</th>\n",
       "      <th>contig_n50</th>\n",
       "      <th>scaffold_n50</th>\n",
       "      <th>total_length</th>\n",
       "      <th>status</th>\n",
       "      <th>ass_accession</th>\n",
       "      <th>ass_release_date</th>\n",
       "      <th>genera</th>\n",
       "      <th>species_only</th>\n",
       "      <th>date_time_test</th>\n",
       "      <th>year</th>\n",
       "    </tr>\n",
       "  </thead>\n",
       "  <tbody>\n",
       "    <tr>\n",
       "      <th>0</th>\n",
       "      <td>Drosophila pseudoobscura</td>\n",
       "      <td>26005469</td>\n",
       "      <td>30730540</td>\n",
       "      <td>164662283</td>\n",
       "      <td>Chromosome</td>\n",
       "      <td>GCA_000001765.3</td>\n",
       "      <td>2018/06/28</td>\n",
       "      <td>Drosophila</td>\n",
       "      <td>pseudoobscura</td>\n",
       "      <td>2018-06-28</td>\n",
       "      <td>2018</td>\n",
       "    </tr>\n",
       "  </tbody>\n",
       "</table>\n",
       "</div>"
      ],
      "text/plain": [
       "                    species  contig_n50  scaffold_n50  total_length  \\\n",
       "0  Drosophila pseudoobscura    26005469      30730540     164662283   \n",
       "\n",
       "       status    ass_accession ass_release_date      genera   species_only  \\\n",
       "0  Chromosome  GCA_000001765.3       2018/06/28  Drosophila  pseudoobscura   \n",
       "\n",
       "  date_time_test  year  \n",
       "0     2018-06-28  2018  "
      ]
     },
     "execution_count": 56,
     "metadata": {},
     "output_type": "execute_result"
    }
   ],
   "source": [
    "df_all_passing.head(1)"
   ]
  },
  {
   "cell_type": "code",
   "execution_count": 57,
   "metadata": {},
   "outputs": [
    {
     "name": "stdout",
     "output_type": "stream",
     "text": [
      "('\\ntotal species at this quality = ', 490)\n",
      "('\\ntotal species at this quality = ', 74)\n",
      "('\\ntotal species at this quality = ', 19)\n"
     ]
    },
    {
     "data": {
      "image/png": "[encoded data removed]",
      "text/plain": [
       "<Figure size 1728x2880 with 21 Axes>"
      ]
     },
     "metadata": {},
     "output_type": "display_data"
    }
   ],
   "source": [
    "# trying to get all the charts in a single loop\n",
    "df_sorted_no_dups.name = 'all'  # I named them for the coloring below\n",
    "df_draft_all_passing.name = 'draft'\n",
    "df_all_passing.name = 'VGP'\n",
    "\n",
    "sns.set_style('darkgrid')\n",
    "fig, axes = plt.subplots(nrows=7, ncols=3, squeeze=False, figsize=(24,40), sharex=True)\n",
    "\n",
    "for loop_dfs in (df_sorted_no_dups, df_draft_all_passing, df_all_passing):\n",
    "    print(\"\\ntotal species at this quality = \", loop_dfs['species'].count())\n",
    "    for rank in ('species', 'genera', 'family', 'order', 'class', 'phylum', 'kingdom'):\n",
    "        taxon_column = \"Cumulative \" + rank + \"s represented\"\n",
    "        cols = ['Year', taxon_column]\n",
    "        lst = []\n",
    "\n",
    "        for year_count in range(min_year, max_year+1):\n",
    "            #print(\"year = \", year_count)\n",
    "            #print(df_all_passing[df_all_passing['year'] <= year_count]['species'].count())\n",
    "            #print(loop_dfs[loop_dfs['year'] <= year_count]['species'].count())\n",
    "            \n",
    "            #familes_with_assembly = pd.pivot_table(df_all_passing[df_all_passing['year'] <= year_count], index=[rank])['contig_n50'].count()\n",
    "            familes_with_assembly = 0\n",
    "            try:\n",
    "                familes_with_assembly = pd.pivot_table(loop_dfs[loop_dfs['year'] <= year_count], index=[rank])['contig_n50'].count()\n",
    "            except:\n",
    "                families_with_assembly = 0\n",
    "            #print(\"number of cumulative \", rank, \" passing = \",  familes_with_assembly)\n",
    "            lst.append([int(year_count), int(familes_with_assembly)])\n",
    "\n",
    "        df_cumulative_families_represented = pd.DataFrame(lst, columns=cols)\n",
    "        #df_cumulative_families_represented.set_index('Year', inplace=True)\n",
    "        #print(df_cumulative_families_represented)\n",
    "\n",
    "        title_label = taxon_column + \" with EBP quality assembly\"\n",
    "        bar_color = 'orange'\n",
    "        plot_col = 0\n",
    "        plot_row = 0\n",
    "        \n",
    "        if loop_dfs.name == \"all\":\n",
    "            bar_color = 'red'\n",
    "            plot_col = 0\n",
    "        elif loop_dfs.name == 'draft':\n",
    "            bar_color = 'orange'\n",
    "            plot_col = 1\n",
    "        elif loop_dfs.name == 'VGP':\n",
    "            bar_color = 'green'\n",
    "            plot_col = 2\n",
    "        \n",
    "        if rank == 'species':\n",
    "            plot_row = 0\n",
    "        elif rank == 'genera':\n",
    "            plot_row = 1\n",
    "        elif rank == 'family':\n",
    "            plot_row = 2      \n",
    "        elif rank == 'order':\n",
    "            plot_row = 3\n",
    "        elif rank == 'class':\n",
    "            plot_row = 4\n",
    "        elif rank == 'phylum':\n",
    "            plot_row = 5\n",
    "        elif rank == 'kingdom':\n",
    "            plot_row = 6\n",
    "\n",
    "        df_cumulative_families_represented.plot(ax=axes[plot_row, plot_col], x='Year', y=taxon_column, kind='bar', width=1, color=bar_color, title=title_label )\n",
    "\n",
    "plt.savefig('NCBI_Genome_stats_images/taxonomic_rank_progress_by_year.png')"
   ]
  },
  {
   "cell_type": "code",
   "execution_count": 58,
   "metadata": {},
   "outputs": [
    {
     "ename": "KeyError",
     "evalue": "'class'",
     "output_type": "error",
     "traceback": [
      "\u001b[0;31m---------------------------------------------------------------------------\u001b[0m",
      "\u001b[0;31mKeyError\u001b[0m                                  Traceback (most recent call last)",
      "\u001b[0;32m<ipython-input-58-af244decffc0>\u001b[0m in \u001b[0;36m<module>\u001b[0;34m()\u001b[0m\n\u001b[0;32m----> 1\u001b[0;31m \u001b[0mdf_species_draft_seq_in_each_class\u001b[0m \u001b[0;34m=\u001b[0m \u001b[0mpd\u001b[0m\u001b[0;34m.\u001b[0m\u001b[0mpivot_table\u001b[0m\u001b[0;34m(\u001b[0m\u001b[0mdata\u001b[0m\u001b[0;34m=\u001b[0m\u001b[0mdf_draft_all_passing\u001b[0m\u001b[0;34m,\u001b[0m \u001b[0mindex\u001b[0m\u001b[0;34m=\u001b[0m\u001b[0;34m'class'\u001b[0m\u001b[0;34m,\u001b[0m \u001b[0mvalues\u001b[0m\u001b[0;34m=\u001b[0m\u001b[0;34m'species'\u001b[0m\u001b[0;34m,\u001b[0m \u001b[0maggfunc\u001b[0m\u001b[0;34m=\u001b[0m\u001b[0;32mlambda\u001b[0m \u001b[0mx\u001b[0m\u001b[0;34m:\u001b[0m \u001b[0mlen\u001b[0m\u001b[0;34m(\u001b[0m\u001b[0mx\u001b[0m\u001b[0;34m.\u001b[0m\u001b[0munique\u001b[0m\u001b[0;34m(\u001b[0m\u001b[0;34m)\u001b[0m\u001b[0;34m)\u001b[0m\u001b[0;34m,\u001b[0m \u001b[0mfill_value\u001b[0m\u001b[0;34m=\u001b[0m\u001b[0;36m0\u001b[0m\u001b[0;34m)\u001b[0m\u001b[0;34m\u001b[0m\u001b[0m\n\u001b[0m\u001b[1;32m      2\u001b[0m \u001b[0mdf_species_draft_seq_in_each_class\u001b[0m\u001b[0;34m\u001b[0m\u001b[0m\n",
      "\u001b[0;32m/Users/dmolik/Library/Python/2.7/lib/python/site-packages/pandas/core/reshape/pivot.pyc\u001b[0m in \u001b[0;36mpivot_table\u001b[0;34m(data, values, index, columns, aggfunc, fill_value, margins, dropna, margins_name)\u001b[0m\n\u001b[1;32m     79\u001b[0m         \u001b[0mvalues\u001b[0m \u001b[0;34m=\u001b[0m \u001b[0mlist\u001b[0m\u001b[0;34m(\u001b[0m\u001b[0mvalues\u001b[0m\u001b[0;34m)\u001b[0m\u001b[0;34m\u001b[0m\u001b[0m\n\u001b[1;32m     80\u001b[0m \u001b[0;34m\u001b[0m\u001b[0m\n\u001b[0;32m---> 81\u001b[0;31m     \u001b[0mgrouped\u001b[0m \u001b[0;34m=\u001b[0m \u001b[0mdata\u001b[0m\u001b[0;34m.\u001b[0m\u001b[0mgroupby\u001b[0m\u001b[0;34m(\u001b[0m\u001b[0mkeys\u001b[0m\u001b[0;34m,\u001b[0m \u001b[0mobserved\u001b[0m\u001b[0;34m=\u001b[0m\u001b[0mFalse\u001b[0m\u001b[0;34m)\u001b[0m\u001b[0;34m\u001b[0m\u001b[0m\n\u001b[0m\u001b[1;32m     82\u001b[0m     \u001b[0magged\u001b[0m \u001b[0;34m=\u001b[0m \u001b[0mgrouped\u001b[0m\u001b[0;34m.\u001b[0m\u001b[0magg\u001b[0m\u001b[0;34m(\u001b[0m\u001b[0maggfunc\u001b[0m\u001b[0;34m)\u001b[0m\u001b[0;34m\u001b[0m\u001b[0m\n\u001b[1;32m     83\u001b[0m     \u001b[0;32mif\u001b[0m \u001b[0mdropna\u001b[0m \u001b[0;32mand\u001b[0m \u001b[0misinstance\u001b[0m\u001b[0;34m(\u001b[0m\u001b[0magged\u001b[0m\u001b[0;34m,\u001b[0m \u001b[0mABCDataFrame\u001b[0m\u001b[0;34m)\u001b[0m \u001b[0;32mand\u001b[0m \u001b[0mlen\u001b[0m\u001b[0;34m(\u001b[0m\u001b[0magged\u001b[0m\u001b[0;34m.\u001b[0m\u001b[0mcolumns\u001b[0m\u001b[0;34m)\u001b[0m\u001b[0;34m:\u001b[0m\u001b[0;34m\u001b[0m\u001b[0m\n",
      "\u001b[0;32m/Users/dmolik/Library/Python/2.7/lib/python/site-packages/pandas/core/generic.pyc\u001b[0m in \u001b[0;36mgroupby\u001b[0;34m(self, by, axis, level, as_index, sort, group_keys, squeeze, observed, **kwargs)\u001b[0m\n\u001b[1;32m   7630\u001b[0m         return groupby(self, by=by, axis=axis, level=level, as_index=as_index,\n\u001b[1;32m   7631\u001b[0m                        \u001b[0msort\u001b[0m\u001b[0;34m=\u001b[0m\u001b[0msort\u001b[0m\u001b[0;34m,\u001b[0m \u001b[0mgroup_keys\u001b[0m\u001b[0;34m=\u001b[0m\u001b[0mgroup_keys\u001b[0m\u001b[0;34m,\u001b[0m \u001b[0msqueeze\u001b[0m\u001b[0;34m=\u001b[0m\u001b[0msqueeze\u001b[0m\u001b[0;34m,\u001b[0m\u001b[0;34m\u001b[0m\u001b[0m\n\u001b[0;32m-> 7632\u001b[0;31m                        observed=observed, **kwargs)\n\u001b[0m\u001b[1;32m   7633\u001b[0m \u001b[0;34m\u001b[0m\u001b[0m\n\u001b[1;32m   7634\u001b[0m     def asfreq(self, freq, method=None, how=None, normalize=False,\n",
      "\u001b[0;32m/Users/dmolik/Library/Python/2.7/lib/python/site-packages/pandas/core/groupby/groupby.pyc\u001b[0m in \u001b[0;36mgroupby\u001b[0;34m(obj, by, **kwds)\u001b[0m\n\u001b[1;32m   2108\u001b[0m         \u001b[0;32mraise\u001b[0m \u001b[0mTypeError\u001b[0m\u001b[0;34m(\u001b[0m\u001b[0;34m'invalid type: {}'\u001b[0m\u001b[0;34m.\u001b[0m\u001b[0mformat\u001b[0m\u001b[0;34m(\u001b[0m\u001b[0mobj\u001b[0m\u001b[0;34m)\u001b[0m\u001b[0;34m)\u001b[0m\u001b[0;34m\u001b[0m\u001b[0m\n\u001b[1;32m   2109\u001b[0m \u001b[0;34m\u001b[0m\u001b[0m\n\u001b[0;32m-> 2110\u001b[0;31m     \u001b[0;32mreturn\u001b[0m \u001b[0mklass\u001b[0m\u001b[0;34m(\u001b[0m\u001b[0mobj\u001b[0m\u001b[0;34m,\u001b[0m \u001b[0mby\u001b[0m\u001b[0;34m,\u001b[0m \u001b[0;34m**\u001b[0m\u001b[0mkwds\u001b[0m\u001b[0;34m)\u001b[0m\u001b[0;34m\u001b[0m\u001b[0m\n\u001b[0m",
      "\u001b[0;32m/Users/dmolik/Library/Python/2.7/lib/python/site-packages/pandas/core/groupby/groupby.pyc\u001b[0m in \u001b[0;36m__init__\u001b[0;34m(self, obj, keys, axis, level, grouper, exclusions, selection, as_index, sort, group_keys, squeeze, observed, **kwargs)\u001b[0m\n\u001b[1;32m    358\u001b[0m                                                     \u001b[0msort\u001b[0m\u001b[0;34m=\u001b[0m\u001b[0msort\u001b[0m\u001b[0;34m,\u001b[0m\u001b[0;34m\u001b[0m\u001b[0m\n\u001b[1;32m    359\u001b[0m                                                     \u001b[0mobserved\u001b[0m\u001b[0;34m=\u001b[0m\u001b[0mobserved\u001b[0m\u001b[0;34m,\u001b[0m\u001b[0;34m\u001b[0m\u001b[0m\n\u001b[0;32m--> 360\u001b[0;31m                                                     mutated=self.mutated)\n\u001b[0m\u001b[1;32m    361\u001b[0m \u001b[0;34m\u001b[0m\u001b[0m\n\u001b[1;32m    362\u001b[0m         \u001b[0mself\u001b[0m\u001b[0;34m.\u001b[0m\u001b[0mobj\u001b[0m \u001b[0;34m=\u001b[0m \u001b[0mobj\u001b[0m\u001b[0;34m\u001b[0m\u001b[0m\n",
      "\u001b[0;32m/Users/dmolik/Library/Python/2.7/lib/python/site-packages/pandas/core/groupby/grouper.pyc\u001b[0m in \u001b[0;36m_get_grouper\u001b[0;34m(obj, key, axis, level, sort, observed, mutated, validate)\u001b[0m\n\u001b[1;32m    576\u001b[0m                 \u001b[0min_axis\u001b[0m\u001b[0;34m,\u001b[0m \u001b[0mname\u001b[0m\u001b[0;34m,\u001b[0m \u001b[0mlevel\u001b[0m\u001b[0;34m,\u001b[0m \u001b[0mgpr\u001b[0m \u001b[0;34m=\u001b[0m \u001b[0mFalse\u001b[0m\u001b[0;34m,\u001b[0m \u001b[0mNone\u001b[0m\u001b[0;34m,\u001b[0m \u001b[0mgpr\u001b[0m\u001b[0;34m,\u001b[0m \u001b[0mNone\u001b[0m\u001b[0;34m\u001b[0m\u001b[0m\n\u001b[1;32m    577\u001b[0m             \u001b[0;32melse\u001b[0m\u001b[0;34m:\u001b[0m\u001b[0;34m\u001b[0m\u001b[0m\n\u001b[0;32m--> 578\u001b[0;31m                 \u001b[0;32mraise\u001b[0m \u001b[0mKeyError\u001b[0m\u001b[0;34m(\u001b[0m\u001b[0mgpr\u001b[0m\u001b[0;34m)\u001b[0m\u001b[0;34m\u001b[0m\u001b[0m\n\u001b[0m\u001b[1;32m    579\u001b[0m         \u001b[0;32melif\u001b[0m \u001b[0misinstance\u001b[0m\u001b[0;34m(\u001b[0m\u001b[0mgpr\u001b[0m\u001b[0;34m,\u001b[0m \u001b[0mGrouper\u001b[0m\u001b[0;34m)\u001b[0m \u001b[0;32mand\u001b[0m \u001b[0mgpr\u001b[0m\u001b[0;34m.\u001b[0m\u001b[0mkey\u001b[0m \u001b[0;32mis\u001b[0m \u001b[0;32mnot\u001b[0m \u001b[0mNone\u001b[0m\u001b[0;34m:\u001b[0m\u001b[0;34m\u001b[0m\u001b[0m\n\u001b[1;32m    580\u001b[0m             \u001b[0;31m# Add key to exclusions\u001b[0m\u001b[0;34m\u001b[0m\u001b[0;34m\u001b[0m\u001b[0m\n",
      "\u001b[0;31mKeyError\u001b[0m: 'class'"
     ]
    }
   ],
   "source": [
    "df_species_draft_seq_in_each_class = pd.pivot_table(data=df_draft_all_passing, index='class', values='species', aggfunc=lambda x: len(x.unique()), fill_value=0)\n",
    "df_species_draft_seq_in_each_class"
   ]
  },
  {
   "cell_type": "code",
   "execution_count": null,
   "metadata": {},
   "outputs": [],
   "source": [
    "df_species_any_seq_in_each_class = pd.pivot_table(data=df_sorted_no_dups[df_sorted_no_dups['phylum']=='Arthropoda'], index='order', values='species', aggfunc=lambda x: len(x.unique()), fill_value=0)\n",
    "df_species_any_seq_in_each_class.plot(y='species', kind='bar', width=0.9, color='orange', title='Number of Arthropod species with any assembly by Order', figsize=(30,8))\n",
    "plt.savefig('NCBI_Genome_stats_images/Any_arthropod_assembly_by_order.png')"
   ]
  },
  {
   "cell_type": "code",
   "execution_count": null,
   "metadata": {},
   "outputs": [],
   "source": [
    "df_species_any_seq_in_each_class = pd.pivot_table(data=df_sorted_no_dups[df_sorted_no_dups['order']=='Diptera'], index='family', values='species', aggfunc=lambda x: len(x.unique()), fill_value=0)\n",
    "df_species_any_seq_in_each_class.plot(y='species', kind='bar', width=0.9, color='orange', title='Number of Arthropod species with any assembly', figsize=(30,8))\n",
    "plt.savefig('NCBI_Genome_stats_images/Any_diptera_assembly_by_family.png')"
   ]
  },
  {
   "cell_type": "markdown",
   "metadata": {},
   "source": [
    "# How many are _Drosophila_??? 69!"
   ]
  },
  {
   "cell_type": "code",
   "execution_count": 59,
   "metadata": {},
   "outputs": [
    {
     "data": {
      "text/plain": [
       "0      Drosophila pseudoobscura\n",
       "1           Drosophila simulans\n",
       "2       Drosophila melanogaster\n",
       "3             Drosophila erecta\n",
       "4         Drosophila mauritiana\n",
       "5          Drosophila sechellia\n",
       "6             Drosophila azteca\n",
       "7          Drosophila athabasca\n",
       "8            Drosophila miranda\n",
       "10        Drosophila subobscura\n",
       "13           Drosophila virilis\n",
       "16         Drosophila ananassae\n",
       "18             Drosophila orena\n",
       "19        Drosophila persimilis\n",
       "20             Drosophila lowei\n",
       "23             Drosophila hydei\n",
       "26      Drosophila novamexicana\n",
       "27          Drosophila innubila\n",
       "37           Drosophila serrata\n",
       "44         Drosophila biarmipes\n",
       "59          Drosophila kanapiae\n",
       "66           Drosophila guanche\n",
       "69        Drosophila ficusphila\n",
       "74        Drosophila eugracilis\n",
       "76           Drosophila elegans\n",
       "78           Drosophila birchii\n",
       "79          Drosophila kikkawai\n",
       "86        Drosophila willistoni\n",
       "93           Drosophila busckii\n",
       "96       Drosophila bipectinata\n",
       "                 ...           \n",
       "121        Drosophila grimshawi\n",
       "128        Drosophila jambulina\n",
       "129           Drosophila seguyi\n",
       "136         Drosophila asahinai\n",
       "144            Drosophila bocki\n",
       "146     Drosophila punjabiensis\n",
       "148          Drosophila vulcana\n",
       "154     Drosophila lacteicornis\n",
       "166    Drosophila nigromelanica\n",
       "170             Drosophila rufa\n",
       "172             Drosophila tani\n",
       "185    Drosophila micromelanica\n",
       "188          Drosophila auraria\n",
       "215           Drosophila bakoue\n",
       "224        Drosophila watanabei\n",
       "228           Drosophila burlai\n",
       "239         Drosophila nikananu\n",
       "246          Drosophila navojoa\n",
       "252          Drosophila suzukii\n",
       "254          Drosophila leontia\n",
       "269        Drosophila americana\n",
       "279       Drosophila triauraria\n",
       "283         Drosophila rhopaloa\n",
       "290          Drosophila robusta\n",
       "292         Drosophila melanica\n",
       "317         Drosophila arizonae\n",
       "375       Drosophila albomicans\n",
       "377          Drosophila montana\n",
       "403           Drosophila nasuta\n",
       "405        Drosophila neonasuta\n",
       "Name: species, Length: 69, dtype: object"
      ]
     },
     "execution_count": 59,
     "metadata": {},
     "output_type": "execute_result"
    }
   ],
   "source": [
    "df_sorted_no_dups[df_sorted_no_dups['genera'] == 'Drosophila']['species']"
   ]
  },
  {
   "cell_type": "code",
   "execution_count": 60,
   "metadata": {},
   "outputs": [
    {
     "data": {
      "application/vnd.plotly.v1+json": {
       "config": {
        "plotlyServerURL": "https://plot.ly"
       },
       "data": [
        {
         "customdata": [
          [
           "Drosophila pseudoobscura"
          ],
          [
           "Drosophila simulans"
          ],
          [
           "Drosophila melanogaster"
          ],
          [
           "Drosophila mauritiana"
          ],
          [
           "Drosophila sechellia"
          ],
          [
           "Drosophila athabasca"
          ],
          [
           "Drosophila miranda"
          ],
          [
           "Drosophila subobscura"
          ],
          [
           "Drosophila lowei"
          ],
          [
           "Drosophila innubila"
          ],
          [
           "Drosophila busckii"
          ],
          [
           "Drosophila yakuba"
          ]
         ],
         "hoverlabel": {
          "namelength": 0
         },
         "hovertemplate": "status=Chromosome<br>contig_n50=%{x}<br>scaffold_n50=%{y}<br>species=%{customdata[0]}",
         "legendgroup": "status=Chromosome",
         "marker": {
          "color": "#636efa",
          "line": {
           "color": "DarkSlateGrey",
           "width": 2
          },
          "size": 12,
          "symbol": "circle"
         },
         "mode": "markers",
         "name": "status=Chromosome",
         "showlegend": true,
         "textposition": "top center",
         "type": "scatter",
         "x": [
          26005469,
          22909593,
          22407379,
          22120385,
          19907079,
          15319690,
          11978448,
          11370518,
          5037799,
          3071820,
          157428,
          115562
         ],
         "xaxis": "x",
         "y": [
          30730540,
          24213528,
          25025258,
          24228064,
          24956976,
          52101127,
          35263383,
          24182865,
          48132706,
          29570363,
          26871514,
          21770863
         ],
         "yaxis": "y"
        },
        {
         "customdata": [
          [
           "Drosophila erecta"
          ],
          [
           "Drosophila azteca"
          ],
          [
           "Drosophila virilis"
          ],
          [
           "Drosophila ananassae"
          ],
          [
           "Drosophila orena"
          ],
          [
           "Drosophila persimilis"
          ],
          [
           "Drosophila hydei"
          ],
          [
           "Drosophila novamexicana"
          ],
          [
           "Drosophila serrata"
          ],
          [
           "Drosophila biarmipes"
          ],
          [
           "Drosophila americana"
          ]
         ],
         "hoverlabel": {
          "namelength": 0
         },
         "hovertemplate": "status=Contig<br>contig_n50=%{x}<br>scaffold_n50=%{y}<br>species=%{customdata[0]}",
         "legendgroup": "status=Contig",
         "marker": {
          "color": "#EF553B",
          "line": {
           "color": "DarkSlateGrey",
           "width": 2
          },
          "size": 12,
          "symbol": "circle"
         },
         "mode": "markers",
         "name": "status=Contig",
         "showlegend": true,
         "textposition": "top center",
         "type": "scatter",
         "x": [
          22146549,
          17833963,
          8697263,
          6212830,
          5273554,
          5212974,
          3367158,
          3158326,
          942627,
          718147,
          22571
         ],
         "xaxis": "x",
         "y": [
          22146549,
          17833963,
          8697263,
          6212830,
          5273554,
          5212974,
          3367158,
          3158326,
          942627,
          718147,
          22571
         ],
         "yaxis": "y"
        },
        {
         "customdata": [
          [
           "Drosophila kanapiae"
          ],
          [
           "Drosophila guanche"
          ],
          [
           "Drosophila ficusphila"
          ],
          [
           "Drosophila eugracilis"
          ],
          [
           "Drosophila elegans"
          ],
          [
           "Drosophila birchii"
          ],
          [
           "Drosophila kikkawai"
          ],
          [
           "Drosophila willistoni"
          ],
          [
           "Drosophila bipectinata"
          ],
          [
           "Drosophila lacertosa"
          ],
          [
           "Drosophila mayri"
          ],
          [
           "Drosophila takahashii"
          ],
          [
           "Drosophila mojavensis"
          ],
          [
           "Drosophila obscura"
          ],
          [
           "Drosophila bunnanda"
          ],
          [
           "Drosophila truncata"
          ],
          [
           "Drosophila pectinifera"
          ],
          [
           "Drosophila grimshawi"
          ],
          [
           "Drosophila jambulina"
          ],
          [
           "Drosophila seguyi"
          ],
          [
           "Drosophila asahinai"
          ],
          [
           "Drosophila bocki"
          ],
          [
           "Drosophila punjabiensis"
          ],
          [
           "Drosophila vulcana"
          ],
          [
           "Drosophila lacteicornis"
          ],
          [
           "Drosophila nigromelanica"
          ],
          [
           "Drosophila rufa"
          ],
          [
           "Drosophila tani"
          ],
          [
           "Drosophila micromelanica"
          ],
          [
           "Drosophila auraria"
          ],
          [
           "Drosophila bakoue"
          ],
          [
           "Drosophila watanabei"
          ],
          [
           "Drosophila burlai"
          ],
          [
           "Drosophila nikananu"
          ],
          [
           "Drosophila navojoa"
          ],
          [
           "Drosophila suzukii"
          ],
          [
           "Drosophila leontia"
          ],
          [
           "Drosophila triauraria"
          ],
          [
           "Drosophila rhopaloa"
          ],
          [
           "Drosophila robusta"
          ],
          [
           "Drosophila melanica"
          ],
          [
           "Drosophila arizonae"
          ],
          [
           "Drosophila albomicans"
          ],
          [
           "Drosophila montana"
          ],
          [
           "Drosophila nasuta"
          ],
          [
           "Drosophila neonasuta"
          ]
         ],
         "hoverlabel": {
          "namelength": 0
         },
         "hovertemplate": "status=Scaffold<br>contig_n50=%{x}<br>scaffold_n50=%{y}<br>species=%{customdata[0]}",
         "legendgroup": "status=Scaffold",
         "marker": {
          "color": "#00cc96",
          "line": {
           "color": "DarkSlateGrey",
           "width": 2
          },
          "size": 12,
          "symbol": "circle"
         },
         "mode": "markers",
         "name": "status=Scaffold",
         "showlegend": true,
         "textposition": "top center",
         "type": "scatter",
         "x": [
          348318,
          294367,
          275894,
          224458,
          212818,
          209731,
          209056,
          180217,
          149088,
          144683,
          131064,
          126259,
          121517,
          114814,
          106114,
          101914,
          93696,
          91192,
          84243,
          83310,
          77794,
          73461,
          72339,
          70792,
          66522,
          60665,
          57257,
          55635,
          49440,
          47547,
          36923,
          32759,
          31415,
          28823,
          26679,
          24954,
          24887,
          20733,
          19484,
          18538,
          18202,
          15132,
          7241,
          6978,
          3966,
          3670
         ],
         "xaxis": "x",
         "y": [
          405601,
          7251133,
          1050541,
          976885,
          1714184,
          242398,
          903682,
          4511350,
          663995,
          162096,
          151783,
          387676,
          24764193,
          472512,
          116592,
          127470,
          102287,
          8399593,
          92241,
          88705,
          82718,
          80877,
          77693,
          79402,
          70510,
          72836,
          59460,
          57531,
          50769,
          48331,
          38013,
          33883,
          31899,
          29794,
          389283,
          388966,
          25943,
          21569,
          45514,
          26818,
          28961,
          26536676,
          8778,
          40647,
          5692,
          4802
         ],
         "yaxis": "y"
        }
       ],
       "layout": {
        "height": 600,
        "legend": {
         "tracegroupgap": 0
        },
        "template": {
         "data": {
          "bar": [
           {
            "error_x": {
             "color": "#2a3f5f"
            },
            "error_y": {
             "color": "#2a3f5f"
            },
            "marker": {
             "line": {
              "color": "white",
              "width": 0.5
             }
            },
            "type": "bar"
           }
          ],
          "barpolar": [
           {
            "marker": {
             "line": {
              "color": "white",
              "width": 0.5
             }
            },
            "type": "barpolar"
           }
          ],
          "carpet": [
           {
            "aaxis": {
             "endlinecolor": "#2a3f5f",
             "gridcolor": "#C8D4E3",
             "linecolor": "#C8D4E3",
             "minorgridcolor": "#C8D4E3",
             "startlinecolor": "#2a3f5f"
            },
            "baxis": {
             "endlinecolor": "#2a3f5f",
             "gridcolor": "#C8D4E3",
             "linecolor": "#C8D4E3",
             "minorgridcolor": "#C8D4E3",
             "startlinecolor": "#2a3f5f"
            },
            "type": "carpet"
           }
          ],
          "choropleth": [
           {
            "colorbar": {
             "outlinewidth": 0,
             "ticks": ""
            },
            "type": "choropleth"
           }
          ],
          "contour": [
           {
            "colorbar": {
             "outlinewidth": 0,
             "ticks": ""
            },
            "colorscale": [
             [
              0,
              "#0d0887"
             ],
             [
              0.1111111111111111,
              "#46039f"
             ],
             [
              0.2222222222222222,
              "#7201a8"
             ],
             [
              0.3333333333333333,
              "#9c179e"
             ],
             [
              0.4444444444444444,
              "#bd3786"
             ],
             [
              0.5555555555555556,
              "#d8576b"
             ],
             [
              0.6666666666666666,
              "#ed7953"
             ],
             [
              0.7777777777777778,
              "#fb9f3a"
             ],
             [
              0.8888888888888888,
              "#fdca26"
             ],
             [
              1,
              "#f0f921"
             ]
            ],
            "type": "contour"
           }
          ],
          "contourcarpet": [
           {
            "colorbar": {
             "outlinewidth": 0,
             "ticks": ""
            },
            "type": "contourcarpet"
           }
          ],
          "heatmap": [
           {
            "colorbar": {
             "outlinewidth": 0,
             "ticks": ""
            },
            "colorscale": [
             [
              0,
              "#0d0887"
             ],
             [
              0.1111111111111111,
              "#46039f"
             ],
             [
              0.2222222222222222,
              "#7201a8"
             ],
             [
              0.3333333333333333,
              "#9c179e"
             ],
             [
              0.4444444444444444,
              "#bd3786"
             ],
             [
              0.5555555555555556,
              "#d8576b"
             ],
             [
              0.6666666666666666,
              "#ed7953"
             ],
             [
              0.7777777777777778,
              "#fb9f3a"
             ],
             [
              0.8888888888888888,
              "#fdca26"
             ],
             [
              1,
              "#f0f921"
             ]
            ],
            "type": "heatmap"
           }
          ],
          "heatmapgl": [
           {
            "colorbar": {
             "outlinewidth": 0,
             "ticks": ""
            },
            "colorscale": [
             [
              0,
              "#0d0887"
             ],
             [
              0.1111111111111111,
              "#46039f"
             ],
             [
              0.2222222222222222,
              "#7201a8"
             ],
             [
              0.3333333333333333,
              "#9c179e"
             ],
             [
              0.4444444444444444,
              "#bd3786"
             ],
             [
              0.5555555555555556,
              "#d8576b"
             ],
             [
              0.6666666666666666,
              "#ed7953"
             ],
             [
              0.7777777777777778,
              "#fb9f3a"
             ],
             [
              0.8888888888888888,
              "#fdca26"
             ],
             [
              1,
              "#f0f921"
             ]
            ],
            "type": "heatmapgl"
           }
          ],
          "histogram": [
           {
            "marker": {
             "colorbar": {
              "outlinewidth": 0,
              "ticks": ""
             }
            },
            "type": "histogram"
           }
          ],
          "histogram2d": [
           {
            "colorbar": {
             "outlinewidth": 0,
             "ticks": ""
            },
            "colorscale": [
             [
              0,
              "#0d0887"
             ],
             [
              0.1111111111111111,
              "#46039f"
             ],
             [
              0.2222222222222222,
              "#7201a8"
             ],
             [
              0.3333333333333333,
              "#9c179e"
             ],
             [
              0.4444444444444444,
              "#bd3786"
             ],
             [
              0.5555555555555556,
              "#d8576b"
             ],
             [
              0.6666666666666666,
              "#ed7953"
             ],
             [
              0.7777777777777778,
              "#fb9f3a"
             ],
             [
              0.8888888888888888,
              "#fdca26"
             ],
             [
              1,
              "#f0f921"
             ]
            ],
            "type": "histogram2d"
           }
          ],
          "histogram2dcontour": [
           {
            "colorbar": {
             "outlinewidth": 0,
             "ticks": ""
            },
            "colorscale": [
             [
              0,
              "#0d0887"
             ],
             [
              0.1111111111111111,
              "#46039f"
             ],
             [
              0.2222222222222222,
              "#7201a8"
             ],
             [
              0.3333333333333333,
              "#9c179e"
             ],
             [
              0.4444444444444444,
              "#bd3786"
             ],
             [
              0.5555555555555556,
              "#d8576b"
             ],
             [
              0.6666666666666666,
              "#ed7953"
             ],
             [
              0.7777777777777778,
              "#fb9f3a"
             ],
             [
              0.8888888888888888,
              "#fdca26"
             ],
             [
              1,
              "#f0f921"
             ]
            ],
            "type": "histogram2dcontour"
           }
          ],
          "mesh3d": [
           {
            "colorbar": {
             "outlinewidth": 0,
             "ticks": ""
            },
            "type": "mesh3d"
           }
          ],
          "parcoords": [
           {
            "line": {
             "colorbar": {
              "outlinewidth": 0,
              "ticks": ""
             }
            },
            "type": "parcoords"
           }
          ],
          "scatter": [
           {
            "marker": {
             "colorbar": {
              "outlinewidth": 0,
              "ticks": ""
             }
            },
            "type": "scatter"
           }
          ],
          "scatter3d": [
           {
            "line": {
             "colorbar": {
              "outlinewidth": 0,
              "ticks": ""
             }
            },
            "marker": {
             "colorbar": {
              "outlinewidth": 0,
              "ticks": ""
             }
            },
            "type": "scatter3d"
           }
          ],
          "scattercarpet": [
           {
            "marker": {
             "colorbar": {
              "outlinewidth": 0,
              "ticks": ""
             }
            },
            "type": "scattercarpet"
           }
          ],
          "scattergeo": [
           {
            "marker": {
             "colorbar": {
              "outlinewidth": 0,
              "ticks": ""
             }
            },
            "type": "scattergeo"
           }
          ],
          "scattergl": [
           {
            "marker": {
             "colorbar": {
              "outlinewidth": 0,
              "ticks": ""
             }
            },
            "type": "scattergl"
           }
          ],
          "scattermapbox": [
           {
            "marker": {
             "colorbar": {
              "outlinewidth": 0,
              "ticks": ""
             }
            },
            "type": "scattermapbox"
           }
          ],
          "scatterpolar": [
           {
            "marker": {
             "colorbar": {
              "outlinewidth": 0,
              "ticks": ""
             }
            },
            "type": "scatterpolar"
           }
          ],
          "scatterpolargl": [
           {
            "marker": {
             "colorbar": {
              "outlinewidth": 0,
              "ticks": ""
             }
            },
            "type": "scatterpolargl"
           }
          ],
          "scatterternary": [
           {
            "marker": {
             "colorbar": {
              "outlinewidth": 0,
              "ticks": ""
             }
            },
            "type": "scatterternary"
           }
          ],
          "surface": [
           {
            "colorbar": {
             "outlinewidth": 0,
             "ticks": ""
            },
            "colorscale": [
             [
              0,
              "#0d0887"
             ],
             [
              0.1111111111111111,
              "#46039f"
             ],
             [
              0.2222222222222222,
              "#7201a8"
             ],
             [
              0.3333333333333333,
              "#9c179e"
             ],
             [
              0.4444444444444444,
              "#bd3786"
             ],
             [
              0.5555555555555556,
              "#d8576b"
             ],
             [
              0.6666666666666666,
              "#ed7953"
             ],
             [
              0.7777777777777778,
              "#fb9f3a"
             ],
             [
              0.8888888888888888,
              "#fdca26"
             ],
             [
              1,
              "#f0f921"
             ]
            ],
            "type": "surface"
           }
          ],
          "table": [
           {
            "cells": {
             "fill": {
              "color": "#EBF0F8"
             },
             "line": {
              "color": "white"
             }
            },
            "header": {
             "fill": {
              "color": "#C8D4E3"
             },
             "line": {
              "color": "white"
             }
            },
            "type": "table"
           }
          ]
         },
         "layout": {
          "annotationdefaults": {
           "arrowcolor": "#2a3f5f",
           "arrowhead": 0,
           "arrowwidth": 1
          },
          "colorscale": {
           "diverging": [
            [
             0,
             "#8e0152"
            ],
            [
             0.1,
             "#c51b7d"
            ],
            [
             0.2,
             "#de77ae"
            ],
            [
             0.3,
             "#f1b6da"
            ],
            [
             0.4,
             "#fde0ef"
            ],
            [
             0.5,
             "#f7f7f7"
            ],
            [
             0.6,
             "#e6f5d0"
            ],
            [
             0.7,
             "#b8e186"
            ],
            [
             0.8,
             "#7fbc41"
            ],
            [
             0.9,
             "#4d9221"
            ],
            [
             1,
             "#276419"
            ]
           ],
           "sequential": [
            [
             0,
             "#0d0887"
            ],
            [
             0.1111111111111111,
             "#46039f"
            ],
            [
             0.2222222222222222,
             "#7201a8"
            ],
            [
             0.3333333333333333,
             "#9c179e"
            ],
            [
             0.4444444444444444,
             "#bd3786"
            ],
            [
             0.5555555555555556,
             "#d8576b"
            ],
            [
             0.6666666666666666,
             "#ed7953"
            ],
            [
             0.7777777777777778,
             "#fb9f3a"
            ],
            [
             0.8888888888888888,
             "#fdca26"
            ],
            [
             1,
             "#f0f921"
            ]
           ],
           "sequentialminus": [
            [
             0,
             "#0d0887"
            ],
            [
             0.1111111111111111,
             "#46039f"
            ],
            [
             0.2222222222222222,
             "#7201a8"
            ],
            [
             0.3333333333333333,
             "#9c179e"
            ],
            [
             0.4444444444444444,
             "#bd3786"
            ],
            [
             0.5555555555555556,
             "#d8576b"
            ],
            [
             0.6666666666666666,
             "#ed7953"
            ],
            [
             0.7777777777777778,
             "#fb9f3a"
            ],
            [
             0.8888888888888888,
             "#fdca26"
            ],
            [
             1,
             "#f0f921"
            ]
           ]
          },
          "colorway": [
           "#636efa",
           "#EF553B",
           "#00cc96",
           "#ab63fa",
           "#FFA15A",
           "#19d3f3",
           "#FF6692",
           "#B6E880",
           "#FF97FF",
           "#FECB52"
          ],
          "font": {
           "color": "#2a3f5f"
          },
          "geo": {
           "bgcolor": "white",
           "lakecolor": "white",
           "landcolor": "white",
           "showlakes": true,
           "showland": true,
           "subunitcolor": "#C8D4E3"
          },
          "hoverlabel": {
           "align": "left"
          },
          "hovermode": "closest",
          "mapbox": {
           "style": "light"
          },
          "paper_bgcolor": "white",
          "plot_bgcolor": "white",
          "polar": {
           "angularaxis": {
            "gridcolor": "#EBF0F8",
            "linecolor": "#EBF0F8",
            "ticks": ""
           },
           "bgcolor": "white",
           "radialaxis": {
            "gridcolor": "#EBF0F8",
            "linecolor": "#EBF0F8",
            "ticks": ""
           }
          },
          "scene": {
           "xaxis": {
            "backgroundcolor": "white",
            "gridcolor": "#DFE8F3",
            "gridwidth": 2,
            "linecolor": "#EBF0F8",
            "showbackground": true,
            "ticks": "",
            "zerolinecolor": "#EBF0F8"
           },
           "yaxis": {
            "backgroundcolor": "white",
            "gridcolor": "#DFE8F3",
            "gridwidth": 2,
            "linecolor": "#EBF0F8",
            "showbackground": true,
            "ticks": "",
            "zerolinecolor": "#EBF0F8"
           },
           "zaxis": {
            "backgroundcolor": "white",
            "gridcolor": "#DFE8F3",
            "gridwidth": 2,
            "linecolor": "#EBF0F8",
            "showbackground": true,
            "ticks": "",
            "zerolinecolor": "#EBF0F8"
           }
          },
          "shapedefaults": {
           "line": {
            "color": "#2a3f5f"
           }
          },
          "ternary": {
           "aaxis": {
            "gridcolor": "#DFE8F3",
            "linecolor": "#A2B1C6",
            "ticks": ""
           },
           "baxis": {
            "gridcolor": "#DFE8F3",
            "linecolor": "#A2B1C6",
            "ticks": ""
           },
           "bgcolor": "white",
           "caxis": {
            "gridcolor": "#DFE8F3",
            "linecolor": "#A2B1C6",
            "ticks": ""
           }
          },
          "title": {
           "x": 0.05
          },
          "xaxis": {
           "automargin": true,
           "gridcolor": "#EBF0F8",
           "linecolor": "#EBF0F8",
           "ticks": "",
           "zerolinecolor": "#EBF0F8",
           "zerolinewidth": 2
          },
          "yaxis": {
           "automargin": true,
           "gridcolor": "#EBF0F8",
           "linecolor": "#EBF0F8",
           "ticks": "",
           "zerolinecolor": "#EBF0F8",
           "zerolinewidth": 2
          }
         }
        },
        "title": {
         "text": "Drosophila Genome Assembly Statistics"
        },
        "xaxis": {
         "anchor": "y",
         "domain": [
          0,
          0.98
         ],
         "title": {
          "text": "contig_n50"
         },
         "type": "log"
        },
        "yaxis": {
         "anchor": "x",
         "domain": [
          0,
          1
         ],
         "title": {
          "text": "scaffold_n50"
         },
         "type": "log"
        }
       }
      },
      "text/html": [
       "<div>\n",
       "        \n",
       "        \n",
       "            <div id=\"3ae5f98f-e888-4a6d-a933-f2e779129ffc\" class=\"plotly-graph-div\" style=\"height:600px; width:100%;\"></div>\n",
       "            <script type=\"text/javascript\">\n",
       "                require([\"plotly\"], function(Plotly) {\n",
       "                    window.PLOTLYENV=window.PLOTLYENV || {};\n",
       "                    \n",
       "                if (document.getElementById(\"3ae5f98f-e888-4a6d-a933-f2e779129ffc\")) {\n",
       "                    Plotly.newPlot(\n",
       "                        '3ae5f98f-e888-4a6d-a933-f2e779129ffc',\n",
       "                        [{\"customdata\": [[\"Drosophila pseudoobscura\"], [\"Drosophila simulans\"], [\"Drosophila melanogaster\"], [\"Drosophila mauritiana\"], [\"Drosophila sechellia\"], [\"Drosophila athabasca\"], [\"Drosophila miranda\"], [\"Drosophila subobscura\"], [\"Drosophila lowei\"], [\"Drosophila innubila\"], [\"Drosophila busckii\"], [\"Drosophila yakuba\"]], \"hoverlabel\": {\"namelength\": 0}, \"hovertemplate\": \"status=Chromosome<br>contig_n50=%{x}<br>scaffold_n50=%{y}<br>species=%{customdata[0]}\", \"legendgroup\": \"status=Chromosome\", \"marker\": {\"color\": \"#636efa\", \"line\": {\"color\": \"DarkSlateGrey\", \"width\": 2}, \"size\": 12, \"symbol\": \"circle\"}, \"mode\": \"markers\", \"name\": \"status=Chromosome\", \"showlegend\": true, \"textposition\": \"top center\", \"type\": \"scatter\", \"x\": [26005469, 22909593, 22407379, 22120385, 19907079, 15319690, 11978448, 11370518, 5037799, 3071820, 157428, 115562], \"xaxis\": \"x\", \"y\": [30730540, 24213528, 25025258, 24228064, 24956976, 52101127, 35263383, 24182865, 48132706, 29570363, 26871514, 21770863], \"yaxis\": \"y\"}, {\"customdata\": [[\"Drosophila erecta\"], [\"Drosophila azteca\"], [\"Drosophila virilis\"], [\"Drosophila ananassae\"], [\"Drosophila orena\"], [\"Drosophila persimilis\"], [\"Drosophila hydei\"], [\"Drosophila novamexicana\"], [\"Drosophila serrata\"], [\"Drosophila biarmipes\"], [\"Drosophila americana\"]], \"hoverlabel\": {\"namelength\": 0}, \"hovertemplate\": \"status=Contig<br>contig_n50=%{x}<br>scaffold_n50=%{y}<br>species=%{customdata[0]}\", \"legendgroup\": \"status=Contig\", \"marker\": {\"color\": \"#EF553B\", \"line\": {\"color\": \"DarkSlateGrey\", \"width\": 2}, \"size\": 12, \"symbol\": \"circle\"}, \"mode\": \"markers\", \"name\": \"status=Contig\", \"showlegend\": true, \"textposition\": \"top center\", \"type\": \"scatter\", \"x\": [22146549, 17833963, 8697263, 6212830, 5273554, 5212974, 3367158, 3158326, 942627, 718147, 22571], \"xaxis\": \"x\", \"y\": [22146549, 17833963, 8697263, 6212830, 5273554, 5212974, 3367158, 3158326, 942627, 718147, 22571], \"yaxis\": \"y\"}, {\"customdata\": [[\"Drosophila kanapiae\"], [\"Drosophila guanche\"], [\"Drosophila ficusphila\"], [\"Drosophila eugracilis\"], [\"Drosophila elegans\"], [\"Drosophila birchii\"], [\"Drosophila kikkawai\"], [\"Drosophila willistoni\"], [\"Drosophila bipectinata\"], [\"Drosophila lacertosa\"], [\"Drosophila mayri\"], [\"Drosophila takahashii\"], [\"Drosophila mojavensis\"], [\"Drosophila obscura\"], [\"Drosophila bunnanda\"], [\"Drosophila truncata\"], [\"Drosophila pectinifera\"], [\"Drosophila grimshawi\"], [\"Drosophila jambulina\"], [\"Drosophila seguyi\"], [\"Drosophila asahinai\"], [\"Drosophila bocki\"], [\"Drosophila punjabiensis\"], [\"Drosophila vulcana\"], [\"Drosophila lacteicornis\"], [\"Drosophila nigromelanica\"], [\"Drosophila rufa\"], [\"Drosophila tani\"], [\"Drosophila micromelanica\"], [\"Drosophila auraria\"], [\"Drosophila bakoue\"], [\"Drosophila watanabei\"], [\"Drosophila burlai\"], [\"Drosophila nikananu\"], [\"Drosophila navojoa\"], [\"Drosophila suzukii\"], [\"Drosophila leontia\"], [\"Drosophila triauraria\"], [\"Drosophila rhopaloa\"], [\"Drosophila robusta\"], [\"Drosophila melanica\"], [\"Drosophila arizonae\"], [\"Drosophila albomicans\"], [\"Drosophila montana\"], [\"Drosophila nasuta\"], [\"Drosophila neonasuta\"]], \"hoverlabel\": {\"namelength\": 0}, \"hovertemplate\": \"status=Scaffold<br>contig_n50=%{x}<br>scaffold_n50=%{y}<br>species=%{customdata[0]}\", \"legendgroup\": \"status=Scaffold\", \"marker\": {\"color\": \"#00cc96\", \"line\": {\"color\": \"DarkSlateGrey\", \"width\": 2}, \"size\": 12, \"symbol\": \"circle\"}, \"mode\": \"markers\", \"name\": \"status=Scaffold\", \"showlegend\": true, \"textposition\": \"top center\", \"type\": \"scatter\", \"x\": [348318, 294367, 275894, 224458, 212818, 209731, 209056, 180217, 149088, 144683, 131064, 126259, 121517, 114814, 106114, 101914, 93696, 91192, 84243, 83310, 77794, 73461, 72339, 70792, 66522, 60665, 57257, 55635, 49440, 47547, 36923, 32759, 31415, 28823, 26679, 24954, 24887, 20733, 19484, 18538, 18202, 15132, 7241, 6978, 3966, 3670], \"xaxis\": \"x\", \"y\": [405601, 7251133, 1050541, 976885, 1714184, 242398, 903682, 4511350, 663995, 162096, 151783, 387676, 24764193, 472512, 116592, 127470, 102287, 8399593, 92241, 88705, 82718, 80877, 77693, 79402, 70510, 72836, 59460, 57531, 50769, 48331, 38013, 33883, 31899, 29794, 389283, 388966, 25943, 21569, 45514, 26818, 28961, 26536676, 8778, 40647, 5692, 4802], \"yaxis\": \"y\"}],\n",
       "                        {\"height\": 600, \"legend\": {\"tracegroupgap\": 0}, \"template\": {\"data\": {\"bar\": [{\"error_x\": {\"color\": \"#2a3f5f\"}, \"error_y\": {\"color\": \"#2a3f5f\"}, \"marker\": {\"line\": {\"color\": \"white\", \"width\": 0.5}}, \"type\": \"bar\"}], \"barpolar\": [{\"marker\": {\"line\": {\"color\": \"white\", \"width\": 0.5}}, \"type\": \"barpolar\"}], \"carpet\": [{\"aaxis\": {\"endlinecolor\": \"#2a3f5f\", \"gridcolor\": \"#C8D4E3\", \"linecolor\": \"#C8D4E3\", \"minorgridcolor\": \"#C8D4E3\", \"startlinecolor\": \"#2a3f5f\"}, \"baxis\": {\"endlinecolor\": \"#2a3f5f\", \"gridcolor\": \"#C8D4E3\", \"linecolor\": \"#C8D4E3\", \"minorgridcolor\": \"#C8D4E3\", \"startlinecolor\": \"#2a3f5f\"}, \"type\": \"carpet\"}], \"choropleth\": [{\"colorbar\": {\"outlinewidth\": 0, \"ticks\": \"\"}, \"type\": \"choropleth\"}], \"contour\": [{\"colorbar\": {\"outlinewidth\": 0, \"ticks\": \"\"}, \"colorscale\": [[0.0, \"#0d0887\"], [0.1111111111111111, \"#46039f\"], [0.2222222222222222, \"#7201a8\"], [0.3333333333333333, \"#9c179e\"], [0.4444444444444444, \"#bd3786\"], [0.5555555555555556, \"#d8576b\"], [0.6666666666666666, \"#ed7953\"], [0.7777777777777778, \"#fb9f3a\"], [0.8888888888888888, \"#fdca26\"], [1.0, \"#f0f921\"]], \"type\": \"contour\"}], \"contourcarpet\": [{\"colorbar\": {\"outlinewidth\": 0, \"ticks\": \"\"}, \"type\": \"contourcarpet\"}], \"heatmap\": [{\"colorbar\": {\"outlinewidth\": 0, \"ticks\": \"\"}, \"colorscale\": [[0.0, \"#0d0887\"], [0.1111111111111111, \"#46039f\"], [0.2222222222222222, \"#7201a8\"], [0.3333333333333333, \"#9c179e\"], [0.4444444444444444, \"#bd3786\"], [0.5555555555555556, \"#d8576b\"], [0.6666666666666666, \"#ed7953\"], [0.7777777777777778, \"#fb9f3a\"], [0.8888888888888888, \"#fdca26\"], [1.0, \"#f0f921\"]], \"type\": \"heatmap\"}], \"heatmapgl\": [{\"colorbar\": {\"outlinewidth\": 0, \"ticks\": \"\"}, \"colorscale\": [[0.0, \"#0d0887\"], [0.1111111111111111, \"#46039f\"], [0.2222222222222222, \"#7201a8\"], [0.3333333333333333, \"#9c179e\"], [0.4444444444444444, \"#bd3786\"], [0.5555555555555556, \"#d8576b\"], [0.6666666666666666, \"#ed7953\"], [0.7777777777777778, \"#fb9f3a\"], [0.8888888888888888, \"#fdca26\"], [1.0, \"#f0f921\"]], \"type\": \"heatmapgl\"}], \"histogram\": [{\"marker\": {\"colorbar\": {\"outlinewidth\": 0, \"ticks\": \"\"}}, \"type\": \"histogram\"}], \"histogram2d\": [{\"colorbar\": {\"outlinewidth\": 0, \"ticks\": \"\"}, \"colorscale\": [[0.0, \"#0d0887\"], [0.1111111111111111, \"#46039f\"], [0.2222222222222222, \"#7201a8\"], [0.3333333333333333, \"#9c179e\"], [0.4444444444444444, \"#bd3786\"], [0.5555555555555556, \"#d8576b\"], [0.6666666666666666, \"#ed7953\"], [0.7777777777777778, \"#fb9f3a\"], [0.8888888888888888, \"#fdca26\"], [1.0, \"#f0f921\"]], \"type\": \"histogram2d\"}], \"histogram2dcontour\": [{\"colorbar\": {\"outlinewidth\": 0, \"ticks\": \"\"}, \"colorscale\": [[0.0, \"#0d0887\"], [0.1111111111111111, \"#46039f\"], [0.2222222222222222, \"#7201a8\"], [0.3333333333333333, \"#9c179e\"], [0.4444444444444444, \"#bd3786\"], [0.5555555555555556, \"#d8576b\"], [0.6666666666666666, \"#ed7953\"], [0.7777777777777778, \"#fb9f3a\"], [0.8888888888888888, \"#fdca26\"], [1.0, \"#f0f921\"]], \"type\": \"histogram2dcontour\"}], \"mesh3d\": [{\"colorbar\": {\"outlinewidth\": 0, \"ticks\": \"\"}, \"type\": \"mesh3d\"}], \"parcoords\": [{\"line\": {\"colorbar\": {\"outlinewidth\": 0, \"ticks\": \"\"}}, \"type\": \"parcoords\"}], \"scatter\": [{\"marker\": {\"colorbar\": {\"outlinewidth\": 0, \"ticks\": \"\"}}, \"type\": \"scatter\"}], \"scatter3d\": [{\"line\": {\"colorbar\": {\"outlinewidth\": 0, \"ticks\": \"\"}}, \"marker\": {\"colorbar\": {\"outlinewidth\": 0, \"ticks\": \"\"}}, \"type\": \"scatter3d\"}], \"scattercarpet\": [{\"marker\": {\"colorbar\": {\"outlinewidth\": 0, \"ticks\": \"\"}}, \"type\": \"scattercarpet\"}], \"scattergeo\": [{\"marker\": {\"colorbar\": {\"outlinewidth\": 0, \"ticks\": \"\"}}, \"type\": \"scattergeo\"}], \"scattergl\": [{\"marker\": {\"colorbar\": {\"outlinewidth\": 0, \"ticks\": \"\"}}, \"type\": \"scattergl\"}], \"scattermapbox\": [{\"marker\": {\"colorbar\": {\"outlinewidth\": 0, \"ticks\": \"\"}}, \"type\": \"scattermapbox\"}], \"scatterpolar\": [{\"marker\": {\"colorbar\": {\"outlinewidth\": 0, \"ticks\": \"\"}}, \"type\": \"scatterpolar\"}], \"scatterpolargl\": [{\"marker\": {\"colorbar\": {\"outlinewidth\": 0, \"ticks\": \"\"}}, \"type\": \"scatterpolargl\"}], \"scatterternary\": [{\"marker\": {\"colorbar\": {\"outlinewidth\": 0, \"ticks\": \"\"}}, \"type\": \"scatterternary\"}], \"surface\": [{\"colorbar\": {\"outlinewidth\": 0, \"ticks\": \"\"}, \"colorscale\": [[0.0, \"#0d0887\"], [0.1111111111111111, \"#46039f\"], [0.2222222222222222, \"#7201a8\"], [0.3333333333333333, \"#9c179e\"], [0.4444444444444444, \"#bd3786\"], [0.5555555555555556, \"#d8576b\"], [0.6666666666666666, \"#ed7953\"], [0.7777777777777778, \"#fb9f3a\"], [0.8888888888888888, \"#fdca26\"], [1.0, \"#f0f921\"]], \"type\": \"surface\"}], \"table\": [{\"cells\": {\"fill\": {\"color\": \"#EBF0F8\"}, \"line\": {\"color\": \"white\"}}, \"header\": {\"fill\": {\"color\": \"#C8D4E3\"}, \"line\": {\"color\": \"white\"}}, \"type\": \"table\"}]}, \"layout\": {\"annotationdefaults\": {\"arrowcolor\": \"#2a3f5f\", \"arrowhead\": 0, \"arrowwidth\": 1}, \"colorscale\": {\"diverging\": [[0, \"#8e0152\"], [0.1, \"#c51b7d\"], [0.2, \"#de77ae\"], [0.3, \"#f1b6da\"], [0.4, \"#fde0ef\"], [0.5, \"#f7f7f7\"], [0.6, \"#e6f5d0\"], [0.7, \"#b8e186\"], [0.8, \"#7fbc41\"], [0.9, \"#4d9221\"], [1, \"#276419\"]], \"sequential\": [[0.0, \"#0d0887\"], [0.1111111111111111, \"#46039f\"], [0.2222222222222222, \"#7201a8\"], [0.3333333333333333, \"#9c179e\"], [0.4444444444444444, \"#bd3786\"], [0.5555555555555556, \"#d8576b\"], [0.6666666666666666, \"#ed7953\"], [0.7777777777777778, \"#fb9f3a\"], [0.8888888888888888, \"#fdca26\"], [1.0, \"#f0f921\"]], \"sequentialminus\": [[0.0, \"#0d0887\"], [0.1111111111111111, \"#46039f\"], [0.2222222222222222, \"#7201a8\"], [0.3333333333333333, \"#9c179e\"], [0.4444444444444444, \"#bd3786\"], [0.5555555555555556, \"#d8576b\"], [0.6666666666666666, \"#ed7953\"], [0.7777777777777778, \"#fb9f3a\"], [0.8888888888888888, \"#fdca26\"], [1.0, \"#f0f921\"]]}, \"colorway\": [\"#636efa\", \"#EF553B\", \"#00cc96\", \"#ab63fa\", \"#FFA15A\", \"#19d3f3\", \"#FF6692\", \"#B6E880\", \"#FF97FF\", \"#FECB52\"], \"font\": {\"color\": \"#2a3f5f\"}, \"geo\": {\"bgcolor\": \"white\", \"lakecolor\": \"white\", \"landcolor\": \"white\", \"showlakes\": true, \"showland\": true, \"subunitcolor\": \"#C8D4E3\"}, \"hoverlabel\": {\"align\": \"left\"}, \"hovermode\": \"closest\", \"mapbox\": {\"style\": \"light\"}, \"paper_bgcolor\": \"white\", \"plot_bgcolor\": \"white\", \"polar\": {\"angularaxis\": {\"gridcolor\": \"#EBF0F8\", \"linecolor\": \"#EBF0F8\", \"ticks\": \"\"}, \"bgcolor\": \"white\", \"radialaxis\": {\"gridcolor\": \"#EBF0F8\", \"linecolor\": \"#EBF0F8\", \"ticks\": \"\"}}, \"scene\": {\"xaxis\": {\"backgroundcolor\": \"white\", \"gridcolor\": \"#DFE8F3\", \"gridwidth\": 2, \"linecolor\": \"#EBF0F8\", \"showbackground\": true, \"ticks\": \"\", \"zerolinecolor\": \"#EBF0F8\"}, \"yaxis\": {\"backgroundcolor\": \"white\", \"gridcolor\": \"#DFE8F3\", \"gridwidth\": 2, \"linecolor\": \"#EBF0F8\", \"showbackground\": true, \"ticks\": \"\", \"zerolinecolor\": \"#EBF0F8\"}, \"zaxis\": {\"backgroundcolor\": \"white\", \"gridcolor\": \"#DFE8F3\", \"gridwidth\": 2, \"linecolor\": \"#EBF0F8\", \"showbackground\": true, \"ticks\": \"\", \"zerolinecolor\": \"#EBF0F8\"}}, \"shapedefaults\": {\"line\": {\"color\": \"#2a3f5f\"}}, \"ternary\": {\"aaxis\": {\"gridcolor\": \"#DFE8F3\", \"linecolor\": \"#A2B1C6\", \"ticks\": \"\"}, \"baxis\": {\"gridcolor\": \"#DFE8F3\", \"linecolor\": \"#A2B1C6\", \"ticks\": \"\"}, \"bgcolor\": \"white\", \"caxis\": {\"gridcolor\": \"#DFE8F3\", \"linecolor\": \"#A2B1C6\", \"ticks\": \"\"}}, \"title\": {\"x\": 0.05}, \"xaxis\": {\"automargin\": true, \"gridcolor\": \"#EBF0F8\", \"linecolor\": \"#EBF0F8\", \"ticks\": \"\", \"zerolinecolor\": \"#EBF0F8\", \"zerolinewidth\": 2}, \"yaxis\": {\"automargin\": true, \"gridcolor\": \"#EBF0F8\", \"linecolor\": \"#EBF0F8\", \"ticks\": \"\", \"zerolinecolor\": \"#EBF0F8\", \"zerolinewidth\": 2}}}, \"title\": {\"text\": \"Drosophila Genome Assembly Statistics\"}, \"xaxis\": {\"anchor\": \"y\", \"domain\": [0.0, 0.98], \"title\": {\"text\": \"contig_n50\"}, \"type\": \"log\"}, \"yaxis\": {\"anchor\": \"x\", \"domain\": [0.0, 1.0], \"title\": {\"text\": \"scaffold_n50\"}, \"type\": \"log\"}},\n",
       "                        {\"responsive\": true}\n",
       "                    ).then(function(){\n",
       "                            \n",
       "var gd = document.getElementById('3ae5f98f-e888-4a6d-a933-f2e779129ffc');\n",
       "var x = new MutationObserver(function (mutations, observer) {{\n",
       "        var display = window.getComputedStyle(gd).display;\n",
       "        if (!display || display === 'none') {{\n",
       "            console.log([gd, 'removed!']);\n",
       "            Plotly.purge(gd);\n",
       "            observer.disconnect();\n",
       "        }}\n",
       "}});\n",
       "\n",
       "// Listen for the removal of the full notebook cells\n",
       "var notebookContainer = gd.closest('#notebook-container');\n",
       "if (notebookContainer) {{\n",
       "    x.observe(notebookContainer, {childList: true});\n",
       "}}\n",
       "\n",
       "// Listen for the clearing of the current output cell\n",
       "var outputEl = gd.closest('.output');\n",
       "if (outputEl) {{\n",
       "    x.observe(outputEl, {childList: true});\n",
       "}}\n",
       "\n",
       "                        })\n",
       "                };\n",
       "                });\n",
       "            </script>\n",
       "        </div>"
      ]
     },
     "metadata": {},
     "output_type": "display_data"
    },
    {
     "data": {
      "image/png": "[encoded data removed]",
      "text/plain": [
       "<Figure size 1814.4x1296 with 1 Axes>"
      ]
     },
     "metadata": {},
     "output_type": "display_data"
    }
   ],
   "source": [
    "# plot out the assembly qualities\n",
    "df_Drosophila = df_sorted_no_dups[df_sorted_no_dups['genera'] == 'Drosophila']\n",
    "plot_contig_N50_vs_scaffold_N50(df_Drosophila, 'Drosophila NCBI Assembly Stats')\n",
    "plot_with_plotly(df_Drosophila, 'Drosophila Genome Assembly Statistics')"
   ]
  },
  {
   "cell_type": "markdown",
   "metadata": {},
   "source": [
    "# But I just want the vector base species"
   ]
  },
  {
   "cell_type": "code",
   "execution_count": 61,
   "metadata": {},
   "outputs": [
    {
     "data": {
      "text/html": [
       "<div>\n",
       "<style scoped>\n",
       "    .dataframe tbody tr th:only-of-type {\n",
       "        vertical-align: middle;\n",
       "    }\n",
       "\n",
       "    .dataframe tbody tr th {\n",
       "        vertical-align: top;\n",
       "    }\n",
       "\n",
       "    .dataframe thead th {\n",
       "        text-align: right;\n",
       "    }\n",
       "</style>\n",
       "<table border=\"1\" class=\"dataframe\">\n",
       "  <thead>\n",
       "    <tr style=\"text-align: right;\">\n",
       "      <th></th>\n",
       "      <th>species</th>\n",
       "      <th>contig_n50</th>\n",
       "      <th>scaffold_n50</th>\n",
       "      <th>total_length</th>\n",
       "      <th>status</th>\n",
       "      <th>ass_accession</th>\n",
       "      <th>ass_release_date</th>\n",
       "      <th>genera</th>\n",
       "      <th>species_only</th>\n",
       "      <th>date_time_test</th>\n",
       "      <th>year</th>\n",
       "    </tr>\n",
       "  </thead>\n",
       "  <tbody>\n",
       "    <tr>\n",
       "      <th>0</th>\n",
       "      <td>Aedes aegypti</td>\n",
       "      <td>11758062</td>\n",
       "      <td>409777670</td>\n",
       "      <td>1278732104</td>\n",
       "      <td>Chromosome</td>\n",
       "      <td>GCF_002204515.2</td>\n",
       "      <td>2017/06/27</td>\n",
       "      <td>Aedes</td>\n",
       "      <td>aegypti</td>\n",
       "      <td>2017-06-27</td>\n",
       "      <td>2017</td>\n",
       "    </tr>\n",
       "    <tr>\n",
       "      <th>1</th>\n",
       "      <td>Aedes albopictus</td>\n",
       "      <td>3303944</td>\n",
       "      <td>3303944</td>\n",
       "      <td>2247306217</td>\n",
       "      <td>Contig</td>\n",
       "      <td>GCF_001876365.2</td>\n",
       "      <td>2017/01/09</td>\n",
       "      <td>Aedes</td>\n",
       "      <td>albopictus</td>\n",
       "      <td>2017-01-09</td>\n",
       "      <td>2017</td>\n",
       "    </tr>\n",
       "    <tr>\n",
       "      <th>2</th>\n",
       "      <td>Anopheles albimanus</td>\n",
       "      <td>200121</td>\n",
       "      <td>9735467</td>\n",
       "      <td>173339239</td>\n",
       "      <td>Chromosome</td>\n",
       "      <td>GCA_000349125.2</td>\n",
       "      <td>2017/08/01</td>\n",
       "      <td>Anopheles</td>\n",
       "      <td>albimanus</td>\n",
       "      <td>2017-08-01</td>\n",
       "      <td>2017</td>\n",
       "    </tr>\n",
       "    <tr>\n",
       "      <th>3</th>\n",
       "      <td>Anopheles arabiensis</td>\n",
       "      <td>74117</td>\n",
       "      <td>5604218</td>\n",
       "      <td>246567867</td>\n",
       "      <td>Scaffold</td>\n",
       "      <td>GCA_000349185.1</td>\n",
       "      <td>2013/04/08</td>\n",
       "      <td>Anopheles</td>\n",
       "      <td>arabiensis</td>\n",
       "      <td>2013-04-08</td>\n",
       "      <td>2013</td>\n",
       "    </tr>\n",
       "    <tr>\n",
       "      <th>4</th>\n",
       "      <td>Anopheles atroparvus</td>\n",
       "      <td>53613</td>\n",
       "      <td>9206694</td>\n",
       "      <td>224290125</td>\n",
       "      <td>Scaffold</td>\n",
       "      <td>GCA_000473505.1</td>\n",
       "      <td>2013/10/21</td>\n",
       "      <td>Anopheles</td>\n",
       "      <td>atroparvus</td>\n",
       "      <td>2013-10-21</td>\n",
       "      <td>2013</td>\n",
       "    </tr>\n",
       "    <tr>\n",
       "      <th>5</th>\n",
       "      <td>Anopheles christyi</td>\n",
       "      <td>8461</td>\n",
       "      <td>9057</td>\n",
       "      <td>172658580</td>\n",
       "      <td>Scaffold</td>\n",
       "      <td>GCA_000349165.1</td>\n",
       "      <td>2013/04/08</td>\n",
       "      <td>Anopheles</td>\n",
       "      <td>christyi</td>\n",
       "      <td>2013-04-08</td>\n",
       "      <td>2013</td>\n",
       "    </tr>\n",
       "    <tr>\n",
       "      <th>6</th>\n",
       "      <td>Anopheles coluzzii</td>\n",
       "      <td>2625112</td>\n",
       "      <td>2625112</td>\n",
       "      <td>340556243</td>\n",
       "      <td>Contig</td>\n",
       "      <td>GCA_004136515.2</td>\n",
       "      <td>2019/02/06</td>\n",
       "      <td>Anopheles</td>\n",
       "      <td>coluzzii</td>\n",
       "      <td>2019-02-06</td>\n",
       "      <td>2019</td>\n",
       "    </tr>\n",
       "    <tr>\n",
       "      <th>7</th>\n",
       "      <td>Anopheles culicifacies</td>\n",
       "      <td>13414</td>\n",
       "      <td>22320</td>\n",
       "      <td>202998806</td>\n",
       "      <td>Scaffold</td>\n",
       "      <td>GCA_000473375.1</td>\n",
       "      <td>2013/10/21</td>\n",
       "      <td>Anopheles</td>\n",
       "      <td>culicifacies</td>\n",
       "      <td>2013-10-21</td>\n",
       "      <td>2013</td>\n",
       "    </tr>\n",
       "    <tr>\n",
       "      <th>8</th>\n",
       "      <td>Anopheles darlingi</td>\n",
       "      <td>115072</td>\n",
       "      <td>115072</td>\n",
       "      <td>136935538</td>\n",
       "      <td>Contig</td>\n",
       "      <td>GCA_000211455.3</td>\n",
       "      <td>2013/12/20</td>\n",
       "      <td>Anopheles</td>\n",
       "      <td>darlingi</td>\n",
       "      <td>2013-12-20</td>\n",
       "      <td>2013</td>\n",
       "    </tr>\n",
       "    <tr>\n",
       "      <th>9</th>\n",
       "      <td>Anopheles dirus</td>\n",
       "      <td>76300</td>\n",
       "      <td>6906475</td>\n",
       "      <td>216307690</td>\n",
       "      <td>Scaffold</td>\n",
       "      <td>GCA_000349145.1</td>\n",
       "      <td>2013/04/08</td>\n",
       "      <td>Anopheles</td>\n",
       "      <td>dirus</td>\n",
       "      <td>2013-04-08</td>\n",
       "      <td>2013</td>\n",
       "    </tr>\n",
       "    <tr>\n",
       "      <th>10</th>\n",
       "      <td>Anopheles epiroticus</td>\n",
       "      <td>88996</td>\n",
       "      <td>366526</td>\n",
       "      <td>223486714</td>\n",
       "      <td>Scaffold</td>\n",
       "      <td>GCA_000349105.1</td>\n",
       "      <td>2013/04/08</td>\n",
       "      <td>Anopheles</td>\n",
       "      <td>epiroticus</td>\n",
       "      <td>2013-04-08</td>\n",
       "      <td>2013</td>\n",
       "    </tr>\n",
       "    <tr>\n",
       "      <th>11</th>\n",
       "      <td>Anopheles farauti</td>\n",
       "      <td>161110</td>\n",
       "      <td>12895223</td>\n",
       "      <td>183103254</td>\n",
       "      <td>Scaffold</td>\n",
       "      <td>GCA_000473445.2</td>\n",
       "      <td>2014/01/23</td>\n",
       "      <td>Anopheles</td>\n",
       "      <td>farauti</td>\n",
       "      <td>2014-01-23</td>\n",
       "      <td>2014</td>\n",
       "    </tr>\n",
       "    <tr>\n",
       "      <th>12</th>\n",
       "      <td>Anopheles funestus</td>\n",
       "      <td>107489</td>\n",
       "      <td>239261</td>\n",
       "      <td>444543995</td>\n",
       "      <td>Chromosome</td>\n",
       "      <td>GCA_003951495.1</td>\n",
       "      <td>2018/12/20</td>\n",
       "      <td>Anopheles</td>\n",
       "      <td>funestus</td>\n",
       "      <td>2018-12-20</td>\n",
       "      <td>2018</td>\n",
       "    </tr>\n",
       "    <tr>\n",
       "      <th>13</th>\n",
       "      <td>Anopheles gambiae</td>\n",
       "      <td>101465</td>\n",
       "      <td>101465</td>\n",
       "      <td>293748066</td>\n",
       "      <td>Contig</td>\n",
       "      <td>GCA_001542645.1</td>\n",
       "      <td>2016/02/02</td>\n",
       "      <td>Anopheles</td>\n",
       "      <td>gambiae</td>\n",
       "      <td>2016-02-02</td>\n",
       "      <td>2016</td>\n",
       "    </tr>\n",
       "    <tr>\n",
       "      <th>14</th>\n",
       "      <td>Anopheles maculatus</td>\n",
       "      <td>38030</td>\n",
       "      <td>198528</td>\n",
       "      <td>462688933</td>\n",
       "      <td>Scaffold</td>\n",
       "      <td>GCA_002091835.1</td>\n",
       "      <td>2017/04/14</td>\n",
       "      <td>Anopheles</td>\n",
       "      <td>maculatus</td>\n",
       "      <td>2017-04-14</td>\n",
       "      <td>2017</td>\n",
       "    </tr>\n",
       "    <tr>\n",
       "      <th>15</th>\n",
       "      <td>Anopheles melas</td>\n",
       "      <td>11312</td>\n",
       "      <td>18103</td>\n",
       "      <td>224162116</td>\n",
       "      <td>Scaffold</td>\n",
       "      <td>GCA_000473525.2</td>\n",
       "      <td>2014/01/28</td>\n",
       "      <td>Anopheles</td>\n",
       "      <td>melas</td>\n",
       "      <td>2014-01-28</td>\n",
       "      <td>2014</td>\n",
       "    </tr>\n",
       "    <tr>\n",
       "      <th>16</th>\n",
       "      <td>Anopheles merus</td>\n",
       "      <td>48115</td>\n",
       "      <td>1489982</td>\n",
       "      <td>288048996</td>\n",
       "      <td>Scaffold</td>\n",
       "      <td>GCA_000473845.2</td>\n",
       "      <td>2014/01/23</td>\n",
       "      <td>Anopheles</td>\n",
       "      <td>merus</td>\n",
       "      <td>2014-01-23</td>\n",
       "      <td>2014</td>\n",
       "    </tr>\n",
       "    <tr>\n",
       "      <th>17</th>\n",
       "      <td>Anopheles minimus</td>\n",
       "      <td>123292</td>\n",
       "      <td>10313149</td>\n",
       "      <td>201793324</td>\n",
       "      <td>Scaffold</td>\n",
       "      <td>GCA_000349025.1</td>\n",
       "      <td>2013/04/08</td>\n",
       "      <td>Anopheles</td>\n",
       "      <td>minimus</td>\n",
       "      <td>2013-04-08</td>\n",
       "      <td>2013</td>\n",
       "    </tr>\n",
       "    <tr>\n",
       "      <th>18</th>\n",
       "      <td>Anopheles quadriannulatus</td>\n",
       "      <td>39415</td>\n",
       "      <td>1641272</td>\n",
       "      <td>283828998</td>\n",
       "      <td>Scaffold</td>\n",
       "      <td>GCA_000349065.1</td>\n",
       "      <td>2013/04/08</td>\n",
       "      <td>Anopheles</td>\n",
       "      <td>quadriannulatus</td>\n",
       "      <td>2013-04-08</td>\n",
       "      <td>2013</td>\n",
       "    </tr>\n",
       "    <tr>\n",
       "      <th>19</th>\n",
       "      <td>Anopheles sinensis</td>\n",
       "      <td>30137</td>\n",
       "      <td>814231</td>\n",
       "      <td>220777669</td>\n",
       "      <td>Scaffold</td>\n",
       "      <td>GCA_000441895.2</td>\n",
       "      <td>2014/07/25</td>\n",
       "      <td>Anopheles</td>\n",
       "      <td>sinensis</td>\n",
       "      <td>2014-07-25</td>\n",
       "      <td>2014</td>\n",
       "    </tr>\n",
       "    <tr>\n",
       "      <th>20</th>\n",
       "      <td>Anopheles stephensi</td>\n",
       "      <td>88157</td>\n",
       "      <td>51436555</td>\n",
       "      <td>193543668</td>\n",
       "      <td>Chromosome</td>\n",
       "      <td>GCA_003448955.2</td>\n",
       "      <td>2019/01/24</td>\n",
       "      <td>Anopheles</td>\n",
       "      <td>stephensi</td>\n",
       "      <td>2019-01-24</td>\n",
       "      <td>2019</td>\n",
       "    </tr>\n",
       "    <tr>\n",
       "      <th>21</th>\n",
       "      <td>Cimex lectularius</td>\n",
       "      <td>552423</td>\n",
       "      <td>1637644</td>\n",
       "      <td>510848842</td>\n",
       "      <td>Scaffold</td>\n",
       "      <td>GCF_000648675.2</td>\n",
       "      <td>2018/02/14</td>\n",
       "      <td>Cimex</td>\n",
       "      <td>lectularius</td>\n",
       "      <td>2018-02-14</td>\n",
       "      <td>2018</td>\n",
       "    </tr>\n",
       "    <tr>\n",
       "      <th>22</th>\n",
       "      <td>Culex quinquefasciatus</td>\n",
       "      <td>28546</td>\n",
       "      <td>486756</td>\n",
       "      <td>579042118</td>\n",
       "      <td>Scaffold</td>\n",
       "      <td>GCF_000209185.1</td>\n",
       "      <td>2011/04/25</td>\n",
       "      <td>Culex</td>\n",
       "      <td>quinquefasciatus</td>\n",
       "      <td>2011-04-25</td>\n",
       "      <td>2011</td>\n",
       "    </tr>\n",
       "    <tr>\n",
       "      <th>23</th>\n",
       "      <td>Glossina austeni</td>\n",
       "      <td>45924</td>\n",
       "      <td>812585</td>\n",
       "      <td>370264922</td>\n",
       "      <td>Scaffold</td>\n",
       "      <td>GCA_000688735.1</td>\n",
       "      <td>2014/05/27</td>\n",
       "      <td>Glossina</td>\n",
       "      <td>austeni</td>\n",
       "      <td>2014-05-27</td>\n",
       "      <td>2014</td>\n",
       "    </tr>\n",
       "    <tr>\n",
       "      <th>24</th>\n",
       "      <td>Glossina brevipalpis</td>\n",
       "      <td>62009</td>\n",
       "      <td>1209507</td>\n",
       "      <td>315360362</td>\n",
       "      <td>Scaffold</td>\n",
       "      <td>GCA_000671755.1</td>\n",
       "      <td>2014/05/13</td>\n",
       "      <td>Glossina</td>\n",
       "      <td>brevipalpis</td>\n",
       "      <td>2014-05-13</td>\n",
       "      <td>2014</td>\n",
       "    </tr>\n",
       "    <tr>\n",
       "      <th>25</th>\n",
       "      <td>Glossina fuscipes</td>\n",
       "      <td>64354</td>\n",
       "      <td>561190</td>\n",
       "      <td>374774708</td>\n",
       "      <td>Scaffold</td>\n",
       "      <td>GCA_000671735.1</td>\n",
       "      <td>2014/05/13</td>\n",
       "      <td>Glossina</td>\n",
       "      <td>fuscipes</td>\n",
       "      <td>2014-05-13</td>\n",
       "      <td>2014</td>\n",
       "    </tr>\n",
       "    <tr>\n",
       "      <th>26</th>\n",
       "      <td>Glossina morsitans</td>\n",
       "      <td>49769</td>\n",
       "      <td>49769</td>\n",
       "      <td>363107242</td>\n",
       "      <td>Contig</td>\n",
       "      <td>GCA_001077435.1</td>\n",
       "      <td>2015/07/13</td>\n",
       "      <td>Glossina</td>\n",
       "      <td>morsitans</td>\n",
       "      <td>2015-07-13</td>\n",
       "      <td>2015</td>\n",
       "    </tr>\n",
       "    <tr>\n",
       "      <th>27</th>\n",
       "      <td>Glossina pallidipes</td>\n",
       "      <td>167200</td>\n",
       "      <td>1038751</td>\n",
       "      <td>357332231</td>\n",
       "      <td>Scaffold</td>\n",
       "      <td>GCA_000688715.1</td>\n",
       "      <td>2014/05/27</td>\n",
       "      <td>Glossina</td>\n",
       "      <td>pallidipes</td>\n",
       "      <td>2014-05-27</td>\n",
       "      <td>2014</td>\n",
       "    </tr>\n",
       "    <tr>\n",
       "      <th>28</th>\n",
       "      <td>Glossina palpalis</td>\n",
       "      <td>24489</td>\n",
       "      <td>575037</td>\n",
       "      <td>380104241</td>\n",
       "      <td>Scaffold</td>\n",
       "      <td>GCA_000818775.1</td>\n",
       "      <td>2015/01/15</td>\n",
       "      <td>Glossina</td>\n",
       "      <td>palpalis</td>\n",
       "      <td>2015-01-15</td>\n",
       "      <td>2015</td>\n",
       "    </tr>\n",
       "    <tr>\n",
       "      <th>29</th>\n",
       "      <td>Ixodes scapularis</td>\n",
       "      <td>835681</td>\n",
       "      <td>835681</td>\n",
       "      <td>2081329876</td>\n",
       "      <td>Contig</td>\n",
       "      <td>GCF_002892825.2</td>\n",
       "      <td>2018/09/28</td>\n",
       "      <td>Ixodes</td>\n",
       "      <td>scapularis</td>\n",
       "      <td>2018-09-28</td>\n",
       "      <td>2018</td>\n",
       "    </tr>\n",
       "    <tr>\n",
       "      <th>30</th>\n",
       "      <td>Leptotrombidium deliense</td>\n",
       "      <td>2903</td>\n",
       "      <td>2941</td>\n",
       "      <td>117319359</td>\n",
       "      <td>Scaffold</td>\n",
       "      <td>GCA_003675905.2</td>\n",
       "      <td>2019/09/11</td>\n",
       "      <td>Leptotrombidium</td>\n",
       "      <td>deliense</td>\n",
       "      <td>2019-09-11</td>\n",
       "      <td>2019</td>\n",
       "    </tr>\n",
       "    <tr>\n",
       "      <th>31</th>\n",
       "      <td>Lutzomyia longipalpis</td>\n",
       "      <td>7481</td>\n",
       "      <td>85093</td>\n",
       "      <td>154229266</td>\n",
       "      <td>Scaffold</td>\n",
       "      <td>GCA_000265325.1</td>\n",
       "      <td>2012/06/28</td>\n",
       "      <td>Lutzomyia</td>\n",
       "      <td>longipalpis</td>\n",
       "      <td>2012-06-28</td>\n",
       "      <td>2012</td>\n",
       "    </tr>\n",
       "    <tr>\n",
       "      <th>32</th>\n",
       "      <td>Musca domestica</td>\n",
       "      <td>11807</td>\n",
       "      <td>226573</td>\n",
       "      <td>750403944</td>\n",
       "      <td>Scaffold</td>\n",
       "      <td>GCF_000371365.1</td>\n",
       "      <td>2013/04/30</td>\n",
       "      <td>Musca</td>\n",
       "      <td>domestica</td>\n",
       "      <td>2013-04-30</td>\n",
       "      <td>2013</td>\n",
       "    </tr>\n",
       "    <tr>\n",
       "      <th>33</th>\n",
       "      <td>Pediculus humanus</td>\n",
       "      <td>34097</td>\n",
       "      <td>497057</td>\n",
       "      <td>110781312</td>\n",
       "      <td>Scaffold</td>\n",
       "      <td>GCF_000006295.1</td>\n",
       "      <td>2010/03/24</td>\n",
       "      <td>Pediculus</td>\n",
       "      <td>humanus</td>\n",
       "      <td>2010-03-24</td>\n",
       "      <td>2010</td>\n",
       "    </tr>\n",
       "    <tr>\n",
       "      <th>34</th>\n",
       "      <td>Phlebotomus papatasi</td>\n",
       "      <td>5795</td>\n",
       "      <td>27956</td>\n",
       "      <td>363767980</td>\n",
       "      <td>Scaffold</td>\n",
       "      <td>GCA_000262795.1</td>\n",
       "      <td>2012/05/16</td>\n",
       "      <td>Phlebotomus</td>\n",
       "      <td>papatasi</td>\n",
       "      <td>2012-05-16</td>\n",
       "      <td>2012</td>\n",
       "    </tr>\n",
       "    <tr>\n",
       "      <th>35</th>\n",
       "      <td>Rhodnius prolixus</td>\n",
       "      <td>35751</td>\n",
       "      <td>1088772</td>\n",
       "      <td>706824083</td>\n",
       "      <td>Scaffold</td>\n",
       "      <td>GCA_000181055.3</td>\n",
       "      <td>2015/04/08</td>\n",
       "      <td>Rhodnius</td>\n",
       "      <td>prolixus</td>\n",
       "      <td>2015-04-08</td>\n",
       "      <td>2015</td>\n",
       "    </tr>\n",
       "    <tr>\n",
       "      <th>36</th>\n",
       "      <td>Sarcoptes scabiei</td>\n",
       "      <td>11197</td>\n",
       "      <td>11557</td>\n",
       "      <td>56262437</td>\n",
       "      <td>Scaffold</td>\n",
       "      <td>GCA_000828355.1</td>\n",
       "      <td>2015/02/10</td>\n",
       "      <td>Sarcoptes</td>\n",
       "      <td>scabiei</td>\n",
       "      <td>2015-02-10</td>\n",
       "      <td>2015</td>\n",
       "    </tr>\n",
       "    <tr>\n",
       "      <th>37</th>\n",
       "      <td>Stomoxys calcitrans</td>\n",
       "      <td>11309</td>\n",
       "      <td>504651</td>\n",
       "      <td>971188624</td>\n",
       "      <td>Scaffold</td>\n",
       "      <td>GCF_001015335.1</td>\n",
       "      <td>2015/05/31</td>\n",
       "      <td>Stomoxys</td>\n",
       "      <td>calcitrans</td>\n",
       "      <td>2015-05-31</td>\n",
       "      <td>2015</td>\n",
       "    </tr>\n",
       "  </tbody>\n",
       "</table>\n",
       "</div>"
      ],
      "text/plain": [
       "                      species  contig_n50  scaffold_n50  total_length  \\\n",
       "0               Aedes aegypti    11758062     409777670    1278732104   \n",
       "1            Aedes albopictus     3303944       3303944    2247306217   \n",
       "2         Anopheles albimanus      200121       9735467     173339239   \n",
       "3        Anopheles arabiensis       74117       5604218     246567867   \n",
       "4        Anopheles atroparvus       53613       9206694     224290125   \n",
       "5          Anopheles christyi        8461          9057     172658580   \n",
       "6          Anopheles coluzzii     2625112       2625112     340556243   \n",
       "7      Anopheles culicifacies       13414         22320     202998806   \n",
       "8          Anopheles darlingi      115072        115072     136935538   \n",
       "9             Anopheles dirus       76300       6906475     216307690   \n",
       "10       Anopheles epiroticus       88996        366526     223486714   \n",
       "11          Anopheles farauti      161110      12895223     183103254   \n",
       "12         Anopheles funestus      107489        239261     444543995   \n",
       "13          Anopheles gambiae      101465        101465     293748066   \n",
       "14        Anopheles maculatus       38030        198528     462688933   \n",
       "15            Anopheles melas       11312         18103     224162116   \n",
       "16            Anopheles merus       48115       1489982     288048996   \n",
       "17          Anopheles minimus      123292      10313149     201793324   \n",
       "18  Anopheles quadriannulatus       39415       1641272     283828998   \n",
       "19         Anopheles sinensis       30137        814231     220777669   \n",
       "20        Anopheles stephensi       88157      51436555     193543668   \n",
       "21          Cimex lectularius      552423       1637644     510848842   \n",
       "22     Culex quinquefasciatus       28546        486756     579042118   \n",
       "23           Glossina austeni       45924        812585     370264922   \n",
       "24       Glossina brevipalpis       62009       1209507     315360362   \n",
       "25          Glossina fuscipes       64354        561190     374774708   \n",
       "26         Glossina morsitans       49769         49769     363107242   \n",
       "27        Glossina pallidipes      167200       1038751     357332231   \n",
       "28          Glossina palpalis       24489        575037     380104241   \n",
       "29          Ixodes scapularis      835681        835681    2081329876   \n",
       "30   Leptotrombidium deliense        2903          2941     117319359   \n",
       "31      Lutzomyia longipalpis        7481         85093     154229266   \n",
       "32            Musca domestica       11807        226573     750403944   \n",
       "33          Pediculus humanus       34097        497057     110781312   \n",
       "34       Phlebotomus papatasi        5795         27956     363767980   \n",
       "35          Rhodnius prolixus       35751       1088772     706824083   \n",
       "36          Sarcoptes scabiei       11197         11557      56262437   \n",
       "37        Stomoxys calcitrans       11309        504651     971188624   \n",
       "\n",
       "        status    ass_accession ass_release_date           genera  \\\n",
       "0   Chromosome  GCF_002204515.2       2017/06/27            Aedes   \n",
       "1       Contig  GCF_001876365.2       2017/01/09            Aedes   \n",
       "2   Chromosome  GCA_000349125.2       2017/08/01        Anopheles   \n",
       "3     Scaffold  GCA_000349185.1       2013/04/08        Anopheles   \n",
       "4     Scaffold  GCA_000473505.1       2013/10/21        Anopheles   \n",
       "5     Scaffold  GCA_000349165.1       2013/04/08        Anopheles   \n",
       "6       Contig  GCA_004136515.2       2019/02/06        Anopheles   \n",
       "7     Scaffold  GCA_000473375.1       2013/10/21        Anopheles   \n",
       "8       Contig  GCA_000211455.3       2013/12/20        Anopheles   \n",
       "9     Scaffold  GCA_000349145.1       2013/04/08        Anopheles   \n",
       "10    Scaffold  GCA_000349105.1       2013/04/08        Anopheles   \n",
       "11    Scaffold  GCA_000473445.2       2014/01/23        Anopheles   \n",
       "12  Chromosome  GCA_003951495.1       2018/12/20        Anopheles   \n",
       "13      Contig  GCA_001542645.1       2016/02/02        Anopheles   \n",
       "14    Scaffold  GCA_002091835.1       2017/04/14        Anopheles   \n",
       "15    Scaffold  GCA_000473525.2       2014/01/28        Anopheles   \n",
       "16    Scaffold  GCA_000473845.2       2014/01/23        Anopheles   \n",
       "17    Scaffold  GCA_000349025.1       2013/04/08        Anopheles   \n",
       "18    Scaffold  GCA_000349065.1       2013/04/08        Anopheles   \n",
       "19    Scaffold  GCA_000441895.2       2014/07/25        Anopheles   \n",
       "20  Chromosome  GCA_003448955.2       2019/01/24        Anopheles   \n",
       "21    Scaffold  GCF_000648675.2       2018/02/14            Cimex   \n",
       "22    Scaffold  GCF_000209185.1       2011/04/25            Culex   \n",
       "23    Scaffold  GCA_000688735.1       2014/05/27         Glossina   \n",
       "24    Scaffold  GCA_000671755.1       2014/05/13         Glossina   \n",
       "25    Scaffold  GCA_000671735.1       2014/05/13         Glossina   \n",
       "26      Contig  GCA_001077435.1       2015/07/13         Glossina   \n",
       "27    Scaffold  GCA_000688715.1       2014/05/27         Glossina   \n",
       "28    Scaffold  GCA_000818775.1       2015/01/15         Glossina   \n",
       "29      Contig  GCF_002892825.2       2018/09/28           Ixodes   \n",
       "30    Scaffold  GCA_003675905.2       2019/09/11  Leptotrombidium   \n",
       "31    Scaffold  GCA_000265325.1       2012/06/28        Lutzomyia   \n",
       "32    Scaffold  GCF_000371365.1       2013/04/30            Musca   \n",
       "33    Scaffold  GCF_000006295.1       2010/03/24        Pediculus   \n",
       "34    Scaffold  GCA_000262795.1       2012/05/16      Phlebotomus   \n",
       "35    Scaffold  GCA_000181055.3       2015/04/08         Rhodnius   \n",
       "36    Scaffold  GCA_000828355.1       2015/02/10        Sarcoptes   \n",
       "37    Scaffold  GCF_001015335.1       2015/05/31         Stomoxys   \n",
       "\n",
       "        species_only date_time_test  year  \n",
       "0            aegypti     2017-06-27  2017  \n",
       "1         albopictus     2017-01-09  2017  \n",
       "2          albimanus     2017-08-01  2017  \n",
       "3         arabiensis     2013-04-08  2013  \n",
       "4         atroparvus     2013-10-21  2013  \n",
       "5           christyi     2013-04-08  2013  \n",
       "6           coluzzii     2019-02-06  2019  \n",
       "7       culicifacies     2013-10-21  2013  \n",
       "8           darlingi     2013-12-20  2013  \n",
       "9              dirus     2013-04-08  2013  \n",
       "10        epiroticus     2013-04-08  2013  \n",
       "11           farauti     2014-01-23  2014  \n",
       "12          funestus     2018-12-20  2018  \n",
       "13           gambiae     2016-02-02  2016  \n",
       "14         maculatus     2017-04-14  2017  \n",
       "15             melas     2014-01-28  2014  \n",
       "16             merus     2014-01-23  2014  \n",
       "17           minimus     2013-04-08  2013  \n",
       "18   quadriannulatus     2013-04-08  2013  \n",
       "19          sinensis     2014-07-25  2014  \n",
       "20         stephensi     2019-01-24  2019  \n",
       "21       lectularius     2018-02-14  2018  \n",
       "22  quinquefasciatus     2011-04-25  2011  \n",
       "23           austeni     2014-05-27  2014  \n",
       "24       brevipalpis     2014-05-13  2014  \n",
       "25          fuscipes     2014-05-13  2014  \n",
       "26         morsitans     2015-07-13  2015  \n",
       "27        pallidipes     2014-05-27  2014  \n",
       "28          palpalis     2015-01-15  2015  \n",
       "29        scapularis     2018-09-28  2018  \n",
       "30          deliense     2019-09-11  2019  \n",
       "31       longipalpis     2012-06-28  2012  \n",
       "32         domestica     2013-04-30  2013  \n",
       "33           humanus     2010-03-24  2010  \n",
       "34          papatasi     2012-05-16  2012  \n",
       "35          prolixus     2015-04-08  2015  \n",
       "36           scabiei     2015-02-10  2015  \n",
       "37        calcitrans     2015-05-31  2015  "
      ]
     },
     "execution_count": 61,
     "metadata": {},
     "output_type": "execute_result"
    }
   ],
   "source": [
    "# The vector base species are (Non redundant as there are some important sub species):\n",
    "species = ['Aedes aegypti', 'Aedes albopictus', 'Anopheles albimanus', 'Anopheles arabiensis', 'Anopheles atroparvus', 'Anopheles christyi', \\\n",
    "           'Anopheles coluzzii',\\\n",
    "           'Anopheles culicifacies','Anopheles darlingi','Anopheles dirus','Anopheles epiroticus','Anopheles farauti','Anopheles funestus',\\\n",
    "           'Anopheles gambiae', 'Anopheles maculatus', 'Anopheles melas', 'Anopheles merus', 'Anopheles minimus', 'Anopheles quadriannulatus',\\\n",
    "           'Anopheles sinensis', 'Anopheles stephensi', 'Biomphalaria glabrata', 'Cimex lectularius', 'Culex quinquefasciatus', 'Glossina austeni',\\\n",
    "           'Glossina brevipalpis', 'Glossina fuscipes', 'Glossina morsitans', 'Glossina pallidipes', 'Glossina palpalis', 'Ixodes scapularis', \\\n",
    "           'Leptotrombidium deliense', 'Lutzomyia longipalpis', 'Musca domestica', 'Pediculus humanus', 'Phlebotomus papatasi', 'Rhodnius prolixus',\\\n",
    "           'Sarcoptes scabiei', 'Stomoxys calcitrans']\n",
    "df_vectorbase = pd.DataFrame(species, columns=['species'])\n",
    "df_vectorbase = df_vectorbase.merge(df_sorted_no_dups, on='species')\n",
    "df_vectorbase"
   ]
  },
  {
   "cell_type": "code",
   "execution_count": 62,
   "metadata": {},
   "outputs": [
    {
     "data": {
      "text/html": [
       "<div>\n",
       "<style scoped>\n",
       "    .dataframe tbody tr th:only-of-type {\n",
       "        vertical-align: middle;\n",
       "    }\n",
       "\n",
       "    .dataframe tbody tr th {\n",
       "        vertical-align: top;\n",
       "    }\n",
       "\n",
       "    .dataframe thead th {\n",
       "        text-align: right;\n",
       "    }\n",
       "</style>\n",
       "<table border=\"1\" class=\"dataframe\">\n",
       "  <thead>\n",
       "    <tr style=\"text-align: right;\">\n",
       "      <th></th>\n",
       "      <th>species</th>\n",
       "      <th>contig_n50</th>\n",
       "      <th>scaffold_n50</th>\n",
       "      <th>total_length</th>\n",
       "      <th>status</th>\n",
       "      <th>ass_accession</th>\n",
       "      <th>ass_release_date</th>\n",
       "      <th>genera</th>\n",
       "      <th>species_only</th>\n",
       "      <th>date_time_test</th>\n",
       "      <th>year</th>\n",
       "      <th>name_abreviation</th>\n",
       "    </tr>\n",
       "  </thead>\n",
       "  <tbody>\n",
       "    <tr>\n",
       "      <th>0</th>\n",
       "      <td>Aedes aegypti</td>\n",
       "      <td>11758062</td>\n",
       "      <td>409777670</td>\n",
       "      <td>1278732104</td>\n",
       "      <td>Chromosome</td>\n",
       "      <td>GCF_002204515.2</td>\n",
       "      <td>2017/06/27</td>\n",
       "      <td>Aedes</td>\n",
       "      <td>aegypti</td>\n",
       "      <td>2017-06-27</td>\n",
       "      <td>2017</td>\n",
       "      <td>A aegypti</td>\n",
       "    </tr>\n",
       "  </tbody>\n",
       "</table>\n",
       "</div>"
      ],
      "text/plain": [
       "         species  contig_n50  scaffold_n50  total_length      status  \\\n",
       "0  Aedes aegypti    11758062     409777670    1278732104  Chromosome   \n",
       "\n",
       "     ass_accession ass_release_date genera species_only date_time_test  year  \\\n",
       "0  GCF_002204515.2       2017/06/27  Aedes      aegypti     2017-06-27  2017   \n",
       "\n",
       "  name_abreviation  \n",
       "0        A aegypti  "
      ]
     },
     "execution_count": 62,
     "metadata": {},
     "output_type": "execute_result"
    }
   ],
   "source": [
    "# make the names shorter for better presentation\n",
    "df_vectorbase['name_abreviation'] = df_vectorbase['genera'].astype(str).str[0] + \" \" + df_vectorbase.species_only\n",
    "df_vectorbase.head(1)\n"
   ]
  },
  {
   "cell_type": "code",
   "execution_count": 63,
   "metadata": {},
   "outputs": [
    {
     "data": {
      "application/vnd.plotly.v1+json": {
       "config": {
        "plotlyServerURL": "https://plot.ly"
       },
       "data": [
        {
         "customdata": [
          [
           "Aedes aegypti"
          ],
          [
           "Anopheles albimanus"
          ],
          [
           "Anopheles funestus"
          ],
          [
           "Anopheles stephensi"
          ]
         ],
         "hoverlabel": {
          "namelength": 0
         },
         "hovertemplate": "status=Chromosome<br>contig_n50=%{x}<br>scaffold_n50=%{y}<br>species=%{customdata[0]}",
         "legendgroup": "status=Chromosome",
         "marker": {
          "color": "#636efa",
          "line": {
           "color": "DarkSlateGrey",
           "width": 2
          },
          "size": 12,
          "symbol": "circle"
         },
         "mode": "markers",
         "name": "status=Chromosome",
         "showlegend": true,
         "textposition": "top center",
         "type": "scatter",
         "x": [
          11758062,
          200121,
          107489,
          88157
         ],
         "xaxis": "x",
         "y": [
          409777670,
          9735467,
          239261,
          51436555
         ],
         "yaxis": "y"
        },
        {
         "customdata": [
          [
           "Aedes albopictus"
          ],
          [
           "Anopheles coluzzii"
          ],
          [
           "Anopheles darlingi"
          ],
          [
           "Anopheles gambiae"
          ],
          [
           "Glossina morsitans"
          ],
          [
           "Ixodes scapularis"
          ]
         ],
         "hoverlabel": {
          "namelength": 0
         },
         "hovertemplate": "status=Contig<br>contig_n50=%{x}<br>scaffold_n50=%{y}<br>species=%{customdata[0]}",
         "legendgroup": "status=Contig",
         "marker": {
          "color": "#EF553B",
          "line": {
           "color": "DarkSlateGrey",
           "width": 2
          },
          "size": 12,
          "symbol": "circle"
         },
         "mode": "markers",
         "name": "status=Contig",
         "showlegend": true,
         "textposition": "top center",
         "type": "scatter",
         "x": [
          3303944,
          2625112,
          115072,
          101465,
          49769,
          835681
         ],
         "xaxis": "x",
         "y": [
          3303944,
          2625112,
          115072,
          101465,
          49769,
          835681
         ],
         "yaxis": "y"
        },
        {
         "customdata": [
          [
           "Anopheles arabiensis"
          ],
          [
           "Anopheles atroparvus"
          ],
          [
           "Anopheles christyi"
          ],
          [
           "Anopheles culicifacies"
          ],
          [
           "Anopheles dirus"
          ],
          [
           "Anopheles epiroticus"
          ],
          [
           "Anopheles farauti"
          ],
          [
           "Anopheles maculatus"
          ],
          [
           "Anopheles melas"
          ],
          [
           "Anopheles merus"
          ],
          [
           "Anopheles minimus"
          ],
          [
           "Anopheles quadriannulatus"
          ],
          [
           "Anopheles sinensis"
          ],
          [
           "Cimex lectularius"
          ],
          [
           "Culex quinquefasciatus"
          ],
          [
           "Glossina austeni"
          ],
          [
           "Glossina brevipalpis"
          ],
          [
           "Glossina fuscipes"
          ],
          [
           "Glossina pallidipes"
          ],
          [
           "Glossina palpalis"
          ],
          [
           "Leptotrombidium deliense"
          ],
          [
           "Lutzomyia longipalpis"
          ],
          [
           "Musca domestica"
          ],
          [
           "Pediculus humanus"
          ],
          [
           "Phlebotomus papatasi"
          ],
          [
           "Rhodnius prolixus"
          ],
          [
           "Sarcoptes scabiei"
          ],
          [
           "Stomoxys calcitrans"
          ]
         ],
         "hoverlabel": {
          "namelength": 0
         },
         "hovertemplate": "status=Scaffold<br>contig_n50=%{x}<br>scaffold_n50=%{y}<br>species=%{customdata[0]}",
         "legendgroup": "status=Scaffold",
         "marker": {
          "color": "#00cc96",
          "line": {
           "color": "DarkSlateGrey",
           "width": 2
          },
          "size": 12,
          "symbol": "circle"
         },
         "mode": "markers",
         "name": "status=Scaffold",
         "showlegend": true,
         "textposition": "top center",
         "type": "scatter",
         "x": [
          74117,
          53613,
          8461,
          13414,
          76300,
          88996,
          161110,
          38030,
          11312,
          48115,
          123292,
          39415,
          30137,
          552423,
          28546,
          45924,
          62009,
          64354,
          167200,
          24489,
          2903,
          7481,
          11807,
          34097,
          5795,
          35751,
          11197,
          11309
         ],
         "xaxis": "x",
         "y": [
          5604218,
          9206694,
          9057,
          22320,
          6906475,
          366526,
          12895223,
          198528,
          18103,
          1489982,
          10313149,
          1641272,
          814231,
          1637644,
          486756,
          812585,
          1209507,
          561190,
          1038751,
          575037,
          2941,
          85093,
          226573,
          497057,
          27956,
          1088772,
          11557,
          504651
         ],
         "yaxis": "y"
        }
       ],
       "layout": {
        "height": 600,
        "legend": {
         "tracegroupgap": 0
        },
        "template": {
         "data": {
          "bar": [
           {
            "error_x": {
             "color": "#2a3f5f"
            },
            "error_y": {
             "color": "#2a3f5f"
            },
            "marker": {
             "line": {
              "color": "white",
              "width": 0.5
             }
            },
            "type": "bar"
           }
          ],
          "barpolar": [
           {
            "marker": {
             "line": {
              "color": "white",
              "width": 0.5
             }
            },
            "type": "barpolar"
           }
          ],
          "carpet": [
           {
            "aaxis": {
             "endlinecolor": "#2a3f5f",
             "gridcolor": "#C8D4E3",
             "linecolor": "#C8D4E3",
             "minorgridcolor": "#C8D4E3",
             "startlinecolor": "#2a3f5f"
            },
            "baxis": {
             "endlinecolor": "#2a3f5f",
             "gridcolor": "#C8D4E3",
             "linecolor": "#C8D4E3",
             "minorgridcolor": "#C8D4E3",
             "startlinecolor": "#2a3f5f"
            },
            "type": "carpet"
           }
          ],
          "choropleth": [
           {
            "colorbar": {
             "outlinewidth": 0,
             "ticks": ""
            },
            "type": "choropleth"
           }
          ],
          "contour": [
           {
            "colorbar": {
             "outlinewidth": 0,
             "ticks": ""
            },
            "colorscale": [
             [
              0,
              "#0d0887"
             ],
             [
              0.1111111111111111,
              "#46039f"
             ],
             [
              0.2222222222222222,
              "#7201a8"
             ],
             [
              0.3333333333333333,
              "#9c179e"
             ],
             [
              0.4444444444444444,
              "#bd3786"
             ],
             [
              0.5555555555555556,
              "#d8576b"
             ],
             [
              0.6666666666666666,
              "#ed7953"
             ],
             [
              0.7777777777777778,
              "#fb9f3a"
             ],
             [
              0.8888888888888888,
              "#fdca26"
             ],
             [
              1,
              "#f0f921"
             ]
            ],
            "type": "contour"
           }
          ],
          "contourcarpet": [
           {
            "colorbar": {
             "outlinewidth": 0,
             "ticks": ""
            },
            "type": "contourcarpet"
           }
          ],
          "heatmap": [
           {
            "colorbar": {
             "outlinewidth": 0,
             "ticks": ""
            },
            "colorscale": [
             [
              0,
              "#0d0887"
             ],
             [
              0.1111111111111111,
              "#46039f"
             ],
             [
              0.2222222222222222,
              "#7201a8"
             ],
             [
              0.3333333333333333,
              "#9c179e"
             ],
             [
              0.4444444444444444,
              "#bd3786"
             ],
             [
              0.5555555555555556,
              "#d8576b"
             ],
             [
              0.6666666666666666,
              "#ed7953"
             ],
             [
              0.7777777777777778,
              "#fb9f3a"
             ],
             [
              0.8888888888888888,
              "#fdca26"
             ],
             [
              1,
              "#f0f921"
             ]
            ],
            "type": "heatmap"
           }
          ],
          "heatmapgl": [
           {
            "colorbar": {
             "outlinewidth": 0,
             "ticks": ""
            },
            "colorscale": [
             [
              0,
              "#0d0887"
             ],
             [
              0.1111111111111111,
              "#46039f"
             ],
             [
              0.2222222222222222,
              "#7201a8"
             ],
             [
              0.3333333333333333,
              "#9c179e"
             ],
             [
              0.4444444444444444,
              "#bd3786"
             ],
             [
              0.5555555555555556,
              "#d8576b"
             ],
             [
              0.6666666666666666,
              "#ed7953"
             ],
             [
              0.7777777777777778,
              "#fb9f3a"
             ],
             [
              0.8888888888888888,
              "#fdca26"
             ],
             [
              1,
              "#f0f921"
             ]
            ],
            "type": "heatmapgl"
           }
          ],
          "histogram": [
           {
            "marker": {
             "colorbar": {
              "outlinewidth": 0,
              "ticks": ""
             }
            },
            "type": "histogram"
           }
          ],
          "histogram2d": [
           {
            "colorbar": {
             "outlinewidth": 0,
             "ticks": ""
            },
            "colorscale": [
             [
              0,
              "#0d0887"
             ],
             [
              0.1111111111111111,
              "#46039f"
             ],
             [
              0.2222222222222222,
              "#7201a8"
             ],
             [
              0.3333333333333333,
              "#9c179e"
             ],
             [
              0.4444444444444444,
              "#bd3786"
             ],
             [
              0.5555555555555556,
              "#d8576b"
             ],
             [
              0.6666666666666666,
              "#ed7953"
             ],
             [
              0.7777777777777778,
              "#fb9f3a"
             ],
             [
              0.8888888888888888,
              "#fdca26"
             ],
             [
              1,
              "#f0f921"
             ]
            ],
            "type": "histogram2d"
           }
          ],
          "histogram2dcontour": [
           {
            "colorbar": {
             "outlinewidth": 0,
             "ticks": ""
            },
            "colorscale": [
             [
              0,
              "#0d0887"
             ],
             [
              0.1111111111111111,
              "#46039f"
             ],
             [
              0.2222222222222222,
              "#7201a8"
             ],
             [
              0.3333333333333333,
              "#9c179e"
             ],
             [
              0.4444444444444444,
              "#bd3786"
             ],
             [
              0.5555555555555556,
              "#d8576b"
             ],
             [
              0.6666666666666666,
              "#ed7953"
             ],
             [
              0.7777777777777778,
              "#fb9f3a"
             ],
             [
              0.8888888888888888,
              "#fdca26"
             ],
             [
              1,
              "#f0f921"
             ]
            ],
            "type": "histogram2dcontour"
           }
          ],
          "mesh3d": [
           {
            "colorbar": {
             "outlinewidth": 0,
             "ticks": ""
            },
            "type": "mesh3d"
           }
          ],
          "parcoords": [
           {
            "line": {
             "colorbar": {
              "outlinewidth": 0,
              "ticks": ""
             }
            },
            "type": "parcoords"
           }
          ],
          "scatter": [
           {
            "marker": {
             "colorbar": {
              "outlinewidth": 0,
              "ticks": ""
             }
            },
            "type": "scatter"
           }
          ],
          "scatter3d": [
           {
            "line": {
             "colorbar": {
              "outlinewidth": 0,
              "ticks": ""
             }
            },
            "marker": {
             "colorbar": {
              "outlinewidth": 0,
              "ticks": ""
             }
            },
            "type": "scatter3d"
           }
          ],
          "scattercarpet": [
           {
            "marker": {
             "colorbar": {
              "outlinewidth": 0,
              "ticks": ""
             }
            },
            "type": "scattercarpet"
           }
          ],
          "scattergeo": [
           {
            "marker": {
             "colorbar": {
              "outlinewidth": 0,
              "ticks": ""
             }
            },
            "type": "scattergeo"
           }
          ],
          "scattergl": [
           {
            "marker": {
             "colorbar": {
              "outlinewidth": 0,
              "ticks": ""
             }
            },
            "type": "scattergl"
           }
          ],
          "scattermapbox": [
           {
            "marker": {
             "colorbar": {
              "outlinewidth": 0,
              "ticks": ""
             }
            },
            "type": "scattermapbox"
           }
          ],
          "scatterpolar": [
           {
            "marker": {
             "colorbar": {
              "outlinewidth": 0,
              "ticks": ""
             }
            },
            "type": "scatterpolar"
           }
          ],
          "scatterpolargl": [
           {
            "marker": {
             "colorbar": {
              "outlinewidth": 0,
              "ticks": ""
             }
            },
            "type": "scatterpolargl"
           }
          ],
          "scatterternary": [
           {
            "marker": {
             "colorbar": {
              "outlinewidth": 0,
              "ticks": ""
             }
            },
            "type": "scatterternary"
           }
          ],
          "surface": [
           {
            "colorbar": {
             "outlinewidth": 0,
             "ticks": ""
            },
            "colorscale": [
             [
              0,
              "#0d0887"
             ],
             [
              0.1111111111111111,
              "#46039f"
             ],
             [
              0.2222222222222222,
              "#7201a8"
             ],
             [
              0.3333333333333333,
              "#9c179e"
             ],
             [
              0.4444444444444444,
              "#bd3786"
             ],
             [
              0.5555555555555556,
              "#d8576b"
             ],
             [
              0.6666666666666666,
              "#ed7953"
             ],
             [
              0.7777777777777778,
              "#fb9f3a"
             ],
             [
              0.8888888888888888,
              "#fdca26"
             ],
             [
              1,
              "#f0f921"
             ]
            ],
            "type": "surface"
           }
          ],
          "table": [
           {
            "cells": {
             "fill": {
              "color": "#EBF0F8"
             },
             "line": {
              "color": "white"
             }
            },
            "header": {
             "fill": {
              "color": "#C8D4E3"
             },
             "line": {
              "color": "white"
             }
            },
            "type": "table"
           }
          ]
         },
         "layout": {
          "annotationdefaults": {
           "arrowcolor": "#2a3f5f",
           "arrowhead": 0,
           "arrowwidth": 1
          },
          "colorscale": {
           "diverging": [
            [
             0,
             "#8e0152"
            ],
            [
             0.1,
             "#c51b7d"
            ],
            [
             0.2,
             "#de77ae"
            ],
            [
             0.3,
             "#f1b6da"
            ],
            [
             0.4,
             "#fde0ef"
            ],
            [
             0.5,
             "#f7f7f7"
            ],
            [
             0.6,
             "#e6f5d0"
            ],
            [
             0.7,
             "#b8e186"
            ],
            [
             0.8,
             "#7fbc41"
            ],
            [
             0.9,
             "#4d9221"
            ],
            [
             1,
             "#276419"
            ]
           ],
           "sequential": [
            [
             0,
             "#0d0887"
            ],
            [
             0.1111111111111111,
             "#46039f"
            ],
            [
             0.2222222222222222,
             "#7201a8"
            ],
            [
             0.3333333333333333,
             "#9c179e"
            ],
            [
             0.4444444444444444,
             "#bd3786"
            ],
            [
             0.5555555555555556,
             "#d8576b"
            ],
            [
             0.6666666666666666,
             "#ed7953"
            ],
            [
             0.7777777777777778,
             "#fb9f3a"
            ],
            [
             0.8888888888888888,
             "#fdca26"
            ],
            [
             1,
             "#f0f921"
            ]
           ],
           "sequentialminus": [
            [
             0,
             "#0d0887"
            ],
            [
             0.1111111111111111,
             "#46039f"
            ],
            [
             0.2222222222222222,
             "#7201a8"
            ],
            [
             0.3333333333333333,
             "#9c179e"
            ],
            [
             0.4444444444444444,
             "#bd3786"
            ],
            [
             0.5555555555555556,
             "#d8576b"
            ],
            [
             0.6666666666666666,
             "#ed7953"
            ],
            [
             0.7777777777777778,
             "#fb9f3a"
            ],
            [
             0.8888888888888888,
             "#fdca26"
            ],
            [
             1,
             "#f0f921"
            ]
           ]
          },
          "colorway": [
           "#636efa",
           "#EF553B",
           "#00cc96",
           "#ab63fa",
           "#FFA15A",
           "#19d3f3",
           "#FF6692",
           "#B6E880",
           "#FF97FF",
           "#FECB52"
          ],
          "font": {
           "color": "#2a3f5f"
          },
          "geo": {
           "bgcolor": "white",
           "lakecolor": "white",
           "landcolor": "white",
           "showlakes": true,
           "showland": true,
           "subunitcolor": "#C8D4E3"
          },
          "hoverlabel": {
           "align": "left"
          },
          "hovermode": "closest",
          "mapbox": {
           "style": "light"
          },
          "paper_bgcolor": "white",
          "plot_bgcolor": "white",
          "polar": {
           "angularaxis": {
            "gridcolor": "#EBF0F8",
            "linecolor": "#EBF0F8",
            "ticks": ""
           },
           "bgcolor": "white",
           "radialaxis": {
            "gridcolor": "#EBF0F8",
            "linecolor": "#EBF0F8",
            "ticks": ""
           }
          },
          "scene": {
           "xaxis": {
            "backgroundcolor": "white",
            "gridcolor": "#DFE8F3",
            "gridwidth": 2,
            "linecolor": "#EBF0F8",
            "showbackground": true,
            "ticks": "",
            "zerolinecolor": "#EBF0F8"
           },
           "yaxis": {
            "backgroundcolor": "white",
            "gridcolor": "#DFE8F3",
            "gridwidth": 2,
            "linecolor": "#EBF0F8",
            "showbackground": true,
            "ticks": "",
            "zerolinecolor": "#EBF0F8"
           },
           "zaxis": {
            "backgroundcolor": "white",
            "gridcolor": "#DFE8F3",
            "gridwidth": 2,
            "linecolor": "#EBF0F8",
            "showbackground": true,
            "ticks": "",
            "zerolinecolor": "#EBF0F8"
           }
          },
          "shapedefaults": {
           "line": {
            "color": "#2a3f5f"
           }
          },
          "ternary": {
           "aaxis": {
            "gridcolor": "#DFE8F3",
            "linecolor": "#A2B1C6",
            "ticks": ""
           },
           "baxis": {
            "gridcolor": "#DFE8F3",
            "linecolor": "#A2B1C6",
            "ticks": ""
           },
           "bgcolor": "white",
           "caxis": {
            "gridcolor": "#DFE8F3",
            "linecolor": "#A2B1C6",
            "ticks": ""
           }
          },
          "title": {
           "x": 0.05
          },
          "xaxis": {
           "automargin": true,
           "gridcolor": "#EBF0F8",
           "linecolor": "#EBF0F8",
           "ticks": "",
           "zerolinecolor": "#EBF0F8",
           "zerolinewidth": 2
          },
          "yaxis": {
           "automargin": true,
           "gridcolor": "#EBF0F8",
           "linecolor": "#EBF0F8",
           "ticks": "",
           "zerolinecolor": "#EBF0F8",
           "zerolinewidth": 2
          }
         }
        },
        "title": {
         "text": "NCBI Assembly Statistics of Vector Genomes"
        },
        "xaxis": {
         "anchor": "y",
         "domain": [
          0,
          0.98
         ],
         "title": {
          "text": "contig_n50"
         },
         "type": "log"
        },
        "yaxis": {
         "anchor": "x",
         "domain": [
          0,
          1
         ],
         "title": {
          "text": "scaffold_n50"
         },
         "type": "log"
        }
       }
      },
      "text/html": [
       "<div>\n",
       "        \n",
       "        \n",
       "            <div id=\"45f9d5d5-cffd-48e1-8fbc-b14351440f0f\" class=\"plotly-graph-div\" style=\"height:600px; width:100%;\"></div>\n",
       "            <script type=\"text/javascript\">\n",
       "                require([\"plotly\"], function(Plotly) {\n",
       "                    window.PLOTLYENV=window.PLOTLYENV || {};\n",
       "                    \n",
       "                if (document.getElementById(\"45f9d5d5-cffd-48e1-8fbc-b14351440f0f\")) {\n",
       "                    Plotly.newPlot(\n",
       "                        '45f9d5d5-cffd-48e1-8fbc-b14351440f0f',\n",
       "                        [{\"customdata\": [[\"Aedes aegypti\"], [\"Anopheles albimanus\"], [\"Anopheles funestus\"], [\"Anopheles stephensi\"]], \"hoverlabel\": {\"namelength\": 0}, \"hovertemplate\": \"status=Chromosome<br>contig_n50=%{x}<br>scaffold_n50=%{y}<br>species=%{customdata[0]}\", \"legendgroup\": \"status=Chromosome\", \"marker\": {\"color\": \"#636efa\", \"line\": {\"color\": \"DarkSlateGrey\", \"width\": 2}, \"size\": 12, \"symbol\": \"circle\"}, \"mode\": \"markers\", \"name\": \"status=Chromosome\", \"showlegend\": true, \"textposition\": \"top center\", \"type\": \"scatter\", \"x\": [11758062, 200121, 107489, 88157], \"xaxis\": \"x\", \"y\": [409777670, 9735467, 239261, 51436555], \"yaxis\": \"y\"}, {\"customdata\": [[\"Aedes albopictus\"], [\"Anopheles coluzzii\"], [\"Anopheles darlingi\"], [\"Anopheles gambiae\"], [\"Glossina morsitans\"], [\"Ixodes scapularis\"]], \"hoverlabel\": {\"namelength\": 0}, \"hovertemplate\": \"status=Contig<br>contig_n50=%{x}<br>scaffold_n50=%{y}<br>species=%{customdata[0]}\", \"legendgroup\": \"status=Contig\", \"marker\": {\"color\": \"#EF553B\", \"line\": {\"color\": \"DarkSlateGrey\", \"width\": 2}, \"size\": 12, \"symbol\": \"circle\"}, \"mode\": \"markers\", \"name\": \"status=Contig\", \"showlegend\": true, \"textposition\": \"top center\", \"type\": \"scatter\", \"x\": [3303944, 2625112, 115072, 101465, 49769, 835681], \"xaxis\": \"x\", \"y\": [3303944, 2625112, 115072, 101465, 49769, 835681], \"yaxis\": \"y\"}, {\"customdata\": [[\"Anopheles arabiensis\"], [\"Anopheles atroparvus\"], [\"Anopheles christyi\"], [\"Anopheles culicifacies\"], [\"Anopheles dirus\"], [\"Anopheles epiroticus\"], [\"Anopheles farauti\"], [\"Anopheles maculatus\"], [\"Anopheles melas\"], [\"Anopheles merus\"], [\"Anopheles minimus\"], [\"Anopheles quadriannulatus\"], [\"Anopheles sinensis\"], [\"Cimex lectularius\"], [\"Culex quinquefasciatus\"], [\"Glossina austeni\"], [\"Glossina brevipalpis\"], [\"Glossina fuscipes\"], [\"Glossina pallidipes\"], [\"Glossina palpalis\"], [\"Leptotrombidium deliense\"], [\"Lutzomyia longipalpis\"], [\"Musca domestica\"], [\"Pediculus humanus\"], [\"Phlebotomus papatasi\"], [\"Rhodnius prolixus\"], [\"Sarcoptes scabiei\"], [\"Stomoxys calcitrans\"]], \"hoverlabel\": {\"namelength\": 0}, \"hovertemplate\": \"status=Scaffold<br>contig_n50=%{x}<br>scaffold_n50=%{y}<br>species=%{customdata[0]}\", \"legendgroup\": \"status=Scaffold\", \"marker\": {\"color\": \"#00cc96\", \"line\": {\"color\": \"DarkSlateGrey\", \"width\": 2}, \"size\": 12, \"symbol\": \"circle\"}, \"mode\": \"markers\", \"name\": \"status=Scaffold\", \"showlegend\": true, \"textposition\": \"top center\", \"type\": \"scatter\", \"x\": [74117, 53613, 8461, 13414, 76300, 88996, 161110, 38030, 11312, 48115, 123292, 39415, 30137, 552423, 28546, 45924, 62009, 64354, 167200, 24489, 2903, 7481, 11807, 34097, 5795, 35751, 11197, 11309], \"xaxis\": \"x\", \"y\": [5604218, 9206694, 9057, 22320, 6906475, 366526, 12895223, 198528, 18103, 1489982, 10313149, 1641272, 814231, 1637644, 486756, 812585, 1209507, 561190, 1038751, 575037, 2941, 85093, 226573, 497057, 27956, 1088772, 11557, 504651], \"yaxis\": \"y\"}],\n",
       "                        {\"height\": 600, \"legend\": {\"tracegroupgap\": 0}, \"template\": {\"data\": {\"bar\": [{\"error_x\": {\"color\": \"#2a3f5f\"}, \"error_y\": {\"color\": \"#2a3f5f\"}, \"marker\": {\"line\": {\"color\": \"white\", \"width\": 0.5}}, \"type\": \"bar\"}], \"barpolar\": [{\"marker\": {\"line\": {\"color\": \"white\", \"width\": 0.5}}, \"type\": \"barpolar\"}], \"carpet\": [{\"aaxis\": {\"endlinecolor\": \"#2a3f5f\", \"gridcolor\": \"#C8D4E3\", \"linecolor\": \"#C8D4E3\", \"minorgridcolor\": \"#C8D4E3\", \"startlinecolor\": \"#2a3f5f\"}, \"baxis\": {\"endlinecolor\": \"#2a3f5f\", \"gridcolor\": \"#C8D4E3\", \"linecolor\": \"#C8D4E3\", \"minorgridcolor\": \"#C8D4E3\", \"startlinecolor\": \"#2a3f5f\"}, \"type\": \"carpet\"}], \"choropleth\": [{\"colorbar\": {\"outlinewidth\": 0, \"ticks\": \"\"}, \"type\": \"choropleth\"}], \"contour\": [{\"colorbar\": {\"outlinewidth\": 0, \"ticks\": \"\"}, \"colorscale\": [[0.0, \"#0d0887\"], [0.1111111111111111, \"#46039f\"], [0.2222222222222222, \"#7201a8\"], [0.3333333333333333, \"#9c179e\"], [0.4444444444444444, \"#bd3786\"], [0.5555555555555556, \"#d8576b\"], [0.6666666666666666, \"#ed7953\"], [0.7777777777777778, \"#fb9f3a\"], [0.8888888888888888, \"#fdca26\"], [1.0, \"#f0f921\"]], \"type\": \"contour\"}], \"contourcarpet\": [{\"colorbar\": {\"outlinewidth\": 0, \"ticks\": \"\"}, \"type\": \"contourcarpet\"}], \"heatmap\": [{\"colorbar\": {\"outlinewidth\": 0, \"ticks\": \"\"}, \"colorscale\": [[0.0, \"#0d0887\"], [0.1111111111111111, \"#46039f\"], [0.2222222222222222, \"#7201a8\"], [0.3333333333333333, \"#9c179e\"], [0.4444444444444444, \"#bd3786\"], [0.5555555555555556, \"#d8576b\"], [0.6666666666666666, \"#ed7953\"], [0.7777777777777778, \"#fb9f3a\"], [0.8888888888888888, \"#fdca26\"], [1.0, \"#f0f921\"]], \"type\": \"heatmap\"}], \"heatmapgl\": [{\"colorbar\": {\"outlinewidth\": 0, \"ticks\": \"\"}, \"colorscale\": [[0.0, \"#0d0887\"], [0.1111111111111111, \"#46039f\"], [0.2222222222222222, \"#7201a8\"], [0.3333333333333333, \"#9c179e\"], [0.4444444444444444, \"#bd3786\"], [0.5555555555555556, \"#d8576b\"], [0.6666666666666666, \"#ed7953\"], [0.7777777777777778, \"#fb9f3a\"], [0.8888888888888888, \"#fdca26\"], [1.0, \"#f0f921\"]], \"type\": \"heatmapgl\"}], \"histogram\": [{\"marker\": {\"colorbar\": {\"outlinewidth\": 0, \"ticks\": \"\"}}, \"type\": \"histogram\"}], \"histogram2d\": [{\"colorbar\": {\"outlinewidth\": 0, \"ticks\": \"\"}, \"colorscale\": [[0.0, \"#0d0887\"], [0.1111111111111111, \"#46039f\"], [0.2222222222222222, \"#7201a8\"], [0.3333333333333333, \"#9c179e\"], [0.4444444444444444, \"#bd3786\"], [0.5555555555555556, \"#d8576b\"], [0.6666666666666666, \"#ed7953\"], [0.7777777777777778, \"#fb9f3a\"], [0.8888888888888888, \"#fdca26\"], [1.0, \"#f0f921\"]], \"type\": \"histogram2d\"}], \"histogram2dcontour\": [{\"colorbar\": {\"outlinewidth\": 0, \"ticks\": \"\"}, \"colorscale\": [[0.0, \"#0d0887\"], [0.1111111111111111, \"#46039f\"], [0.2222222222222222, \"#7201a8\"], [0.3333333333333333, \"#9c179e\"], [0.4444444444444444, \"#bd3786\"], [0.5555555555555556, \"#d8576b\"], [0.6666666666666666, \"#ed7953\"], [0.7777777777777778, \"#fb9f3a\"], [0.8888888888888888, \"#fdca26\"], [1.0, \"#f0f921\"]], \"type\": \"histogram2dcontour\"}], \"mesh3d\": [{\"colorbar\": {\"outlinewidth\": 0, \"ticks\": \"\"}, \"type\": \"mesh3d\"}], \"parcoords\": [{\"line\": {\"colorbar\": {\"outlinewidth\": 0, \"ticks\": \"\"}}, \"type\": \"parcoords\"}], \"scatter\": [{\"marker\": {\"colorbar\": {\"outlinewidth\": 0, \"ticks\": \"\"}}, \"type\": \"scatter\"}], \"scatter3d\": [{\"line\": {\"colorbar\": {\"outlinewidth\": 0, \"ticks\": \"\"}}, \"marker\": {\"colorbar\": {\"outlinewidth\": 0, \"ticks\": \"\"}}, \"type\": \"scatter3d\"}], \"scattercarpet\": [{\"marker\": {\"colorbar\": {\"outlinewidth\": 0, \"ticks\": \"\"}}, \"type\": \"scattercarpet\"}], \"scattergeo\": [{\"marker\": {\"colorbar\": {\"outlinewidth\": 0, \"ticks\": \"\"}}, \"type\": \"scattergeo\"}], \"scattergl\": [{\"marker\": {\"colorbar\": {\"outlinewidth\": 0, \"ticks\": \"\"}}, \"type\": \"scattergl\"}], \"scattermapbox\": [{\"marker\": {\"colorbar\": {\"outlinewidth\": 0, \"ticks\": \"\"}}, \"type\": \"scattermapbox\"}], \"scatterpolar\": [{\"marker\": {\"colorbar\": {\"outlinewidth\": 0, \"ticks\": \"\"}}, \"type\": \"scatterpolar\"}], \"scatterpolargl\": [{\"marker\": {\"colorbar\": {\"outlinewidth\": 0, \"ticks\": \"\"}}, \"type\": \"scatterpolargl\"}], \"scatterternary\": [{\"marker\": {\"colorbar\": {\"outlinewidth\": 0, \"ticks\": \"\"}}, \"type\": \"scatterternary\"}], \"surface\": [{\"colorbar\": {\"outlinewidth\": 0, \"ticks\": \"\"}, \"colorscale\": [[0.0, \"#0d0887\"], [0.1111111111111111, \"#46039f\"], [0.2222222222222222, \"#7201a8\"], [0.3333333333333333, \"#9c179e\"], [0.4444444444444444, \"#bd3786\"], [0.5555555555555556, \"#d8576b\"], [0.6666666666666666, \"#ed7953\"], [0.7777777777777778, \"#fb9f3a\"], [0.8888888888888888, \"#fdca26\"], [1.0, \"#f0f921\"]], \"type\": \"surface\"}], \"table\": [{\"cells\": {\"fill\": {\"color\": \"#EBF0F8\"}, \"line\": {\"color\": \"white\"}}, \"header\": {\"fill\": {\"color\": \"#C8D4E3\"}, \"line\": {\"color\": \"white\"}}, \"type\": \"table\"}]}, \"layout\": {\"annotationdefaults\": {\"arrowcolor\": \"#2a3f5f\", \"arrowhead\": 0, \"arrowwidth\": 1}, \"colorscale\": {\"diverging\": [[0, \"#8e0152\"], [0.1, \"#c51b7d\"], [0.2, \"#de77ae\"], [0.3, \"#f1b6da\"], [0.4, \"#fde0ef\"], [0.5, \"#f7f7f7\"], [0.6, \"#e6f5d0\"], [0.7, \"#b8e186\"], [0.8, \"#7fbc41\"], [0.9, \"#4d9221\"], [1, \"#276419\"]], \"sequential\": [[0.0, \"#0d0887\"], [0.1111111111111111, \"#46039f\"], [0.2222222222222222, \"#7201a8\"], [0.3333333333333333, \"#9c179e\"], [0.4444444444444444, \"#bd3786\"], [0.5555555555555556, \"#d8576b\"], [0.6666666666666666, \"#ed7953\"], [0.7777777777777778, \"#fb9f3a\"], [0.8888888888888888, \"#fdca26\"], [1.0, \"#f0f921\"]], \"sequentialminus\": [[0.0, \"#0d0887\"], [0.1111111111111111, \"#46039f\"], [0.2222222222222222, \"#7201a8\"], [0.3333333333333333, \"#9c179e\"], [0.4444444444444444, \"#bd3786\"], [0.5555555555555556, \"#d8576b\"], [0.6666666666666666, \"#ed7953\"], [0.7777777777777778, \"#fb9f3a\"], [0.8888888888888888, \"#fdca26\"], [1.0, \"#f0f921\"]]}, \"colorway\": [\"#636efa\", \"#EF553B\", \"#00cc96\", \"#ab63fa\", \"#FFA15A\", \"#19d3f3\", \"#FF6692\", \"#B6E880\", \"#FF97FF\", \"#FECB52\"], \"font\": {\"color\": \"#2a3f5f\"}, \"geo\": {\"bgcolor\": \"white\", \"lakecolor\": \"white\", \"landcolor\": \"white\", \"showlakes\": true, \"showland\": true, \"subunitcolor\": \"#C8D4E3\"}, \"hoverlabel\": {\"align\": \"left\"}, \"hovermode\": \"closest\", \"mapbox\": {\"style\": \"light\"}, \"paper_bgcolor\": \"white\", \"plot_bgcolor\": \"white\", \"polar\": {\"angularaxis\": {\"gridcolor\": \"#EBF0F8\", \"linecolor\": \"#EBF0F8\", \"ticks\": \"\"}, \"bgcolor\": \"white\", \"radialaxis\": {\"gridcolor\": \"#EBF0F8\", \"linecolor\": \"#EBF0F8\", \"ticks\": \"\"}}, \"scene\": {\"xaxis\": {\"backgroundcolor\": \"white\", \"gridcolor\": \"#DFE8F3\", \"gridwidth\": 2, \"linecolor\": \"#EBF0F8\", \"showbackground\": true, \"ticks\": \"\", \"zerolinecolor\": \"#EBF0F8\"}, \"yaxis\": {\"backgroundcolor\": \"white\", \"gridcolor\": \"#DFE8F3\", \"gridwidth\": 2, \"linecolor\": \"#EBF0F8\", \"showbackground\": true, \"ticks\": \"\", \"zerolinecolor\": \"#EBF0F8\"}, \"zaxis\": {\"backgroundcolor\": \"white\", \"gridcolor\": \"#DFE8F3\", \"gridwidth\": 2, \"linecolor\": \"#EBF0F8\", \"showbackground\": true, \"ticks\": \"\", \"zerolinecolor\": \"#EBF0F8\"}}, \"shapedefaults\": {\"line\": {\"color\": \"#2a3f5f\"}}, \"ternary\": {\"aaxis\": {\"gridcolor\": \"#DFE8F3\", \"linecolor\": \"#A2B1C6\", \"ticks\": \"\"}, \"baxis\": {\"gridcolor\": \"#DFE8F3\", \"linecolor\": \"#A2B1C6\", \"ticks\": \"\"}, \"bgcolor\": \"white\", \"caxis\": {\"gridcolor\": \"#DFE8F3\", \"linecolor\": \"#A2B1C6\", \"ticks\": \"\"}}, \"title\": {\"x\": 0.05}, \"xaxis\": {\"automargin\": true, \"gridcolor\": \"#EBF0F8\", \"linecolor\": \"#EBF0F8\", \"ticks\": \"\", \"zerolinecolor\": \"#EBF0F8\", \"zerolinewidth\": 2}, \"yaxis\": {\"automargin\": true, \"gridcolor\": \"#EBF0F8\", \"linecolor\": \"#EBF0F8\", \"ticks\": \"\", \"zerolinecolor\": \"#EBF0F8\", \"zerolinewidth\": 2}}}, \"title\": {\"text\": \"NCBI Assembly Statistics of Vector Genomes\"}, \"xaxis\": {\"anchor\": \"y\", \"domain\": [0.0, 0.98], \"title\": {\"text\": \"contig_n50\"}, \"type\": \"log\"}, \"yaxis\": {\"anchor\": \"x\", \"domain\": [0.0, 1.0], \"title\": {\"text\": \"scaffold_n50\"}, \"type\": \"log\"}},\n",
       "                        {\"responsive\": true}\n",
       "                    ).then(function(){\n",
       "                            \n",
       "var gd = document.getElementById('45f9d5d5-cffd-48e1-8fbc-b14351440f0f');\n",
       "var x = new MutationObserver(function (mutations, observer) {{\n",
       "        var display = window.getComputedStyle(gd).display;\n",
       "        if (!display || display === 'none') {{\n",
       "            console.log([gd, 'removed!']);\n",
       "            Plotly.purge(gd);\n",
       "            observer.disconnect();\n",
       "        }}\n",
       "}});\n",
       "\n",
       "// Listen for the removal of the full notebook cells\n",
       "var notebookContainer = gd.closest('#notebook-container');\n",
       "if (notebookContainer) {{\n",
       "    x.observe(notebookContainer, {childList: true});\n",
       "}}\n",
       "\n",
       "// Listen for the clearing of the current output cell\n",
       "var outputEl = gd.closest('.output');\n",
       "if (outputEl) {{\n",
       "    x.observe(outputEl, {childList: true});\n",
       "}}\n",
       "\n",
       "                        })\n",
       "                };\n",
       "                });\n",
       "            </script>\n",
       "        </div>"
      ]
     },
     "metadata": {},
     "output_type": "display_data"
    }
   ],
   "source": [
    "plot_with_plotly(df_vectorbase, 'NCBI Assembly Statistics of Vector Genomes')"
   ]
  },
  {
   "cell_type": "code",
   "execution_count": 64,
   "metadata": {},
   "outputs": [
    {
     "name": "stdout",
     "output_type": "stream",
     "text": [
      "('mean vector genome contig N50:', 553064.9736842106)\n",
      "('median vector genome contig N50:', 51691.0)\n",
      "('longest vector genome contig N50:', 11758062)\n",
      "('shortest vector genome contig N50:', 2903)\n",
      "\n",
      "\n",
      "('mean vector genome scaffold N50:', 14117680.105263159)\n",
      "('median vector genome scaffold N50:', 693811.0)\n",
      "('longest vector genome scaffold N50:', 409777670)\n",
      "('shortest vector genome scaffold N50:', 2941)\n"
     ]
    }
   ],
   "source": [
    "# Average contig N50 size\n",
    "print(\"mean vector genome contig N50:\",df_vectorbase['contig_n50'].mean())\n",
    "print(\"median vector genome contig N50:\",df_vectorbase['contig_n50'].median())\n",
    "print(\"longest vector genome contig N50:\",df_vectorbase['contig_n50'].max())\n",
    "print(\"shortest vector genome contig N50:\",df_vectorbase['contig_n50'].min())\n",
    "print(\"\\n\")\n",
    "print(\"mean vector genome scaffold N50:\",df_vectorbase['scaffold_n50'].mean())\n",
    "print(\"median vector genome scaffold N50:\",df_vectorbase['scaffold_n50'].median())\n",
    "print(\"longest vector genome scaffold N50:\",df_vectorbase['scaffold_n50'].max())\n",
    "print(\"shortest vector genome scaffold N50:\",df_vectorbase['scaffold_n50'].min())\n"
   ]
  },
  {
   "cell_type": "code",
   "execution_count": 65,
   "metadata": {},
   "outputs": [
    {
     "data": {
      "image/png": "[encoded data removed]",
      "text/plain": [
       "<Figure size 1814.4x1296 with 1 Axes>"
      ]
     },
     "metadata": {},
     "output_type": "display_data"
    }
   ],
   "source": [
    "plot_contig_N50_vs_scaffold_N50(df_vectorbase, 'NCBI Vector assemblies', point_size=400)"
   ]
  },
  {
   "cell_type": "code",
   "execution_count": 66,
   "metadata": {},
   "outputs": [
    {
     "ename": "ValueError",
     "evalue": "Value of 'color' is not the name of a column in 'data_frame'. Expected one of ['species', 'contig_n50', 'scaffold_n50', 'total_length', 'status', 'ass_accession', 'ass_release_date', 'genera', 'species_only', 'date_time_test', 'year', 'name_abreviation'] but received: family",
     "output_type": "error",
     "traceback": [
      "\u001b[0;31m---------------------------------------------------------------------------\u001b[0m",
      "\u001b[0;31mValueError\u001b[0m                                Traceback (most recent call last)",
      "\u001b[0;32m<ipython-input-66-e2d491bb68c3>\u001b[0m in \u001b[0;36m<module>\u001b[0;34m()\u001b[0m\n\u001b[0;32m----> 1\u001b[0;31m \u001b[0mfig\u001b[0m \u001b[0;34m=\u001b[0m \u001b[0mpx\u001b[0m\u001b[0;34m.\u001b[0m\u001b[0mscatter\u001b[0m\u001b[0;34m(\u001b[0m\u001b[0mdf_vectorbase\u001b[0m\u001b[0;34m,\u001b[0m \u001b[0mx\u001b[0m\u001b[0;34m=\u001b[0m\u001b[0;34m'contig_n50'\u001b[0m\u001b[0;34m,\u001b[0m \u001b[0my\u001b[0m\u001b[0;34m=\u001b[0m\u001b[0;34m'scaffold_n50'\u001b[0m\u001b[0;34m,\u001b[0m \u001b[0mcolor\u001b[0m\u001b[0;34m=\u001b[0m\u001b[0;34m'family'\u001b[0m\u001b[0;34m,\u001b[0m\u001b[0msize\u001b[0m\u001b[0;34m=\u001b[0m\u001b[0;34m'total_length'\u001b[0m\u001b[0;34m,\u001b[0m \u001b[0mtitle\u001b[0m\u001b[0;34m=\u001b[0m\u001b[0;34m'Vector Genomes Assembly Statistics'\u001b[0m\u001b[0;34m,\u001b[0m \u001b[0mtext\u001b[0m\u001b[0;34m=\u001b[0m\u001b[0;34m'name_abreviation'\u001b[0m\u001b[0;34m,\u001b[0m \u001b[0mhover_data\u001b[0m\u001b[0;34m=\u001b[0m\u001b[0;34m[\u001b[0m\u001b[0;34m'species'\u001b[0m\u001b[0;34m]\u001b[0m\u001b[0;34m,\u001b[0m \u001b[0mlog_x\u001b[0m\u001b[0;34m=\u001b[0m\u001b[0mTrue\u001b[0m\u001b[0;34m,\u001b[0m \u001b[0mlog_y\u001b[0m\u001b[0;34m=\u001b[0m\u001b[0mTrue\u001b[0m\u001b[0;34m,\u001b[0m \u001b[0mtemplate\u001b[0m\u001b[0;34m=\u001b[0m\u001b[0;34m'plotly_white'\u001b[0m\u001b[0;34m)\u001b[0m\u001b[0;34m\u001b[0m\u001b[0m\n\u001b[0m\u001b[1;32m      2\u001b[0m \u001b[0;31m#fig.update_traces(marker=dict(size=20, line=dict(width=2, color='DarkSlateGrey')), selector=dict(mode='markers'))\u001b[0m\u001b[0;34m\u001b[0m\u001b[0;34m\u001b[0m\u001b[0m\n\u001b[1;32m      3\u001b[0m \u001b[0;31m#fig.update_traces(marker=dict(size=20, line=dict(width=2, color='DarkSlateGrrey')), selector=dict(mode='markers'))\u001b[0m\u001b[0;34m\u001b[0m\u001b[0;34m\u001b[0m\u001b[0m\n\u001b[1;32m      4\u001b[0m \u001b[0mfig\u001b[0m\u001b[0;34m.\u001b[0m\u001b[0mupdate_traces\u001b[0m\u001b[0;34m(\u001b[0m\u001b[0mtextposition\u001b[0m\u001b[0;34m=\u001b[0m\u001b[0;34m'top center'\u001b[0m\u001b[0;34m)\u001b[0m\u001b[0;34m\u001b[0m\u001b[0m\n\u001b[1;32m      5\u001b[0m \u001b[0mfig\u001b[0m\u001b[0;34m.\u001b[0m\u001b[0mshow\u001b[0m\u001b[0;34m(\u001b[0m\u001b[0;34m)\u001b[0m\u001b[0;34m\u001b[0m\u001b[0m\n",
      "\u001b[0;32m/usr/local/lib/python2.7/site-packages/plotly/express/_chart_types.pyc\u001b[0m in \u001b[0;36mscatter\u001b[0;34m(data_frame, x, y, color, symbol, size, hover_name, hover_data, custom_data, text, facet_row, facet_col, error_x, error_x_minus, error_y, error_y_minus, animation_frame, animation_group, category_orders, labels, color_discrete_sequence, color_discrete_map, color_continuous_scale, range_color, color_continuous_midpoint, symbol_sequence, symbol_map, opacity, size_max, marginal_x, marginal_y, trendline, trendline_color_override, log_x, log_y, range_x, range_y, render_mode, title, template, width, height)\u001b[0m\n\u001b[1;32m     51\u001b[0m     \u001b[0mIn\u001b[0m \u001b[0ma\u001b[0m \u001b[0mscatter\u001b[0m \u001b[0mplot\u001b[0m\u001b[0;34m,\u001b[0m \u001b[0meach\u001b[0m \u001b[0mrow\u001b[0m \u001b[0mof\u001b[0m \u001b[0;34m`\u001b[0m\u001b[0mdata_frame\u001b[0m\u001b[0;34m`\u001b[0m \u001b[0;32mis\u001b[0m \u001b[0mrepresented\u001b[0m \u001b[0mby\u001b[0m \u001b[0ma\u001b[0m \u001b[0msymbol\u001b[0m \u001b[0mmark\u001b[0m \u001b[0;32min\u001b[0m \u001b[0;36m2\u001b[0m\u001b[0mD\u001b[0m \u001b[0mspace\u001b[0m\u001b[0;34m.\u001b[0m\u001b[0;34m\u001b[0m\u001b[0m\n\u001b[1;32m     52\u001b[0m     \"\"\"\n\u001b[0;32m---> 53\u001b[0;31m     \u001b[0;32mreturn\u001b[0m \u001b[0mmake_figure\u001b[0m\u001b[0;34m(\u001b[0m\u001b[0margs\u001b[0m\u001b[0;34m=\u001b[0m\u001b[0mlocals\u001b[0m\u001b[0;34m(\u001b[0m\u001b[0;34m)\u001b[0m\u001b[0;34m,\u001b[0m \u001b[0mconstructor\u001b[0m\u001b[0;34m=\u001b[0m\u001b[0mgo\u001b[0m\u001b[0;34m.\u001b[0m\u001b[0mScatter\u001b[0m\u001b[0;34m)\u001b[0m\u001b[0;34m\u001b[0m\u001b[0m\n\u001b[0m\u001b[1;32m     54\u001b[0m \u001b[0;34m\u001b[0m\u001b[0m\n\u001b[1;32m     55\u001b[0m \u001b[0;34m\u001b[0m\u001b[0m\n",
      "\u001b[0;32m/usr/local/lib/python2.7/site-packages/plotly/express/_core.pyc\u001b[0m in \u001b[0;36mmake_figure\u001b[0;34m(args, constructor, trace_patch, layout_patch)\u001b[0m\n\u001b[1;32m   1092\u001b[0m \u001b[0;34m\u001b[0m\u001b[0m\n\u001b[1;32m   1093\u001b[0m     args, trace_specs, grouped_mappings, sizeref, show_colorbar = infer_config(\n\u001b[0;32m-> 1094\u001b[0;31m         \u001b[0margs\u001b[0m\u001b[0;34m,\u001b[0m \u001b[0mconstructor\u001b[0m\u001b[0;34m,\u001b[0m \u001b[0mtrace_patch\u001b[0m\u001b[0;34m\u001b[0m\u001b[0m\n\u001b[0m\u001b[1;32m   1095\u001b[0m     )\n\u001b[1;32m   1096\u001b[0m     \u001b[0mgrouper\u001b[0m \u001b[0;34m=\u001b[0m \u001b[0;34m[\u001b[0m\u001b[0mx\u001b[0m\u001b[0;34m.\u001b[0m\u001b[0mgrouper\u001b[0m \u001b[0;32mor\u001b[0m \u001b[0mone_group\u001b[0m \u001b[0;32mfor\u001b[0m \u001b[0mx\u001b[0m \u001b[0;32min\u001b[0m \u001b[0mgrouped_mappings\u001b[0m\u001b[0;34m]\u001b[0m \u001b[0;32mor\u001b[0m \u001b[0;34m[\u001b[0m\u001b[0mone_group\u001b[0m\u001b[0;34m]\u001b[0m\u001b[0;34m\u001b[0m\u001b[0m\n",
      "\u001b[0;32m/usr/local/lib/python2.7/site-packages/plotly/express/_core.pyc\u001b[0m in \u001b[0;36minfer_config\u001b[0;34m(args, constructor, trace_patch)\u001b[0m\n\u001b[1;32m    975\u001b[0m             \u001b[0mall_attrables\u001b[0m \u001b[0;34m+=\u001b[0m \u001b[0;34m[\u001b[0m\u001b[0mgroup_attr\u001b[0m\u001b[0;34m]\u001b[0m\u001b[0;34m\u001b[0m\u001b[0m\n\u001b[1;32m    976\u001b[0m \u001b[0;34m\u001b[0m\u001b[0m\n\u001b[0;32m--> 977\u001b[0;31m     \u001b[0margs\u001b[0m \u001b[0;34m=\u001b[0m \u001b[0mbuild_dataframe\u001b[0m\u001b[0;34m(\u001b[0m\u001b[0margs\u001b[0m\u001b[0;34m,\u001b[0m \u001b[0mall_attrables\u001b[0m\u001b[0;34m,\u001b[0m \u001b[0marray_attrables\u001b[0m\u001b[0;34m)\u001b[0m\u001b[0;34m\u001b[0m\u001b[0m\n\u001b[0m\u001b[1;32m    978\u001b[0m \u001b[0;34m\u001b[0m\u001b[0m\n\u001b[1;32m    979\u001b[0m     \u001b[0mattrs\u001b[0m \u001b[0;34m=\u001b[0m \u001b[0;34m[\u001b[0m\u001b[0mk\u001b[0m \u001b[0;32mfor\u001b[0m \u001b[0mk\u001b[0m \u001b[0;32min\u001b[0m \u001b[0mattrables\u001b[0m \u001b[0;32mif\u001b[0m \u001b[0mk\u001b[0m \u001b[0;32min\u001b[0m \u001b[0margs\u001b[0m\u001b[0;34m]\u001b[0m\u001b[0;34m\u001b[0m\u001b[0m\n",
      "\u001b[0;32m/usr/local/lib/python2.7/site-packages/plotly/express/_core.pyc\u001b[0m in \u001b[0;36mbuild_dataframe\u001b[0;34m(args, attrables, array_attrables)\u001b[0m\n\u001b[1;32m    897\u001b[0m                             \u001b[0;34m\"\\n To use the index, pass it in directly as `df.index`.\"\u001b[0m\u001b[0;34m\u001b[0m\u001b[0m\n\u001b[1;32m    898\u001b[0m                         )\n\u001b[0;32m--> 899\u001b[0;31m                     \u001b[0;32mraise\u001b[0m \u001b[0mValueError\u001b[0m\u001b[0;34m(\u001b[0m\u001b[0merr_msg\u001b[0m\u001b[0;34m)\u001b[0m\u001b[0;34m\u001b[0m\u001b[0m\n\u001b[0m\u001b[1;32m    900\u001b[0m                 \u001b[0;32mif\u001b[0m \u001b[0mlength\u001b[0m \u001b[0;32mand\u001b[0m \u001b[0mlen\u001b[0m\u001b[0;34m(\u001b[0m\u001b[0mdf_input\u001b[0m\u001b[0;34m[\u001b[0m\u001b[0margument\u001b[0m\u001b[0;34m]\u001b[0m\u001b[0;34m)\u001b[0m \u001b[0;34m!=\u001b[0m \u001b[0mlength\u001b[0m\u001b[0;34m:\u001b[0m\u001b[0;34m\u001b[0m\u001b[0m\n\u001b[1;32m    901\u001b[0m                     raise ValueError(\n",
      "\u001b[0;31mValueError\u001b[0m: Value of 'color' is not the name of a column in 'data_frame'. Expected one of ['species', 'contig_n50', 'scaffold_n50', 'total_length', 'status', 'ass_accession', 'ass_release_date', 'genera', 'species_only', 'date_time_test', 'year', 'name_abreviation'] but received: family"
     ]
    }
   ],
   "source": [
    "fig = px.scatter(df_vectorbase, x='contig_n50', y='scaffold_n50', color='family',size='total_length', title='Vector Genomes Assembly Statistics', text='name_abreviation', hover_data=['species'], log_x=True, log_y=True, template='plotly_white')\n",
    "#fig.update_traces(marker=dict(size=20, line=dict(width=2, color='DarkSlateGrey')), selector=dict(mode='markers'))\n",
    "#fig.update_traces(marker=dict(size=20, line=dict(width=2, color='DarkSlateGrrey')), selector=dict(mode='markers'))\n",
    "fig.update_traces(textposition='top center')\n",
    "fig.show()"
   ]
  },
  {
   "cell_type": "code",
   "execution_count": null,
   "metadata": {},
   "outputs": [],
   "source": [
    "plot_with_plotly(df_Drosophila)"
   ]
  },
  {
   "cell_type": "markdown",
   "metadata": {},
   "source": [
    "## Try to plot the VGP code (3.4.2.etc) - will just do the contig and scaffold N50s)"
   ]
  },
  {
   "cell_type": "code",
   "execution_count": null,
   "metadata": {},
   "outputs": [],
   "source": [
    "df_vectorbase.head()"
   ]
  },
  {
   "cell_type": "code",
   "execution_count": 67,
   "metadata": {},
   "outputs": [
    {
     "ename": "NameError",
     "evalue": "global name 'math' is not defined",
     "output_type": "error",
     "traceback": [
      "\u001b[0;31m---------------------------------------------------------------------------\u001b[0m",
      "\u001b[0;31mNameError\u001b[0m                                 Traceback (most recent call last)",
      "\u001b[0;32m<ipython-input-67-71d2465eedc2>\u001b[0m in \u001b[0;36m<module>\u001b[0;34m()\u001b[0m\n\u001b[1;32m      8\u001b[0m \u001b[0mtest_scaffold_n50\u001b[0m \u001b[0;34m=\u001b[0m \u001b[0mint\u001b[0m\u001b[0;34m(\u001b[0m\u001b[0;36m409777670\u001b[0m\u001b[0;34m)\u001b[0m\u001b[0;34m\u001b[0m\u001b[0m\n\u001b[1;32m      9\u001b[0m \u001b[0;34m\u001b[0m\u001b[0m\n\u001b[0;32m---> 10\u001b[0;31m \u001b[0mN50_bp_to_VGP_scale\u001b[0m\u001b[0;34m(\u001b[0m\u001b[0mtest_contig_n50\u001b[0m\u001b[0;34m)\u001b[0m\u001b[0;34m\u001b[0m\u001b[0m\n\u001b[0m",
      "\u001b[0;32m<ipython-input-67-71d2465eedc2>\u001b[0m in \u001b[0;36mN50_bp_to_VGP_scale\u001b[0;34m(N50)\u001b[0m\n\u001b[1;32m      2\u001b[0m \u001b[0;32mdef\u001b[0m \u001b[0mN50_bp_to_VGP_scale\u001b[0m\u001b[0;34m(\u001b[0m\u001b[0mN50\u001b[0m\u001b[0;34m)\u001b[0m\u001b[0;34m:\u001b[0m\u001b[0;34m\u001b[0m\u001b[0m\n\u001b[1;32m      3\u001b[0m     \u001b[0mN50\u001b[0m \u001b[0;34m=\u001b[0m \u001b[0mint\u001b[0m\u001b[0;34m(\u001b[0m\u001b[0mN50\u001b[0m\u001b[0;34m)\u001b[0m\u001b[0;34m\u001b[0m\u001b[0m\n\u001b[0;32m----> 4\u001b[0;31m     \u001b[0mVGP_num\u001b[0m \u001b[0;34m=\u001b[0m \u001b[0mround\u001b[0m\u001b[0;34m(\u001b[0m\u001b[0mmath\u001b[0m\u001b[0;34m.\u001b[0m\u001b[0mlog10\u001b[0m\u001b[0;34m(\u001b[0m\u001b[0mN50\u001b[0m\u001b[0;34m/\u001b[0m\u001b[0;36m1000\u001b[0m\u001b[0;34m)\u001b[0m\u001b[0;34m)\u001b[0m\u001b[0;34m\u001b[0m\u001b[0m\n\u001b[0m\u001b[1;32m      5\u001b[0m     \u001b[0;32mreturn\u001b[0m\u001b[0;34m(\u001b[0m\u001b[0mVGP_num\u001b[0m\u001b[0;34m)\u001b[0m\u001b[0;34m\u001b[0m\u001b[0m\n\u001b[1;32m      6\u001b[0m \u001b[0;34m\u001b[0m\u001b[0m\n",
      "\u001b[0;31mNameError\u001b[0m: global name 'math' is not defined"
     ]
    }
   ],
   "source": [
    "# first num \n",
    "def N50_bp_to_VGP_scale(N50):\n",
    "    N50 = int(N50)\n",
    "    VGP_num = round(math.log10(N50/1000))\n",
    "    return(VGP_num)\n",
    "\n",
    "test_contig_n50 = int(11758062)\n",
    "test_scaffold_n50 = int(409777670)\n",
    "\n",
    "N50_bp_to_VGP_scale(test_contig_n50)"
   ]
  },
  {
   "cell_type": "code",
   "execution_count": 68,
   "metadata": {},
   "outputs": [
    {
     "ename": "NameError",
     "evalue": "global name 'math' is not defined",
     "output_type": "error",
     "traceback": [
      "\u001b[0;31m---------------------------------------------------------------------------\u001b[0m",
      "\u001b[0;31mNameError\u001b[0m                                 Traceback (most recent call last)",
      "\u001b[0;32m<ipython-input-68-4f0fb6b3afab>\u001b[0m in \u001b[0;36m<module>\u001b[0;34m()\u001b[0m\n\u001b[1;32m      1\u001b[0m \u001b[0;31m#df_vectorbase['VGP_scale'] = pd.api  N50_bp_to_VGP_scale(df_vectorbase['contig_n50'], df_vectorbase['scaffold_n50'])\u001b[0m\u001b[0;34m\u001b[0m\u001b[0;34m\u001b[0m\u001b[0m\n\u001b[1;32m      2\u001b[0m \u001b[0;34m\u001b[0m\u001b[0m\n\u001b[0;32m----> 3\u001b[0;31m \u001b[0mdf_vectorbase\u001b[0m\u001b[0;34m[\u001b[0m\u001b[0;34m'contig_VGP_Scale'\u001b[0m\u001b[0;34m]\u001b[0m \u001b[0;34m=\u001b[0m \u001b[0mdf_vectorbase\u001b[0m\u001b[0;34m.\u001b[0m\u001b[0mcontig_n50\u001b[0m\u001b[0;34m.\u001b[0m\u001b[0mapply\u001b[0m\u001b[0;34m(\u001b[0m\u001b[0mN50_bp_to_VGP_scale\u001b[0m\u001b[0;34m)\u001b[0m\u001b[0;34m\u001b[0m\u001b[0m\n\u001b[0m\u001b[1;32m      4\u001b[0m \u001b[0mdf_vectorbase\u001b[0m\u001b[0;34m[\u001b[0m\u001b[0;34m'scaffold_VGP_Scale'\u001b[0m\u001b[0;34m]\u001b[0m \u001b[0;34m=\u001b[0m \u001b[0mdf_vectorbase\u001b[0m\u001b[0;34m.\u001b[0m\u001b[0mscaffold_n50\u001b[0m\u001b[0;34m.\u001b[0m\u001b[0mapply\u001b[0m\u001b[0;34m(\u001b[0m\u001b[0mN50_bp_to_VGP_scale\u001b[0m\u001b[0;34m)\u001b[0m\u001b[0;34m\u001b[0m\u001b[0m\n\u001b[1;32m      5\u001b[0m \u001b[0mdf_vectorbase\u001b[0m\u001b[0;34m[\u001b[0m\u001b[0;34m'VGP_assembly_score'\u001b[0m\u001b[0;34m]\u001b[0m \u001b[0;34m=\u001b[0m \u001b[0mdf_vectorbase\u001b[0m\u001b[0;34m.\u001b[0m\u001b[0mcontig_VGP_Scale\u001b[0m \u001b[0;34m+\u001b[0m \u001b[0mdf_vectorbase\u001b[0m\u001b[0;34m.\u001b[0m\u001b[0mscaffold_VGP_Scale\u001b[0m\u001b[0;34m/\u001b[0m\u001b[0;36m10\u001b[0m\u001b[0;34m\u001b[0m\u001b[0m\n",
      "\u001b[0;32m/Users/dmolik/Library/Python/2.7/lib/python/site-packages/pandas/core/series.pyc\u001b[0m in \u001b[0;36mapply\u001b[0;34m(self, func, convert_dtype, args, **kwds)\u001b[0m\n\u001b[1;32m   3589\u001b[0m             \u001b[0;32melse\u001b[0m\u001b[0;34m:\u001b[0m\u001b[0;34m\u001b[0m\u001b[0m\n\u001b[1;32m   3590\u001b[0m                 \u001b[0mvalues\u001b[0m \u001b[0;34m=\u001b[0m \u001b[0mself\u001b[0m\u001b[0;34m.\u001b[0m\u001b[0mastype\u001b[0m\u001b[0;34m(\u001b[0m\u001b[0mobject\u001b[0m\u001b[0;34m)\u001b[0m\u001b[0;34m.\u001b[0m\u001b[0mvalues\u001b[0m\u001b[0;34m\u001b[0m\u001b[0m\n\u001b[0;32m-> 3591\u001b[0;31m                 \u001b[0mmapped\u001b[0m \u001b[0;34m=\u001b[0m \u001b[0mlib\u001b[0m\u001b[0;34m.\u001b[0m\u001b[0mmap_infer\u001b[0m\u001b[0;34m(\u001b[0m\u001b[0mvalues\u001b[0m\u001b[0;34m,\u001b[0m \u001b[0mf\u001b[0m\u001b[0;34m,\u001b[0m \u001b[0mconvert\u001b[0m\u001b[0;34m=\u001b[0m\u001b[0mconvert_dtype\u001b[0m\u001b[0;34m)\u001b[0m\u001b[0;34m\u001b[0m\u001b[0m\n\u001b[0m\u001b[1;32m   3592\u001b[0m \u001b[0;34m\u001b[0m\u001b[0m\n\u001b[1;32m   3593\u001b[0m         \u001b[0;32mif\u001b[0m \u001b[0mlen\u001b[0m\u001b[0;34m(\u001b[0m\u001b[0mmapped\u001b[0m\u001b[0;34m)\u001b[0m \u001b[0;32mand\u001b[0m \u001b[0misinstance\u001b[0m\u001b[0;34m(\u001b[0m\u001b[0mmapped\u001b[0m\u001b[0;34m[\u001b[0m\u001b[0;36m0\u001b[0m\u001b[0;34m]\u001b[0m\u001b[0;34m,\u001b[0m \u001b[0mSeries\u001b[0m\u001b[0;34m)\u001b[0m\u001b[0;34m:\u001b[0m\u001b[0;34m\u001b[0m\u001b[0m\n",
      "\u001b[0;32mpandas/_libs/lib.pyx\u001b[0m in \u001b[0;36mpandas._libs.lib.map_infer\u001b[0;34m()\u001b[0m\n",
      "\u001b[0;32m<ipython-input-67-71d2465eedc2>\u001b[0m in \u001b[0;36mN50_bp_to_VGP_scale\u001b[0;34m(N50)\u001b[0m\n\u001b[1;32m      2\u001b[0m \u001b[0;32mdef\u001b[0m \u001b[0mN50_bp_to_VGP_scale\u001b[0m\u001b[0;34m(\u001b[0m\u001b[0mN50\u001b[0m\u001b[0;34m)\u001b[0m\u001b[0;34m:\u001b[0m\u001b[0;34m\u001b[0m\u001b[0m\n\u001b[1;32m      3\u001b[0m     \u001b[0mN50\u001b[0m \u001b[0;34m=\u001b[0m \u001b[0mint\u001b[0m\u001b[0;34m(\u001b[0m\u001b[0mN50\u001b[0m\u001b[0;34m)\u001b[0m\u001b[0;34m\u001b[0m\u001b[0m\n\u001b[0;32m----> 4\u001b[0;31m     \u001b[0mVGP_num\u001b[0m \u001b[0;34m=\u001b[0m \u001b[0mround\u001b[0m\u001b[0;34m(\u001b[0m\u001b[0mmath\u001b[0m\u001b[0;34m.\u001b[0m\u001b[0mlog10\u001b[0m\u001b[0;34m(\u001b[0m\u001b[0mN50\u001b[0m\u001b[0;34m/\u001b[0m\u001b[0;36m1000\u001b[0m\u001b[0;34m)\u001b[0m\u001b[0;34m)\u001b[0m\u001b[0;34m\u001b[0m\u001b[0m\n\u001b[0m\u001b[1;32m      5\u001b[0m     \u001b[0;32mreturn\u001b[0m\u001b[0;34m(\u001b[0m\u001b[0mVGP_num\u001b[0m\u001b[0;34m)\u001b[0m\u001b[0;34m\u001b[0m\u001b[0m\n\u001b[1;32m      6\u001b[0m \u001b[0;34m\u001b[0m\u001b[0m\n",
      "\u001b[0;31mNameError\u001b[0m: global name 'math' is not defined"
     ]
    }
   ],
   "source": [
    "#df_vectorbase['VGP_scale'] = pd.api  N50_bp_to_VGP_scale(df_vectorbase['contig_n50'], df_vectorbase['scaffold_n50'])\n",
    "\n",
    "df_vectorbase['contig_VGP_Scale'] = df_vectorbase.contig_n50.apply(N50_bp_to_VGP_scale)\n",
    "df_vectorbase['scaffold_VGP_Scale'] = df_vectorbase.scaffold_n50.apply(N50_bp_to_VGP_scale)\n",
    "df_vectorbase['VGP_assembly_score'] = df_vectorbase.contig_VGP_Scale + df_vectorbase.scaffold_VGP_Scale/10\n",
    "df_vectorbase.VGP_assembly_score = df_vectorbase.VGP_assembly_score.apply(float)\n",
    "df_vectorbase.head()"
   ]
  },
  {
   "cell_type": "code",
   "execution_count": 69,
   "metadata": {},
   "outputs": [
    {
     "ename": "AttributeError",
     "evalue": "'DataFrame' object has no attribute 'VGP_assembly_score'",
     "output_type": "error",
     "traceback": [
      "\u001b[0;31m---------------------------------------------------------------------------\u001b[0m",
      "\u001b[0;31mAttributeError\u001b[0m                            Traceback (most recent call last)",
      "\u001b[0;32m<ipython-input-69-3b12858058ba>\u001b[0m in \u001b[0;36m<module>\u001b[0;34m()\u001b[0m\n\u001b[0;32m----> 1\u001b[0;31m \u001b[0mdf_vectorbase\u001b[0m\u001b[0;34m.\u001b[0m\u001b[0mVGP_assembly_score\u001b[0m\u001b[0;34m.\u001b[0m\u001b[0mplot\u001b[0m\u001b[0;34m(\u001b[0m\u001b[0mkind\u001b[0m\u001b[0;34m=\u001b[0m\u001b[0;34m'hist'\u001b[0m\u001b[0;34m)\u001b[0m\u001b[0;34m\u001b[0m\u001b[0m\n\u001b[0m",
      "\u001b[0;32m/Users/dmolik/Library/Python/2.7/lib/python/site-packages/pandas/core/generic.pyc\u001b[0m in \u001b[0;36m__getattr__\u001b[0;34m(self, name)\u001b[0m\n\u001b[1;32m   5065\u001b[0m             \u001b[0;32mif\u001b[0m \u001b[0mself\u001b[0m\u001b[0;34m.\u001b[0m\u001b[0m_info_axis\u001b[0m\u001b[0;34m.\u001b[0m\u001b[0m_can_hold_identifiers_and_holds_name\u001b[0m\u001b[0;34m(\u001b[0m\u001b[0mname\u001b[0m\u001b[0;34m)\u001b[0m\u001b[0;34m:\u001b[0m\u001b[0;34m\u001b[0m\u001b[0m\n\u001b[1;32m   5066\u001b[0m                 \u001b[0;32mreturn\u001b[0m \u001b[0mself\u001b[0m\u001b[0;34m[\u001b[0m\u001b[0mname\u001b[0m\u001b[0;34m]\u001b[0m\u001b[0;34m\u001b[0m\u001b[0m\n\u001b[0;32m-> 5067\u001b[0;31m             \u001b[0;32mreturn\u001b[0m \u001b[0mobject\u001b[0m\u001b[0;34m.\u001b[0m\u001b[0m__getattribute__\u001b[0m\u001b[0;34m(\u001b[0m\u001b[0mself\u001b[0m\u001b[0;34m,\u001b[0m \u001b[0mname\u001b[0m\u001b[0;34m)\u001b[0m\u001b[0;34m\u001b[0m\u001b[0m\n\u001b[0m\u001b[1;32m   5068\u001b[0m \u001b[0;34m\u001b[0m\u001b[0m\n\u001b[1;32m   5069\u001b[0m     \u001b[0;32mdef\u001b[0m \u001b[0m__setattr__\u001b[0m\u001b[0;34m(\u001b[0m\u001b[0mself\u001b[0m\u001b[0;34m,\u001b[0m \u001b[0mname\u001b[0m\u001b[0;34m,\u001b[0m \u001b[0mvalue\u001b[0m\u001b[0;34m)\u001b[0m\u001b[0;34m:\u001b[0m\u001b[0;34m\u001b[0m\u001b[0m\n",
      "\u001b[0;31mAttributeError\u001b[0m: 'DataFrame' object has no attribute 'VGP_assembly_score'"
     ]
    }
   ],
   "source": [
    "df_vectorbase.VGP_assembly_score.plot(kind='hist')"
   ]
  },
  {
   "cell_type": "markdown",
   "metadata": {},
   "source": [
    "# I'm not sure I like this very much!"
   ]
  },
  {
   "cell_type": "code",
   "execution_count": null,
   "metadata": {},
   "outputs": [],
   "source": []
  },
  {
   "cell_type": "code",
   "execution_count": null,
   "metadata": {},
   "outputs": [],
   "source": []
  }
 ],
 "metadata": {
  "kernelspec": {
   "display_name": "Python 3",
   "language": "python",
   "name": "python3"
  },
  "language_info": {
   "codemirror_mode": {
    "name": "ipython",
    "version": 2
   },
   "file_extension": ".py",
   "mimetype": "text/x-python",
   "name": "python",
   "nbconvert_exporter": "python",
   "pygments_lexer": "ipython2",
   "version": "2.7.16"
  }
 },
 "nbformat": 4,
 "nbformat_minor": 4
}
